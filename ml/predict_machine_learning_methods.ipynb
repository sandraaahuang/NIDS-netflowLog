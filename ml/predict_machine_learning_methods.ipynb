{
  "cells": [
    {
      "cell_type": "markdown",
      "metadata": {
        "id": "iGRh2KNCZwpl"
      },
      "source": [
        "# Predict ML Methods\n",
        "- Environment setup\n",
        "- Load selected features\n",
        "- Load CIC-IDS2017 improved version, CES-CIC-IDS2018 data\n",
        "   - Generate data only contains selected features\n",
        "- Apply algorithms\n",
        "- Retrained model with misclassified data"
      ]
    },
    {
      "cell_type": "markdown",
      "source": [
        "### Environment setup"
      ],
      "metadata": {
        "id": "4oDXlY5G8YhF"
      }
    },
    {
      "cell_type": "code",
      "source": [
        "from google.colab import drive\n",
        "\n",
        "drive.mount('/content/gdrive')"
      ],
      "metadata": {
        "colab": {
          "base_uri": "https://localhost:8080/"
        },
        "id": "zzcyQx99Z1De",
        "outputId": "91897352-20ea-47ff-87d1-50472c0e350d"
      },
      "execution_count": 1,
      "outputs": [
        {
          "output_type": "stream",
          "name": "stdout",
          "text": [
            "Mounted at /content/gdrive\n"
          ]
        }
      ]
    },
    {
      "cell_type": "code",
      "source": [
        "!wget https://downloads.rclone.org/v1.63.0/rclone-v1.63.0-linux-amd64.deb\n",
        "!apt install ./rclone-v1.63.0-linux-amd64.deb\n",
        "!rclone config\n",
        "!sudo apt-get -y install fuse3"
      ],
      "metadata": {
        "colab": {
          "base_uri": "https://localhost:8080/"
        },
        "id": "yL1OSJ1BZ-yn",
        "outputId": "d8d20ba3-df79-4445-c8a5-ab0ddaaa813c"
      },
      "execution_count": 2,
      "outputs": [
        {
          "output_type": "stream",
          "name": "stdout",
          "text": [
            "--2023-08-19 05:50:32--  https://downloads.rclone.org/v1.63.0/rclone-v1.63.0-linux-amd64.deb\n",
            "Resolving downloads.rclone.org (downloads.rclone.org)... 95.217.6.16, 2a01:4f9:c012:7154::1\n",
            "Connecting to downloads.rclone.org (downloads.rclone.org)|95.217.6.16|:443... connected.\n",
            "HTTP request sent, awaiting response... 200 OK\n",
            "Length: 18373062 (18M) [application/vnd.debian.binary-package]\n",
            "Saving to: ‘rclone-v1.63.0-linux-amd64.deb’\n",
            "\n",
            "rclone-v1.63.0-linu 100%[===================>]  17.52M  43.4MB/s    in 0.4s    \n",
            "\n",
            "2023-08-19 05:50:32 (43.4 MB/s) - ‘rclone-v1.63.0-linux-amd64.deb’ saved [18373062/18373062]\n",
            "\n",
            "Reading package lists... Done\n",
            "Building dependency tree... Done\n",
            "Reading state information... Done\n",
            "Note, selecting 'rclone' instead of './rclone-v1.63.0-linux-amd64.deb'\n",
            "The following NEW packages will be installed:\n",
            "  rclone\n",
            "0 upgraded, 1 newly installed, 0 to remove and 16 not upgraded.\n",
            "Need to get 0 B/18.4 MB of archives.\n",
            "After this operation, 56.7 MB of additional disk space will be used.\n",
            "Get:1 /content/rclone-v1.63.0-linux-amd64.deb rclone amd64 1.63.0 [18.4 MB]\n",
            "Selecting previously unselected package rclone.\n",
            "(Reading database ... 120831 files and directories currently installed.)\n",
            "Preparing to unpack .../rclone-v1.63.0-linux-amd64.deb ...\n",
            "Unpacking rclone (1.63.0) ...\n",
            "Setting up rclone (1.63.0) ...\n",
            "Processing triggers for man-db (2.10.2-1) ...\n",
            "2023/08/19 05:50:38 NOTICE: Config file \"/root/.config/rclone/rclone.conf\" not found - using defaults\n",
            "No remotes found, make a new one?\n",
            "n) New remote\n",
            "s) Set configuration password\n",
            "q) Quit config\n",
            "n/s/q> n\n",
            "\n",
            "Enter name for new remote.\n",
            "name> onedrive\n",
            "\n",
            "Option Storage.\n",
            "Type of storage to configure.\n",
            "Choose a number from below, or type in your own value.\n",
            "\u001b[91m 1 / 1Fichier\n",
            "   \\ (fichier)\n",
            "\u001b[0m\u001b[92m 2 / Akamai NetStorage\n",
            "   \\ (netstorage)\n",
            "\u001b[0m\u001b[91m 3 / Alias for an existing remote\n",
            "   \\ (alias)\n",
            "\u001b[0m\u001b[92m 4 / Amazon Drive\n",
            "   \\ (amazon cloud drive)\n",
            "\u001b[0m\u001b[91m 5 / Amazon S3 Compliant Storage Providers including AWS, Alibaba, ArvanCloud, Ceph, China Mobile, Cloudflare, GCS, DigitalOcean, Dreamhost, Huawei OBS, IBM COS, IDrive e2, IONOS Cloud, Liara, Lyve Cloud, Minio, Netease, Petabox, RackCorp, Scaleway, SeaweedFS, StackPath, Storj, Tencent COS, Qiniu and Wasabi\n",
            "   \\ (s3)\n",
            "\u001b[0m\u001b[92m 6 / Backblaze B2\n",
            "   \\ (b2)\n",
            "\u001b[0m\u001b[91m 7 / Better checksums for other remotes\n",
            "   \\ (hasher)\n",
            "\u001b[0m\u001b[92m 8 / Box\n",
            "   \\ (box)\n",
            "\u001b[0m\u001b[91m 9 / Cache a remote\n",
            "   \\ (cache)\n",
            "\u001b[0m\u001b[92m10 / Citrix Sharefile\n",
            "   \\ (sharefile)\n",
            "\u001b[0m\u001b[91m11 / Combine several remotes into one\n",
            "   \\ (combine)\n",
            "\u001b[0m\u001b[92m12 / Compress a remote\n",
            "   \\ (compress)\n",
            "\u001b[0m\u001b[91m13 / Dropbox\n",
            "   \\ (dropbox)\n",
            "\u001b[0m\u001b[92m14 / Encrypt/Decrypt a remote\n",
            "   \\ (crypt)\n",
            "\u001b[0m\u001b[91m15 / Enterprise File Fabric\n",
            "   \\ (filefabric)\n",
            "\u001b[0m\u001b[92m16 / FTP\n",
            "   \\ (ftp)\n",
            "\u001b[0m\u001b[91m17 / Google Cloud Storage (this is not Google Drive)\n",
            "   \\ (google cloud storage)\n",
            "\u001b[0m\u001b[92m18 / Google Drive\n",
            "   \\ (drive)\n",
            "\u001b[0m\u001b[91m19 / Google Photos\n",
            "   \\ (google photos)\n",
            "\u001b[0m\u001b[92m20 / HTTP\n",
            "   \\ (http)\n",
            "\u001b[0m\u001b[91m21 / Hadoop distributed file system\n",
            "   \\ (hdfs)\n",
            "\u001b[0m\u001b[92m22 / HiDrive\n",
            "   \\ (hidrive)\n",
            "\u001b[0m\u001b[91m23 / In memory object storage system.\n",
            "   \\ (memory)\n",
            "\u001b[0m\u001b[92m24 / Internet Archive\n",
            "   \\ (internetarchive)\n",
            "\u001b[0m\u001b[91m25 / Jottacloud\n",
            "   \\ (jottacloud)\n",
            "\u001b[0m\u001b[92m26 / Koofr, Digi Storage and other Koofr-compatible storage providers\n",
            "   \\ (koofr)\n",
            "\u001b[0m\u001b[91m27 / Local Disk\n",
            "   \\ (local)\n",
            "\u001b[0m\u001b[92m28 / Mail.ru Cloud\n",
            "   \\ (mailru)\n",
            "\u001b[0m\u001b[91m29 / Mega\n",
            "   \\ (mega)\n",
            "\u001b[0m\u001b[92m30 / Microsoft Azure Blob Storage\n",
            "   \\ (azureblob)\n",
            "\u001b[0m\u001b[91m31 / Microsoft OneDrive\n",
            "   \\ (onedrive)\n",
            "\u001b[0m\u001b[92m32 / OpenDrive\n",
            "   \\ (opendrive)\n",
            "\u001b[0m\u001b[91m33 / OpenStack Swift (Rackspace Cloud Files, Blomp Cloud Storage, Memset Memstore, OVH)\n",
            "   \\ (swift)\n",
            "\u001b[0m\u001b[92m34 / Oracle Cloud Infrastructure Object Storage\n",
            "   \\ (oracleobjectstorage)\n",
            "\u001b[0m\u001b[91m35 / Pcloud\n",
            "   \\ (pcloud)\n",
            "\u001b[0m\u001b[92m36 / PikPak\n",
            "   \\ (pikpak)\n",
            "\u001b[0m\u001b[91m37 / Put.io\n",
            "   \\ (putio)\n",
            "\u001b[0m\u001b[92m38 / QingCloud Object Storage\n",
            "   \\ (qingstor)\n",
            "\u001b[0m\u001b[91m39 / SMB / CIFS\n",
            "   \\ (smb)\n",
            "\u001b[0m\u001b[92m40 / SSH/SFTP\n",
            "   \\ (sftp)\n",
            "\u001b[0m\u001b[91m41 / Sia Decentralized Cloud\n",
            "   \\ (sia)\n",
            "\u001b[0m\u001b[92m42 / Storj Decentralized Cloud Storage\n",
            "   \\ (storj)\n",
            "\u001b[0m\u001b[91m43 / Sugarsync\n",
            "   \\ (sugarsync)\n",
            "\u001b[0m\u001b[92m44 / Transparently chunk/split large files\n",
            "   \\ (chunker)\n",
            "\u001b[0m\u001b[91m45 / Union merges the contents of several upstream fs\n",
            "   \\ (union)\n",
            "\u001b[0m\u001b[92m46 / Uptobox\n",
            "   \\ (uptobox)\n",
            "\u001b[0m\u001b[91m47 / WebDAV\n",
            "   \\ (webdav)\n",
            "\u001b[0m\u001b[92m48 / Yandex Disk\n",
            "   \\ (yandex)\n",
            "\u001b[0m\u001b[91m49 / Zoho\n",
            "   \\ (zoho)\n",
            "\u001b[0m\u001b[92m50 / premiumize.me\n",
            "   \\ (premiumizeme)\n",
            "\u001b[0m\u001b[91m51 / seafile\n",
            "   \\ (seafile)\n",
            "\u001b[0mStorage> 31\n",
            "\n",
            "Option client_id.\n",
            "OAuth Client Id.\n",
            "Leave blank normally.\n",
            "Enter a value. Press Enter to leave empty.\n",
            "client_id> \n",
            "\n",
            "Option client_secret.\n",
            "OAuth Client Secret.\n",
            "Leave blank normally.\n",
            "Enter a value. Press Enter to leave empty.\n",
            "client_secret> \n",
            "\n",
            "Option region.\n",
            "Choose national cloud region for OneDrive.\n",
            "Choose a number from below, or type in your own string value.\n",
            "Press Enter for the default (global).\n",
            "\u001b[91m 1 / Microsoft Cloud Global\n",
            "   \\ (global)\n",
            "\u001b[0m\u001b[92m 2 / Microsoft Cloud for US Government\n",
            "   \\ (us)\n",
            "\u001b[0m\u001b[91m 3 / Microsoft Cloud Germany\n",
            "   \\ (de)\n",
            "\u001b[0m\u001b[92m 4 / Azure and Office 365 operated by Vnet Group in China\n",
            "   \\ (cn)\n",
            "\u001b[0mregion> \n",
            "\n",
            "Edit advanced config?\n",
            "y) Yes\n",
            "n) No (default)\n",
            "y/n> n\n",
            "\n",
            "Use web browser to automatically authenticate rclone with remote?\n",
            " * Say Y if the machine running rclone has a web browser you can use\n",
            " * Say N if running rclone on a (remote) machine without web browser access\n",
            "If not sure try Y. If Y failed, try N.\n",
            "\n",
            "y) Yes (default)\n",
            "n) No\n",
            "y/n> n\n",
            "\n",
            "Option config_token.\n",
            "For this to work, you will need rclone available on a machine that has\n",
            "a web browser available.\n",
            "For more help and alternate methods see: https://rclone.org/remote_setup/\n",
            "Execute the following on the machine with the web browser (same rclone\n",
            "version recommended):\n",
            "\trclone authorize \"onedrive\"\n",
            "Then paste the result.\n",
            "Enter a value.\n",
            "config_token> {\"access_token\":\"eyJ0eXAiOiJKV1QiLCJub25jZSI6ImdJQUhWMXBvZVFUWGJMTVAwYkFPSktlNkhkRGdqX2hOU2dKQXpZaEhlT1kiLCJhbGciOiJSUzI1NiIsIng1dCI6Ii1LSTNROW5OUjdiUm9meG1lWm9YcWJIWkdldyIsImtpZCI6Ii1LSTNROW5OUjdiUm9meG1lWm9YcWJIWkdldyJ9.eyJhdWQiOiIwMDAwMDAwMy0wMDAwLTAwMDAtYzAwMC0wMDAwMDAwMDAwMDAiLCJpc3MiOiJodHRwczovL3N0cy53aW5kb3dzLm5ldC9iMmU0N2YzMC1jZDdkLTRhNGUtYTVkYS1iMThjZjFhNDE1MWIvIiwiaWF0IjoxNjkyMzE3NzU4LCJuYmYiOjE2OTIzMTc3NTgsImV4cCI6MTY5MjMyMjc1MywiYWNjdCI6MCwiYWNyIjoiMSIsImFpbyI6IkFWUUFxLzhVQUFBQXFVM0x1a2dkdkkwS2Jpd0FRV3UwcHh5WnpzbVE2aTdOZzBrdm9EOXBKcWpCYWlsZXpyVGJXUUpOVDV1S3hXQU1sOHljdjVqVEo3ZnVMSXJZOFRFS0k3T0JQQVRmS0dRbzV3STB5eDZ6WmhjPSIsImFtciI6WyJwd2QiLCJtZmEiXSwiYXBwX2Rpc3BsYXluYW1lIjoicmNsb25lIiwiYXBwaWQiOiJiMTU2NjVkOS1lZGE2LTQwOTItODUzOS0wZWVjMzc2YWZkNTkiLCJhcHBpZGFjciI6IjEiLCJmYW1pbHlfbmFtZSI6Ikh1YW5nIiwiZ2l2ZW5fbmFtZSI6IlNhbmRyYSIsImlkdHlwIjoidXNlciIsImlwYWRkciI6IjExNC4zNy41Ny4xMTMiLCJuYW1lIjoiU2FuZHJhIEh1YW5nIiwib2lkIjoiNWZkMjgwYTItMzhmNS00ZDk5LWE1YzEtMDJiMDdhNWMyNmNlIiwib25wcmVtX3NpZCI6IlMtMS01LTIxLTExMTc4NTAxNDUtMTY4MjExNjE5MS0xOTY1MDY1MjctMTc1Njk2OSIsInBsYXRmIjoiNSIsInB1aWQiOiIxMDAzMjAwMjIwMUI5MkY5IiwicmgiOiIwLkFRa0FNSF9rc24zTlRrcWwyckdNOGFRVkd3TUFBQUFBQUFBQXdBQUFBQUFBQUFBSkFPNC4iLCJzY3AiOiJGaWxlcy5SZWFkIEZpbGVzLlJlYWQuQWxsIEZpbGVzLlJlYWRXcml0ZSBGaWxlcy5SZWFkV3JpdGUuQWxsIFNpdGVzLlJlYWQuQWxsIHByb2ZpbGUgb3BlbmlkIGVtYWlsIiwic3ViIjoiUzNuQ0FyakRyZDR1dmZaM2htYldOTU9ITTNSX3c1U21RaTVLdzBRY01zRSIsInRlbmFudF9yZWdpb25fc2NvcGUiOiJFVSIsInRpZCI6ImIyZTQ3ZjMwLWNkN2QtNGE0ZS1hNWRhLWIxOGNmMWE0MTUxYiIsInVuaXF1ZV9uYW1lIjoia2EyMjIyMUBicmlzdG9sLmFjLnVrIiwidXBuIjoia2EyMjIyMUBicmlzdG9sLmFjLnVrIiwidXRpIjoiSktBSnlpUHU5RWlKWDNPSXlKMUhBQSIsInZlciI6IjEuMCIsIndpZHMiOlsiYjc5ZmJmNGQtM2VmOS00Njg5LTgxNDMtNzZiMTk0ZTg1NTA5Il0sInhtc19zdCI6eyJzdWIiOiI1RHY3RGhnVTFrZngxMW1KTm92LVBRaEVydkxrX0NTNXlNTVk3UTRoaG84In0sInhtc190Y2R0IjoxMzg2NTkzNzk3fQ.Z1Bweq1Ue7fvcO2bN3rHXiXRb5b2RLpwGUITEwW7uiayJiBwBXCbil2vqkOLpch-63tM_NxfirYAUzlyFSZHP0y-hISpC7_IjFmin2cVm3Fq0NG_88Ffoy-AjcuspPhcIu_ORJx1JeHgtkdR801Y2eBsjF0wOzQT16iB0qdMFX97A5UsRgcSEw_7We-Jf7CwgyGYmAb7_nN6KgKrpcZXV-iT2NOIjsLnrzD3q2vUrV9XwW5fgxKhTzi83_1VRUik-OcEzUa9r8-TZ6gxbkHG5h4A_6CaUlldIyPX7QnPMv0VKTdgVzCoQ3ahjP_A5c26z3VYv-kib_bIyZdwxhAcVA\",\"token_type\":\"Bearer\",\"refresh_token\":\"0.AQkAMH_ksn3NTkql2rGM8aQVG9llVrGm7ZJAhTkO7Ddq_VkJAO4.AgABAAEAAAAtyolDObpQQ5VtlI4uGjEPAgDs_wUA9P_7jPLC-XjT3ohoF15ze8my0okcl8fjANOXT50Tw6lsmcb-hu3WOVSdOdzAMnOEfVUxONxwXv4MrsaLdJCJoE0KoWkQtSy2hgc7Usz1DNlwVmrCp3tJR8yB9BcelJYb_G3fm_GZAGN-JQOnZCJxI6NWC_hPGHcI7V-4azTl1HQtvXZfas0ezhVrBn9iDG7t-fuqpTkcdsu0RmdtO-HozXw32LKavL19gNmSKGexkSnlRLOnxF_pU0y7HpCjIwzrb-nSKBDZ0uMjhXN8eKxBA1NhM8T1H1xVzTDZXafy_RNSQ4ae9ga3az0ynBFNAI-BQj3dMdMuL-KAWO6nz9VRlFtUW0-J2FKEw2Pf3vPbS39bQwI3_a7vX2YNYhmqEqK9Gnc5sVgI2COobk2KyGcjrzfhG6awzZ7_vpYMzERWS3ZfCBWQRlW2QgtEfj3jHgtAKgbAtB0lHcJMDlTkAZkLGCOirRlgaHNGZgixHN0uBbmbsfkYLdiVt0UcgZWUYLGqG8j7JiVkoBNciGvDqLz2bVqzAsjoor1xZPhgbs-rCmVL9_k3CnOG_ggXFxFegjWFGrmYplL3i4YilOz7dcve1orJiujn9HDna70fOb4prC3IN8wG7biSw2QJxp73zaoP3IG_RZ4iA_KNgVR0KQgU3weNvBoinchTTHxu7z_4Mp-clW1uVAn3WUsTEbp42AbsdjHDIcrapvEmehpdTqUAVvKvQ_BRf_3jJ9rPKe5QDTKNdaA5gWclhzY9nlcylb7Jl0nqMRNNDtGQ0v4GquOPomA3UpQK-nR7PRM36w\",\"expiry\":\"2023-08-18T09:39:12.464599+08:00\"}\n",
            "\n",
            "Option config_type.\n",
            "Type of connection\n",
            "Choose a number from below, or type in an existing string value.\n",
            "Press Enter for the default (onedrive).\n",
            "\u001b[91m 1 / OneDrive Personal or Business\n",
            "   \\ (onedrive)\n",
            "\u001b[0m\u001b[92m 2 / Root Sharepoint site\n",
            "   \\ (sharepoint)\n",
            "\u001b[0m\u001b[91m   / Sharepoint site name or URL\n",
            " 3 | E.g. mysite or https://contoso.sharepoint.com/sites/mysite\n",
            "   \\ (url)\n",
            "\u001b[0m\u001b[92m 4 / Search for a Sharepoint site\n",
            "   \\ (search)\n",
            "\u001b[0m\u001b[91m 5 / Type in driveID (advanced)\n",
            "   \\ (driveid)\n",
            "\u001b[0m\u001b[92m 6 / Type in SiteID (advanced)\n",
            "   \\ (siteid)\n",
            "\u001b[0m\u001b[91m   / Sharepoint server-relative path (advanced)\n",
            " 7 | E.g. /teams/hr\n",
            "   \\ (path)\n",
            "\u001b[0mconfig_type> 1\n",
            "\n",
            "\n",
            "\n",
            "\n",
            "Option config_driveid.\n",
            "Select drive you want to use\n",
            "Choose a number from below, or type in your own string value.\n",
            "Press Enter for the default (b!lxJ2CtDtE0y1d5O5_Hn2qdQ6ZJjeIT1LtaoReaus3Wlwm9t7gNa2SqqpgSW-_9kW).\n",
            "\u001b[91m 1 / OneDrive (business)\n",
            "   \\ (b!lxJ2CtDtE0y1d5O5_Hn2qdQ6ZJjeIT1LtaoReaus3Wlwm9t7gNa2SqqpgSW-_9kW)\n",
            "\u001b[0mconfig_driveid> \n",
            "q\n",
            "Drive OK?\n",
            "\n",
            "Found drive \"root\" of type \"business\"\n",
            "URL: https://uob-my.sharepoint.com/personal/ka22221_bristol_ac_uk/Documents\n",
            "\n",
            "y) Yes (default)\n",
            "n) No\n",
            "y/n> \n",
            "Configuration complete.\n",
            "Options:\n",
            "- type: onedrive\n",
            "- token: {\"access_token\":\"eyJ0eXAiOiJKV1QiLCJub25jZSI6Ik4zR2oyUmZsQ3A1TUNBanZWTEdNTzl4RlhoNjc3SXBqM1VmLUNXTDJIeVkiLCJhbGciOiJSUzI1NiIsIng1dCI6Ii1LSTNROW5OUjdiUm9meG1lWm9YcWJIWkdldyIsImtpZCI6Ii1LSTNROW5OUjdiUm9meG1lWm9YcWJIWkdldyJ9.eyJhdWQiOiIwMDAwMDAwMy0wMDAwLTAwMDAtYzAwMC0wMDAwMDAwMDAwMDAiLCJpc3MiOiJodHRwczovL3N0cy53aW5kb3dzLm5ldC9iMmU0N2YzMC1jZDdkLTRhNGUtYTVkYS1iMThjZjFhNDE1MWIvIiwiaWF0IjoxNjkyNDI0MDE0LCJuYmYiOjE2OTI0MjQwMTQsImV4cCI6MTY5MjQyODMwNiwiYWNjdCI6MCwiYWNyIjoiMSIsImFpbyI6IkFWUUFxLzhVQUFBQXRFaExCQXBsWXRzUFp6Z09iR3ZkQUJFSFBsNDEwZXdzS3FWMUdEOU1xUFR1NW1Bc1cySjczUWI1YndzSVJaVTBsakttK3dXR1BzdTFDWEVXS0x2aExvS014QXFMaU02NEo2ZTVlQ0NCWDRrPSIsImFtciI6WyJwd2QiLCJtZmEiXSwiYXBwX2Rpc3BsYXluYW1lIjoicmNsb25lIiwiYXBwaWQiOiJiMTU2NjVkOS1lZGE2LTQwOTItODUzOS0wZWVjMzc2YWZkNTkiLCJhcHBpZGFjciI6IjEiLCJmYW1pbHlfbmFtZSI6Ikh1YW5nIiwiZ2l2ZW5fbmFtZSI6IlNhbmRyYSIsImlkdHlwIjoidXNlciIsImlwYWRkciI6IjExNC4zNy41Ny4xMTMiLCJuYW1lIjoiU2FuZHJhIEh1YW5nIiwib2lkIjoiNWZkMjgwYTItMzhmNS00ZDk5LWE1YzEtMDJiMDdhNWMyNmNlIiwib25wcmVtX3NpZCI6IlMtMS01LTIxLTExMTc4NTAxNDUtMTY4MjExNjE5MS0xOTY1MDY1MjctMTc1Njk2OSIsInBsYXRmIjoiNSIsInB1aWQiOiIxMDAzMjAwMjIwMUI5MkY5IiwicmgiOiIwLkFRa0FNSF9rc24zTlRrcWwyckdNOGFRVkd3TUFBQUFBQUFBQXdBQUFBQUFBQUFBSkFPNC4iLCJzY3AiOiJGaWxlcy5SZWFkIEZpbGVzLlJlYWQuQWxsIEZpbGVzLlJlYWRXcml0ZSBGaWxlcy5SZWFkV3JpdGUuQWxsIFNpdGVzLlJlYWQuQWxsIHByb2ZpbGUgb3BlbmlkIGVtYWlsIiwic3ViIjoiUzNuQ0FyakRyZDR1dmZaM2htYldOTU9ITTNSX3c1U21RaTVLdzBRY01zRSIsInRlbmFudF9yZWdpb25fc2NvcGUiOiJFVSIsInRpZCI6ImIyZTQ3ZjMwLWNkN2QtNGE0ZS1hNWRhLWIxOGNmMWE0MTUxYiIsInVuaXF1ZV9uYW1lIjoia2EyMjIyMUBicmlzdG9sLmFjLnVrIiwidXBuIjoia2EyMjIyMUBicmlzdG9sLmFjLnVrIiwidXRpIjoiQVJJM3AxUTR0MENzbUlpTXk0RVBBQSIsInZlciI6IjEuMCIsIndpZHMiOlsiYjc5ZmJmNGQtM2VmOS00Njg5LTgxNDMtNzZiMTk0ZTg1NTA5Il0sInhtc19zdCI6eyJzdWIiOiI1RHY3RGhnVTFrZngxMW1KTm92LVBRaEVydkxrX0NTNXlNTVk3UTRoaG84In0sInhtc190Y2R0IjoxMzg2NTkzNzk3fQ.ZBz4Xk5FRz1Bl6YTEhjPzES41GqK6qVoB9l76LIpO8QAnoepThS48_oXbzCyuM0UDT-5f-noJezPplNwUF2nRFRb4wV1rFQh95RWxE7UjfERSc7QjEfaXBDQrQATBlhaACCGjY6O2DFPe6SSGbT9MJTZpNydoOjUHWQNLiwc9I-nG_g5UKweiI3sjAqVwi5do2YhHXxjno2oDCWGs31FbQxTXa4y6LPhidoEiO2ZZLKOIppuUf-XGJhhXQzciDASxJbT_uHfL3Rzse3GP_gBJfs93lYf9917sLPrKDvMNZospyptwbWMAEBi9ejz1RJknpno6A2BFZguVA5dxDWzbw\",\"token_type\":\"Bearer\",\"refresh_token\":\"0.AQkAMH_ksn3NTkql2rGM8aQVG9llVrGm7ZJAhTkO7Ddq_VkJAO4.AgABAAEAAAAtyolDObpQQ5VtlI4uGjEPAgDs_wUA9P-6nxZfQDRXes6w4BQRucm6yhdHEx93hw8gwXDmjWAJoIw0NPXidN8tHjtpWQdOI9Pnn1jFQyslz6XIPpY7GAfT3hCpDQJ5lHPp_BCsJ1yrVYqmvx0-nZ-yu0DFhZBPBG30twSoXOrrNtas3odeh9a5OPmu7q_8aKWOpy1rTMgmFL5ZtV2ZkPK6ij2ZOLvnjycrJuMGM1rWsTYsUr711ehT9hP2pvJ4EwfIgT2TeAyL9H93u7MIi7X7WdEKxtSmL9TkJ9MSlIpYA5-3Z66FroZhSfrL6O_Vqri6XTr-YofvmAh1LCPE5go4uC84nbEwh4yiO03VDXnRn7QSuPB_eTWswve63x2aGWb01QkHFQn9LkfUMcCPV6PNzz3BWNQT1W-kW820V8C7lN75FE7h1G9xBxp_zJF-t4Iud9rhT0T3SeZc6A-XYOPxFeWuMXGU8GtXc4OT0r2W40MvzPJ7swG8d-UDXdKu1h22UENGnjNEmYr1xC11wbvR3OsekD_St9qOSooCM4PTRSozXLz3atA-YAMBZ8mEbrJZ1Jk4NXVCDVEAwhLWZyuOyOPFhL70cmHwUHsrpalHibi-ZqcCvz4Rhz7XfpWPbM1z6A2JWz9mVmYliWFVIQPUXK34tzvIEwAkfjLC5mpcX9CJ2ypGxdNXSEZV1YZ3SlR6fqDmd2Ay2z26XZUjZ3ZpkkYyCgsExZbEuQ9Hq8PAAGdl83QhpBuqvEDNvOEEtXXWB6oz_QLDkvmMEPN4ANRTC24q5YN0ybyFO8KPcugFKF_SEpvmP9gd6ensEtlDh26ilA\",\"expiry\":\"2023-08-19T06:58:25.250694232Z\"}\n",
            "- drive_id: b!lxJ2CtDtE0y1d5O5_Hn2qdQ6ZJjeIT1LtaoReaus3Wlwm9t7gNa2SqqpgSW-_9kW\n",
            "- drive_type: business\n",
            "Keep this \"onedrive\" remote?\n",
            "y) Yes this is OK (default)\n",
            "e) Edit this remote\n",
            "d) Delete this remote\n",
            "y/e/d> \n",
            "Current remotes:\n",
            "\n",
            "Name                 Type\n",
            "====                 ====\n",
            "onedrive             onedrive\n",
            "\n",
            "e) Edit existing remote\n",
            "n) New remote\n",
            "d) Delete remote\n",
            "r) Rename remote\n",
            "c) Copy remote\n",
            "s) Set configuration password\n",
            "q) Quit config\n",
            "Reading package lists... Done\n",
            "Building dependency tree... Done\n",
            "Reading state information... Done\n",
            "The following package was automatically installed and is no longer required:\n",
            "  libfuse2\n",
            "Use 'sudo apt autoremove' to remove it.\n",
            "The following additional packages will be installed:\n",
            "  libfuse3-3\n",
            "The following packages will be REMOVED:\n",
            "  fuse\n",
            "The following NEW packages will be installed:\n",
            "  fuse3 libfuse3-3\n",
            "0 upgraded, 2 newly installed, 1 to remove and 16 not upgraded.\n",
            "Need to get 106 kB of archives.\n",
            "After this operation, 264 kB of additional disk space will be used.\n",
            "Get:1 http://archive.ubuntu.com/ubuntu jammy/main amd64 libfuse3-3 amd64 3.10.5-1build1 [81.2 kB]\n",
            "Get:2 http://archive.ubuntu.com/ubuntu jammy/main amd64 fuse3 amd64 3.10.5-1build1 [24.7 kB]\n",
            "Fetched 106 kB in 0s (213 kB/s)\n",
            "debconf: unable to initialize frontend: Dialog\n",
            "debconf: (No usable dialog-like program is installed, so the dialog based frontend cannot be used. at /usr/share/perl5/Debconf/FrontEnd/Dialog.pm line 78, <> line 2.)\n",
            "debconf: falling back to frontend: Readline\n",
            "debconf: unable to initialize frontend: Readline\n",
            "debconf: (This frontend requires a controlling tty.)\n",
            "debconf: falling back to frontend: Teletype\n",
            "dpkg-preconfigure: unable to re-open stdin: \n",
            "(Reading database ... 120836 files and directories currently installed.)\n",
            "Removing fuse (2.9.9-5ubuntu3) ...\n",
            "Selecting previously unselected package libfuse3-3:amd64.\n",
            "(Reading database ... 120826 files and directories currently installed.)\n",
            "Preparing to unpack .../libfuse3-3_3.10.5-1build1_amd64.deb ...\n",
            "Unpacking libfuse3-3:amd64 (3.10.5-1build1) ...\n",
            "Selecting previously unselected package fuse3.\n",
            "Preparing to unpack .../fuse3_3.10.5-1build1_amd64.deb ...\n",
            "Unpacking fuse3 (3.10.5-1build1) ...\n",
            "Setting up libfuse3-3:amd64 (3.10.5-1build1) ...\n",
            "Setting up fuse3 (3.10.5-1build1) ...\n",
            "Installing new version of config file /etc/fuse.conf ...\n",
            "Processing triggers for man-db (2.10.2-1) ...\n",
            "Processing triggers for libc-bin (2.35-0ubuntu3.1) ...\n",
            "/sbin/ldconfig.real: /usr/local/lib/libtbb.so.12 is not a symbolic link\n",
            "\n",
            "/sbin/ldconfig.real: /usr/local/lib/libtbbmalloc.so.2 is not a symbolic link\n",
            "\n",
            "/sbin/ldconfig.real: /usr/local/lib/libtbbmalloc_proxy.so.2 is not a symbolic link\n",
            "\n",
            "/sbin/ldconfig.real: /usr/local/lib/libtbbbind_2_5.so.3 is not a symbolic link\n",
            "\n",
            "/sbin/ldconfig.real: /usr/local/lib/libtbbbind_2_0.so.3 is not a symbolic link\n",
            "\n",
            "/sbin/ldconfig.real: /usr/local/lib/libtbbbind.so.3 is not a symbolic link\n",
            "\n"
          ]
        }
      ]
    },
    {
      "cell_type": "code",
      "source": [
        "!sudo mkdir /content/onedrive\n",
        "!nohup rclone --vfs-cache-mode writes mount onedrive: /content/onedrive &"
      ],
      "metadata": {
        "colab": {
          "base_uri": "https://localhost:8080/"
        },
        "id": "WIdx11z2aLSb",
        "outputId": "0839d911-2f47-457b-be60-2d46a46a26e0"
      },
      "execution_count": 3,
      "outputs": [
        {
          "output_type": "stream",
          "name": "stdout",
          "text": [
            "nohup: appending output to 'nohup.out'\n"
          ]
        }
      ]
    },
    {
      "cell_type": "markdown",
      "source": [
        "### Load selected features"
      ],
      "metadata": {
        "id": "Q_tC9CJd8ms1"
      }
    },
    {
      "cell_type": "code",
      "execution_count": 4,
      "metadata": {
        "id": "pEojTr5HZwpt"
      },
      "outputs": [],
      "source": [
        "# Import Necessary Libraries\n",
        "from sklearn.preprocessing import StandardScaler\n",
        "from sklearn.impute import SimpleImputer\n",
        "from sklearn.model_selection import train_test_split\n",
        "\n",
        "import matplotlib.pyplot as plt # plotting\n",
        "import numpy as np # linear algebra\n",
        "import pandas as pd # data processing, CSV file I/O (e.g. pd.read_csv)\n",
        "from sklearn.ensemble import RandomForestClassifier\n",
        "from sklearn.neighbors import KNeighborsClassifier\n",
        "from xgboost import XGBClassifier\n",
        "from sklearn.metrics import classification_report,confusion_matrix, accuracy_score # performance metrics\n",
        "import xgboost as xgb\n",
        "\n",
        "import time\n",
        "import joblib"
      ]
    },
    {
      "cell_type": "code",
      "execution_count": 14,
      "metadata": {
        "tags": [],
        "id": "jX2IQNGEZwpv"
      },
      "outputs": [],
      "source": [
        "feature_scores = pd.read_csv('/content/onedrive/features_scores.csv', names=['feature', 'importance ratio'], header=0)"
      ]
    },
    {
      "cell_type": "code",
      "execution_count": 15,
      "metadata": {
        "colab": {
          "base_uri": "https://localhost:8080/",
          "height": 423
        },
        "id": "0QxbfaPCZwpv",
        "outputId": "39fe4fc2-f029-40d1-cb3a-b2883a7a35c7"
      },
      "outputs": [
        {
          "output_type": "execute_result",
          "data": {
            "text/plain": [
              "                   feature  importance ratio\n",
              "0        Packet Length Std          0.077944\n",
              "1    Bwd Packet Length Std          0.075532\n",
              "2   Packet Length Variance          0.075460\n",
              "3   Bwd Packet Length Mean          0.069707\n",
              "4      Average Packet Size          0.051550\n",
              "..                     ...               ...\n",
              "71    Bwd Avg Packets/Bulk          0.000000\n",
              "72      Bwd Avg Bytes/Bulk          0.000000\n",
              "73       Fwd Avg Bulk Rate          0.000000\n",
              "74    Fwd Avg Packets/Bulk          0.000000\n",
              "75      Fwd Avg Bytes/Bulk          0.000000\n",
              "\n",
              "[76 rows x 2 columns]"
            ],
            "text/html": [
              "\n",
              "  <div id=\"df-cc3ef727-8477-499e-9e51-eec7aee2fd36\" class=\"colab-df-container\">\n",
              "    <div>\n",
              "<style scoped>\n",
              "    .dataframe tbody tr th:only-of-type {\n",
              "        vertical-align: middle;\n",
              "    }\n",
              "\n",
              "    .dataframe tbody tr th {\n",
              "        vertical-align: top;\n",
              "    }\n",
              "\n",
              "    .dataframe thead th {\n",
              "        text-align: right;\n",
              "    }\n",
              "</style>\n",
              "<table border=\"1\" class=\"dataframe\">\n",
              "  <thead>\n",
              "    <tr style=\"text-align: right;\">\n",
              "      <th></th>\n",
              "      <th>feature</th>\n",
              "      <th>importance ratio</th>\n",
              "    </tr>\n",
              "  </thead>\n",
              "  <tbody>\n",
              "    <tr>\n",
              "      <th>0</th>\n",
              "      <td>Packet Length Std</td>\n",
              "      <td>0.077944</td>\n",
              "    </tr>\n",
              "    <tr>\n",
              "      <th>1</th>\n",
              "      <td>Bwd Packet Length Std</td>\n",
              "      <td>0.075532</td>\n",
              "    </tr>\n",
              "    <tr>\n",
              "      <th>2</th>\n",
              "      <td>Packet Length Variance</td>\n",
              "      <td>0.075460</td>\n",
              "    </tr>\n",
              "    <tr>\n",
              "      <th>3</th>\n",
              "      <td>Bwd Packet Length Mean</td>\n",
              "      <td>0.069707</td>\n",
              "    </tr>\n",
              "    <tr>\n",
              "      <th>4</th>\n",
              "      <td>Average Packet Size</td>\n",
              "      <td>0.051550</td>\n",
              "    </tr>\n",
              "    <tr>\n",
              "      <th>...</th>\n",
              "      <td>...</td>\n",
              "      <td>...</td>\n",
              "    </tr>\n",
              "    <tr>\n",
              "      <th>71</th>\n",
              "      <td>Bwd Avg Packets/Bulk</td>\n",
              "      <td>0.000000</td>\n",
              "    </tr>\n",
              "    <tr>\n",
              "      <th>72</th>\n",
              "      <td>Bwd Avg Bytes/Bulk</td>\n",
              "      <td>0.000000</td>\n",
              "    </tr>\n",
              "    <tr>\n",
              "      <th>73</th>\n",
              "      <td>Fwd Avg Bulk Rate</td>\n",
              "      <td>0.000000</td>\n",
              "    </tr>\n",
              "    <tr>\n",
              "      <th>74</th>\n",
              "      <td>Fwd Avg Packets/Bulk</td>\n",
              "      <td>0.000000</td>\n",
              "    </tr>\n",
              "    <tr>\n",
              "      <th>75</th>\n",
              "      <td>Fwd Avg Bytes/Bulk</td>\n",
              "      <td>0.000000</td>\n",
              "    </tr>\n",
              "  </tbody>\n",
              "</table>\n",
              "<p>76 rows × 2 columns</p>\n",
              "</div>\n",
              "    <div class=\"colab-df-buttons\">\n",
              "\n",
              "  <div class=\"colab-df-container\">\n",
              "    <button class=\"colab-df-convert\" onclick=\"convertToInteractive('df-cc3ef727-8477-499e-9e51-eec7aee2fd36')\"\n",
              "            title=\"Convert this dataframe to an interactive table.\"\n",
              "            style=\"display:none;\">\n",
              "\n",
              "  <svg xmlns=\"http://www.w3.org/2000/svg\" height=\"24px\" viewBox=\"0 -960 960 960\">\n",
              "    <path d=\"M120-120v-720h720v720H120Zm60-500h600v-160H180v160Zm220 220h160v-160H400v160Zm0 220h160v-160H400v160ZM180-400h160v-160H180v160Zm440 0h160v-160H620v160ZM180-180h160v-160H180v160Zm440 0h160v-160H620v160Z\"/>\n",
              "  </svg>\n",
              "    </button>\n",
              "\n",
              "  <style>\n",
              "    .colab-df-container {\n",
              "      display:flex;\n",
              "      gap: 12px;\n",
              "    }\n",
              "\n",
              "    .colab-df-convert {\n",
              "      background-color: #E8F0FE;\n",
              "      border: none;\n",
              "      border-radius: 50%;\n",
              "      cursor: pointer;\n",
              "      display: none;\n",
              "      fill: #1967D2;\n",
              "      height: 32px;\n",
              "      padding: 0 0 0 0;\n",
              "      width: 32px;\n",
              "    }\n",
              "\n",
              "    .colab-df-convert:hover {\n",
              "      background-color: #E2EBFA;\n",
              "      box-shadow: 0px 1px 2px rgba(60, 64, 67, 0.3), 0px 1px 3px 1px rgba(60, 64, 67, 0.15);\n",
              "      fill: #174EA6;\n",
              "    }\n",
              "\n",
              "    .colab-df-buttons div {\n",
              "      margin-bottom: 4px;\n",
              "    }\n",
              "\n",
              "    [theme=dark] .colab-df-convert {\n",
              "      background-color: #3B4455;\n",
              "      fill: #D2E3FC;\n",
              "    }\n",
              "\n",
              "    [theme=dark] .colab-df-convert:hover {\n",
              "      background-color: #434B5C;\n",
              "      box-shadow: 0px 1px 3px 1px rgba(0, 0, 0, 0.15);\n",
              "      filter: drop-shadow(0px 1px 2px rgba(0, 0, 0, 0.3));\n",
              "      fill: #FFFFFF;\n",
              "    }\n",
              "  </style>\n",
              "\n",
              "    <script>\n",
              "      const buttonEl =\n",
              "        document.querySelector('#df-cc3ef727-8477-499e-9e51-eec7aee2fd36 button.colab-df-convert');\n",
              "      buttonEl.style.display =\n",
              "        google.colab.kernel.accessAllowed ? 'block' : 'none';\n",
              "\n",
              "      async function convertToInteractive(key) {\n",
              "        const element = document.querySelector('#df-cc3ef727-8477-499e-9e51-eec7aee2fd36');\n",
              "        const dataTable =\n",
              "          await google.colab.kernel.invokeFunction('convertToInteractive',\n",
              "                                                    [key], {});\n",
              "        if (!dataTable) return;\n",
              "\n",
              "        const docLinkHtml = 'Like what you see? Visit the ' +\n",
              "          '<a target=\"_blank\" href=https://colab.research.google.com/notebooks/data_table.ipynb>data table notebook</a>'\n",
              "          + ' to learn more about interactive tables.';\n",
              "        element.innerHTML = '';\n",
              "        dataTable['output_type'] = 'display_data';\n",
              "        await google.colab.output.renderOutput(dataTable, element);\n",
              "        const docLink = document.createElement('div');\n",
              "        docLink.innerHTML = docLinkHtml;\n",
              "        element.appendChild(docLink);\n",
              "      }\n",
              "    </script>\n",
              "  </div>\n",
              "\n",
              "\n",
              "<div id=\"df-9cdde486-1d98-49d2-8dcd-2be2785e40ce\">\n",
              "  <button class=\"colab-df-quickchart\" onclick=\"quickchart('df-9cdde486-1d98-49d2-8dcd-2be2785e40ce')\"\n",
              "            title=\"Suggest charts.\"\n",
              "            style=\"display:none;\">\n",
              "\n",
              "<svg xmlns=\"http://www.w3.org/2000/svg\" height=\"24px\"viewBox=\"0 0 24 24\"\n",
              "     width=\"24px\">\n",
              "    <g>\n",
              "        <path d=\"M19 3H5c-1.1 0-2 .9-2 2v14c0 1.1.9 2 2 2h14c1.1 0 2-.9 2-2V5c0-1.1-.9-2-2-2zM9 17H7v-7h2v7zm4 0h-2V7h2v10zm4 0h-2v-4h2v4z\"/>\n",
              "    </g>\n",
              "</svg>\n",
              "  </button>\n",
              "\n",
              "<style>\n",
              "  .colab-df-quickchart {\n",
              "    background-color: #E8F0FE;\n",
              "    border: none;\n",
              "    border-radius: 50%;\n",
              "    cursor: pointer;\n",
              "    display: none;\n",
              "    fill: #1967D2;\n",
              "    height: 32px;\n",
              "    padding: 0 0 0 0;\n",
              "    width: 32px;\n",
              "  }\n",
              "\n",
              "  .colab-df-quickchart:hover {\n",
              "    background-color: #E2EBFA;\n",
              "    box-shadow: 0px 1px 2px rgba(60, 64, 67, 0.3), 0px 1px 3px 1px rgba(60, 64, 67, 0.15);\n",
              "    fill: #174EA6;\n",
              "  }\n",
              "\n",
              "  [theme=dark] .colab-df-quickchart {\n",
              "    background-color: #3B4455;\n",
              "    fill: #D2E3FC;\n",
              "  }\n",
              "\n",
              "  [theme=dark] .colab-df-quickchart:hover {\n",
              "    background-color: #434B5C;\n",
              "    box-shadow: 0px 1px 3px 1px rgba(0, 0, 0, 0.15);\n",
              "    filter: drop-shadow(0px 1px 2px rgba(0, 0, 0, 0.3));\n",
              "    fill: #FFFFFF;\n",
              "  }\n",
              "</style>\n",
              "\n",
              "  <script>\n",
              "    async function quickchart(key) {\n",
              "      const charts = await google.colab.kernel.invokeFunction(\n",
              "          'suggestCharts', [key], {});\n",
              "    }\n",
              "    (() => {\n",
              "      let quickchartButtonEl =\n",
              "        document.querySelector('#df-9cdde486-1d98-49d2-8dcd-2be2785e40ce button');\n",
              "      quickchartButtonEl.style.display =\n",
              "        google.colab.kernel.accessAllowed ? 'block' : 'none';\n",
              "    })();\n",
              "  </script>\n",
              "</div>\n",
              "    </div>\n",
              "  </div>\n"
            ]
          },
          "metadata": {},
          "execution_count": 15
        }
      ],
      "source": [
        "feature_scores"
      ]
    },
    {
      "cell_type": "code",
      "execution_count": 16,
      "metadata": {
        "colab": {
          "base_uri": "https://localhost:8080/"
        },
        "id": "iKxBpF8aZwpw",
        "outputId": "34e6f15e-3570-4f6d-ed93-62dffe926dfd"
      },
      "outputs": [
        {
          "output_type": "execute_result",
          "data": {
            "text/plain": [
              "['Packet Length Std',\n",
              " 'Bwd Packet Length Std',\n",
              " 'Packet Length Variance',\n",
              " 'Bwd Packet Length Mean',\n",
              " 'Average Packet Size',\n",
              " 'Bwd Packet Length Max',\n",
              " 'Avg Bwd Segment Size',\n",
              " 'Packet Length Mean',\n",
              " 'Max Packet Length',\n",
              " 'Subflow Bwd Bytes']"
            ]
          },
          "metadata": {},
          "execution_count": 16
        }
      ],
      "source": [
        "feature_extract_item = list(feature_scores[feature_scores['importance ratio'] > 0.03]['feature'])\n",
        "feature_extract_item"
      ]
    },
    {
      "cell_type": "code",
      "execution_count": 8,
      "metadata": {
        "id": "Fd1frKAQZwpx"
      },
      "outputs": [],
      "source": [
        "feature_scores_resampling = pd.read_csv('/content/onedrive/feature_scores_resampling.csv', names=['feature', 'importance ratio'], header = 0)"
      ]
    },
    {
      "cell_type": "code",
      "execution_count": 9,
      "metadata": {
        "colab": {
          "base_uri": "https://localhost:8080/",
          "height": 423
        },
        "id": "u45dKxvkZwpx",
        "outputId": "68369036-667c-442b-9873-9e528b6588ba"
      },
      "outputs": [
        {
          "output_type": "execute_result",
          "data": {
            "text/plain": [
              "                   feature  importance ratio\n",
              "0      Average Packet Size          0.068069\n",
              "1   Packet Length Variance          0.066387\n",
              "2    Bwd Packet Length Std          0.065651\n",
              "3        Packet Length Std          0.064082\n",
              "4    Bwd Packet Length Max          0.046398\n",
              "..                     ...               ...\n",
              "71           Bwd PSH Flags          0.000000\n",
              "72      Fwd Avg Bytes/Bulk          0.000000\n",
              "73       Bwd Avg Bulk Rate          0.000000\n",
              "74    Bwd Avg Packets/Bulk          0.000000\n",
              "75      Bwd Avg Bytes/Bulk          0.000000\n",
              "\n",
              "[76 rows x 2 columns]"
            ],
            "text/html": [
              "\n",
              "  <div id=\"df-19205f8c-a405-4d8e-9c93-90e416c54c4d\" class=\"colab-df-container\">\n",
              "    <div>\n",
              "<style scoped>\n",
              "    .dataframe tbody tr th:only-of-type {\n",
              "        vertical-align: middle;\n",
              "    }\n",
              "\n",
              "    .dataframe tbody tr th {\n",
              "        vertical-align: top;\n",
              "    }\n",
              "\n",
              "    .dataframe thead th {\n",
              "        text-align: right;\n",
              "    }\n",
              "</style>\n",
              "<table border=\"1\" class=\"dataframe\">\n",
              "  <thead>\n",
              "    <tr style=\"text-align: right;\">\n",
              "      <th></th>\n",
              "      <th>feature</th>\n",
              "      <th>importance ratio</th>\n",
              "    </tr>\n",
              "  </thead>\n",
              "  <tbody>\n",
              "    <tr>\n",
              "      <th>0</th>\n",
              "      <td>Average Packet Size</td>\n",
              "      <td>0.068069</td>\n",
              "    </tr>\n",
              "    <tr>\n",
              "      <th>1</th>\n",
              "      <td>Packet Length Variance</td>\n",
              "      <td>0.066387</td>\n",
              "    </tr>\n",
              "    <tr>\n",
              "      <th>2</th>\n",
              "      <td>Bwd Packet Length Std</td>\n",
              "      <td>0.065651</td>\n",
              "    </tr>\n",
              "    <tr>\n",
              "      <th>3</th>\n",
              "      <td>Packet Length Std</td>\n",
              "      <td>0.064082</td>\n",
              "    </tr>\n",
              "    <tr>\n",
              "      <th>4</th>\n",
              "      <td>Bwd Packet Length Max</td>\n",
              "      <td>0.046398</td>\n",
              "    </tr>\n",
              "    <tr>\n",
              "      <th>...</th>\n",
              "      <td>...</td>\n",
              "      <td>...</td>\n",
              "    </tr>\n",
              "    <tr>\n",
              "      <th>71</th>\n",
              "      <td>Bwd PSH Flags</td>\n",
              "      <td>0.000000</td>\n",
              "    </tr>\n",
              "    <tr>\n",
              "      <th>72</th>\n",
              "      <td>Fwd Avg Bytes/Bulk</td>\n",
              "      <td>0.000000</td>\n",
              "    </tr>\n",
              "    <tr>\n",
              "      <th>73</th>\n",
              "      <td>Bwd Avg Bulk Rate</td>\n",
              "      <td>0.000000</td>\n",
              "    </tr>\n",
              "    <tr>\n",
              "      <th>74</th>\n",
              "      <td>Bwd Avg Packets/Bulk</td>\n",
              "      <td>0.000000</td>\n",
              "    </tr>\n",
              "    <tr>\n",
              "      <th>75</th>\n",
              "      <td>Bwd Avg Bytes/Bulk</td>\n",
              "      <td>0.000000</td>\n",
              "    </tr>\n",
              "  </tbody>\n",
              "</table>\n",
              "<p>76 rows × 2 columns</p>\n",
              "</div>\n",
              "    <div class=\"colab-df-buttons\">\n",
              "\n",
              "  <div class=\"colab-df-container\">\n",
              "    <button class=\"colab-df-convert\" onclick=\"convertToInteractive('df-19205f8c-a405-4d8e-9c93-90e416c54c4d')\"\n",
              "            title=\"Convert this dataframe to an interactive table.\"\n",
              "            style=\"display:none;\">\n",
              "\n",
              "  <svg xmlns=\"http://www.w3.org/2000/svg\" height=\"24px\" viewBox=\"0 -960 960 960\">\n",
              "    <path d=\"M120-120v-720h720v720H120Zm60-500h600v-160H180v160Zm220 220h160v-160H400v160Zm0 220h160v-160H400v160ZM180-400h160v-160H180v160Zm440 0h160v-160H620v160ZM180-180h160v-160H180v160Zm440 0h160v-160H620v160Z\"/>\n",
              "  </svg>\n",
              "    </button>\n",
              "\n",
              "  <style>\n",
              "    .colab-df-container {\n",
              "      display:flex;\n",
              "      gap: 12px;\n",
              "    }\n",
              "\n",
              "    .colab-df-convert {\n",
              "      background-color: #E8F0FE;\n",
              "      border: none;\n",
              "      border-radius: 50%;\n",
              "      cursor: pointer;\n",
              "      display: none;\n",
              "      fill: #1967D2;\n",
              "      height: 32px;\n",
              "      padding: 0 0 0 0;\n",
              "      width: 32px;\n",
              "    }\n",
              "\n",
              "    .colab-df-convert:hover {\n",
              "      background-color: #E2EBFA;\n",
              "      box-shadow: 0px 1px 2px rgba(60, 64, 67, 0.3), 0px 1px 3px 1px rgba(60, 64, 67, 0.15);\n",
              "      fill: #174EA6;\n",
              "    }\n",
              "\n",
              "    .colab-df-buttons div {\n",
              "      margin-bottom: 4px;\n",
              "    }\n",
              "\n",
              "    [theme=dark] .colab-df-convert {\n",
              "      background-color: #3B4455;\n",
              "      fill: #D2E3FC;\n",
              "    }\n",
              "\n",
              "    [theme=dark] .colab-df-convert:hover {\n",
              "      background-color: #434B5C;\n",
              "      box-shadow: 0px 1px 3px 1px rgba(0, 0, 0, 0.15);\n",
              "      filter: drop-shadow(0px 1px 2px rgba(0, 0, 0, 0.3));\n",
              "      fill: #FFFFFF;\n",
              "    }\n",
              "  </style>\n",
              "\n",
              "    <script>\n",
              "      const buttonEl =\n",
              "        document.querySelector('#df-19205f8c-a405-4d8e-9c93-90e416c54c4d button.colab-df-convert');\n",
              "      buttonEl.style.display =\n",
              "        google.colab.kernel.accessAllowed ? 'block' : 'none';\n",
              "\n",
              "      async function convertToInteractive(key) {\n",
              "        const element = document.querySelector('#df-19205f8c-a405-4d8e-9c93-90e416c54c4d');\n",
              "        const dataTable =\n",
              "          await google.colab.kernel.invokeFunction('convertToInteractive',\n",
              "                                                    [key], {});\n",
              "        if (!dataTable) return;\n",
              "\n",
              "        const docLinkHtml = 'Like what you see? Visit the ' +\n",
              "          '<a target=\"_blank\" href=https://colab.research.google.com/notebooks/data_table.ipynb>data table notebook</a>'\n",
              "          + ' to learn more about interactive tables.';\n",
              "        element.innerHTML = '';\n",
              "        dataTable['output_type'] = 'display_data';\n",
              "        await google.colab.output.renderOutput(dataTable, element);\n",
              "        const docLink = document.createElement('div');\n",
              "        docLink.innerHTML = docLinkHtml;\n",
              "        element.appendChild(docLink);\n",
              "      }\n",
              "    </script>\n",
              "  </div>\n",
              "\n",
              "\n",
              "<div id=\"df-72b19233-794f-4dc7-b116-8fd80d6a0ebb\">\n",
              "  <button class=\"colab-df-quickchart\" onclick=\"quickchart('df-72b19233-794f-4dc7-b116-8fd80d6a0ebb')\"\n",
              "            title=\"Suggest charts.\"\n",
              "            style=\"display:none;\">\n",
              "\n",
              "<svg xmlns=\"http://www.w3.org/2000/svg\" height=\"24px\"viewBox=\"0 0 24 24\"\n",
              "     width=\"24px\">\n",
              "    <g>\n",
              "        <path d=\"M19 3H5c-1.1 0-2 .9-2 2v14c0 1.1.9 2 2 2h14c1.1 0 2-.9 2-2V5c0-1.1-.9-2-2-2zM9 17H7v-7h2v7zm4 0h-2V7h2v10zm4 0h-2v-4h2v4z\"/>\n",
              "    </g>\n",
              "</svg>\n",
              "  </button>\n",
              "\n",
              "<style>\n",
              "  .colab-df-quickchart {\n",
              "    background-color: #E8F0FE;\n",
              "    border: none;\n",
              "    border-radius: 50%;\n",
              "    cursor: pointer;\n",
              "    display: none;\n",
              "    fill: #1967D2;\n",
              "    height: 32px;\n",
              "    padding: 0 0 0 0;\n",
              "    width: 32px;\n",
              "  }\n",
              "\n",
              "  .colab-df-quickchart:hover {\n",
              "    background-color: #E2EBFA;\n",
              "    box-shadow: 0px 1px 2px rgba(60, 64, 67, 0.3), 0px 1px 3px 1px rgba(60, 64, 67, 0.15);\n",
              "    fill: #174EA6;\n",
              "  }\n",
              "\n",
              "  [theme=dark] .colab-df-quickchart {\n",
              "    background-color: #3B4455;\n",
              "    fill: #D2E3FC;\n",
              "  }\n",
              "\n",
              "  [theme=dark] .colab-df-quickchart:hover {\n",
              "    background-color: #434B5C;\n",
              "    box-shadow: 0px 1px 3px 1px rgba(0, 0, 0, 0.15);\n",
              "    filter: drop-shadow(0px 1px 2px rgba(0, 0, 0, 0.3));\n",
              "    fill: #FFFFFF;\n",
              "  }\n",
              "</style>\n",
              "\n",
              "  <script>\n",
              "    async function quickchart(key) {\n",
              "      const charts = await google.colab.kernel.invokeFunction(\n",
              "          'suggestCharts', [key], {});\n",
              "    }\n",
              "    (() => {\n",
              "      let quickchartButtonEl =\n",
              "        document.querySelector('#df-72b19233-794f-4dc7-b116-8fd80d6a0ebb button');\n",
              "      quickchartButtonEl.style.display =\n",
              "        google.colab.kernel.accessAllowed ? 'block' : 'none';\n",
              "    })();\n",
              "  </script>\n",
              "</div>\n",
              "    </div>\n",
              "  </div>\n"
            ]
          },
          "metadata": {},
          "execution_count": 9
        }
      ],
      "source": [
        "feature_scores_resampling"
      ]
    },
    {
      "cell_type": "code",
      "execution_count": 10,
      "metadata": {
        "colab": {
          "base_uri": "https://localhost:8080/"
        },
        "id": "c3BUuhVUZwpy",
        "outputId": "6351dc50-d940-45de-bd98-4604f8b89d51"
      },
      "outputs": [
        {
          "output_type": "execute_result",
          "data": {
            "text/plain": [
              "['Average Packet Size',\n",
              " 'Packet Length Variance',\n",
              " 'Bwd Packet Length Std',\n",
              " 'Packet Length Std',\n",
              " 'Bwd Packet Length Max',\n",
              " 'Packet Length Mean',\n",
              " 'Bwd Packet Length Mean',\n",
              " 'Max Packet Length',\n",
              " 'Avg Bwd Segment Size',\n",
              " 'Avg Fwd Segment Size',\n",
              " 'Init_Win_bytes_backward']"
            ]
          },
          "metadata": {},
          "execution_count": 10
        }
      ],
      "source": [
        "feature_resampling_extract_item = list(feature_scores_resampling[feature_scores_resampling['importance ratio'] > 0.03]['feature'])\n",
        "feature_resampling_extract_item"
      ]
    },
    {
      "cell_type": "markdown",
      "metadata": {
        "id": "PELgJoBhZwps"
      },
      "source": [
        "### Load CIC-IDS2017 improved version, CES-CIC-IDS2018 data"
      ]
    },
    {
      "cell_type": "code",
      "source": [
        "pip install fastparquet"
      ],
      "metadata": {
        "colab": {
          "base_uri": "https://localhost:8080/"
        },
        "id": "jsmprYbeaeCC",
        "outputId": "02105f33-e48d-47df-e8a5-b75a17d1bca7"
      },
      "execution_count": 7,
      "outputs": [
        {
          "output_type": "stream",
          "name": "stdout",
          "text": [
            "Collecting fastparquet\n",
            "  Downloading fastparquet-2023.7.0-cp310-cp310-manylinux_2_17_x86_64.manylinux2014_x86_64.whl (1.5 MB)\n",
            "\u001b[2K     \u001b[90m━━━━━━━━━━━━━━━━━━━━━━━━━━━━━━━━━━━━━━━━\u001b[0m \u001b[32m1.5/1.5 MB\u001b[0m \u001b[31m11.8 MB/s\u001b[0m eta \u001b[36m0:00:00\u001b[0m\n",
            "\u001b[?25hRequirement already satisfied: pandas>=1.5.0 in /usr/local/lib/python3.10/dist-packages (from fastparquet) (1.5.3)\n",
            "Requirement already satisfied: numpy>=1.20.3 in /usr/local/lib/python3.10/dist-packages (from fastparquet) (1.23.5)\n",
            "Collecting cramjam>=2.3 (from fastparquet)\n",
            "  Downloading cramjam-2.7.0-cp310-cp310-manylinux_2_17_x86_64.manylinux2014_x86_64.whl (1.6 MB)\n",
            "\u001b[2K     \u001b[90m━━━━━━━━━━━━━━━━━━━━━━━━━━━━━━━━━━━━━━━━\u001b[0m \u001b[32m1.6/1.6 MB\u001b[0m \u001b[31m9.5 MB/s\u001b[0m eta \u001b[36m0:00:00\u001b[0m\n",
            "\u001b[?25hRequirement already satisfied: fsspec in /usr/local/lib/python3.10/dist-packages (from fastparquet) (2023.6.0)\n",
            "Requirement already satisfied: packaging in /usr/local/lib/python3.10/dist-packages (from fastparquet) (23.1)\n",
            "Requirement already satisfied: python-dateutil>=2.8.1 in /usr/local/lib/python3.10/dist-packages (from pandas>=1.5.0->fastparquet) (2.8.2)\n",
            "Requirement already satisfied: pytz>=2020.1 in /usr/local/lib/python3.10/dist-packages (from pandas>=1.5.0->fastparquet) (2023.3)\n",
            "Requirement already satisfied: six>=1.5 in /usr/local/lib/python3.10/dist-packages (from python-dateutil>=2.8.1->pandas>=1.5.0->fastparquet) (1.16.0)\n",
            "Installing collected packages: cramjam, fastparquet\n",
            "Successfully installed cramjam-2.7.0 fastparquet-2023.7.0\n"
          ]
        }
      ]
    },
    {
      "cell_type": "code",
      "source": [
        "# data2017_corrected = pd.read_parquet('/content/onedrive/data_2017_corrected.parquet', engine=\"fastparquet\")\n",
        "# data2018_original = pd.read_parquet('/content/onedrive/data_2018_original.parquet', engine=\"fastparquet\")\n",
        "data2018_corrected = pd.read_parquet('/content/onedrive/data_2018_corrected_sampling.parquet', engine=\"fastparquet\")"
      ],
      "metadata": {
        "id": "T4SG2l71aW3X"
      },
      "execution_count": 22,
      "outputs": []
    },
    {
      "cell_type": "code",
      "source": [
        "data2018_original = pd.read_parquet('/content/onedrive/data_2018_original.parquet', engine=\"fastparquet\")"
      ],
      "metadata": {
        "id": "QZ-sbE1dQvyr"
      },
      "execution_count": null,
      "outputs": []
    },
    {
      "cell_type": "code",
      "source": [
        "# data2017_corrected_resampling = pd.read_parquet('/content/onedrive/data_2017_corrected_resampling.parquet', engine=\"fastparquet\")\n",
        "# data2018_original_resampling = pd.read_parquet('/content/onedrive/data_2018_original_resampling.parquet', engine=\"fastparquet\")\n",
        "data2018_corrected_resampling = pd.read_parquet('/content/onedrive/data_2018_corrected_sampling_resampling.parquet', engine=\"fastparquet\")"
      ],
      "metadata": {
        "id": "dCuJAkewBmB4"
      },
      "execution_count": null,
      "outputs": []
    },
    {
      "cell_type": "code",
      "execution_count": null,
      "metadata": {
        "tags": [],
        "id": "GCsgX8fNZwpz"
      },
      "outputs": [],
      "source": [
        "df2017_corrected_y = data2017_corrected['label_encoded']\n",
        "df2017_corrected_X = data2017_corrected[feature_extract_item]"
      ]
    },
    {
      "cell_type": "code",
      "source": [
        "df2017_corrected_X_r = data2017_corrected_resampling[feature_resampling_extract_item]\n",
        "df2017_corrected_y_r = data2017_corrected_resampling['label_encoded']"
      ],
      "metadata": {
        "id": "CZZ1u4CUBtCS"
      },
      "execution_count": null,
      "outputs": []
    },
    {
      "cell_type": "code",
      "source": [
        "# data_test_2017_corrected = pd.concat([df2017_corrected_X, df2017_corrected_y], axis=1)\n",
        "data_test_2017_corrected_r = pd.concat([df2017_corrected_X_r, df2017_corrected_y_r], axis=1)"
      ],
      "metadata": {
        "id": "ywzsInzsJD_7"
      },
      "execution_count": null,
      "outputs": []
    },
    {
      "cell_type": "code",
      "source": [
        "scaler = StandardScaler()\n",
        "# X_test = scaler.fit_transform(df2017_corrected_X)\n",
        "X_test_r = scaler.fit_transform(df2017_corrected_X_r)"
      ],
      "metadata": {
        "id": "S42-4Qo4BeyB"
      },
      "execution_count": null,
      "outputs": []
    },
    {
      "cell_type": "code",
      "source": [
        "del data2017_corrected_resampling"
      ],
      "metadata": {
        "id": "SN6qdChngzg8"
      },
      "execution_count": null,
      "outputs": []
    },
    {
      "cell_type": "code",
      "source": [
        "df2018_original_y = data2018_original['label_encoded']\n",
        "df2018_original_X = data2018_original[feature_extract_item]"
      ],
      "metadata": {
        "id": "dzE_bA1sbequ"
      },
      "execution_count": null,
      "outputs": []
    },
    {
      "cell_type": "code",
      "source": [
        "del data2018_original"
      ],
      "metadata": {
        "id": "766KoTQU-QpD"
      },
      "execution_count": null,
      "outputs": []
    },
    {
      "cell_type": "code",
      "execution_count": null,
      "metadata": {
        "id": "9i0hxp50Zwp0"
      },
      "outputs": [],
      "source": []
    },
    {
      "cell_type": "code",
      "source": [
        "df2018_original_X_r = data2018_original_resampling[feature_resampling_extract_item]\n",
        "df2018_original_y_r = data2018_original_resampling['label_encoded']"
      ],
      "metadata": {
        "id": "X3dlRa8Cbjvw"
      },
      "execution_count": null,
      "outputs": []
    },
    {
      "cell_type": "code",
      "source": [
        "del data2018_original_resampling"
      ],
      "metadata": {
        "id": "AkW48okd6hJw"
      },
      "execution_count": null,
      "outputs": []
    },
    {
      "cell_type": "code",
      "source": [
        "# data_test_2018_original = pd.concat([df2018_original_X, df2018_original_y], axis=1)\n",
        "# data_test_2018_original_r = pd.concat([df2018_original_X_r, df2018_original_y_r], axis=1)\n",
        "scaler = StandardScaler()\n",
        "# X_test = scaler.fit_transform(df2018_original_X)\n",
        "X_test_r = scaler.fit_transform(df2018_original_X_r)\n"
      ],
      "metadata": {
        "id": "vxw__8s9bncx"
      },
      "execution_count": null,
      "outputs": []
    },
    {
      "cell_type": "code",
      "source": [],
      "metadata": {
        "id": "FMakHA64Fg0g"
      },
      "execution_count": null,
      "outputs": []
    },
    {
      "cell_type": "code",
      "source": [
        "df2018_corrected_y = data2018_corrected['label_encoded']\n",
        "df2018_corrected_X = data2018_corrected[feature_extract_item]"
      ],
      "metadata": {
        "id": "zLd3p5IfFYPA"
      },
      "execution_count": null,
      "outputs": []
    },
    {
      "cell_type": "code",
      "source": [
        "del data2018_corrected"
      ],
      "metadata": {
        "id": "-7jl00FaFz_W"
      },
      "execution_count": null,
      "outputs": []
    },
    {
      "cell_type": "code",
      "source": [
        "df2018_corrected_X_r = data2018_corrected_resampling[feature_resampling_extract_item]\n",
        "df2018_corrected_y_r = data2018_corrected_resampling['label_encoded']"
      ],
      "metadata": {
        "id": "WmhY70tJFhL-"
      },
      "execution_count": null,
      "outputs": []
    },
    {
      "cell_type": "code",
      "source": [
        "del data2018_corrected_resampling"
      ],
      "metadata": {
        "id": "nEAkQjCLY2oc"
      },
      "execution_count": null,
      "outputs": []
    },
    {
      "cell_type": "code",
      "source": [
        "data_test_2018_corrected = pd.concat([df2018_corrected_X, df2018_corrected_y], axis=1)\n",
        "# data_test_2018_corrected_r = pd.concat([df2018_corrected_X_r, df2018_corrected_y_r], axis=1)"
      ],
      "metadata": {
        "id": "4-MmkmOiFkTl"
      },
      "execution_count": null,
      "outputs": []
    },
    {
      "cell_type": "code",
      "source": [
        "del data_test_2018_corrected"
      ],
      "metadata": {
        "id": "RbsAuyQLLrkA"
      },
      "execution_count": null,
      "outputs": []
    },
    {
      "cell_type": "code",
      "source": [
        "scaler = StandardScaler()\n",
        "# X_test = scaler.fit_transform(df2018_corrected_X)\n",
        "X_test_r = scaler.fit_transform(df2018_corrected_X_r)"
      ],
      "metadata": {
        "id": "bpDbaYn5Ftke"
      },
      "execution_count": null,
      "outputs": []
    },
    {
      "cell_type": "code",
      "source": [],
      "metadata": {
        "id": "3BCZTDEPFwGw"
      },
      "execution_count": null,
      "outputs": []
    },
    {
      "cell_type": "markdown",
      "metadata": {
        "id": "17JHYqaqZwp1"
      },
      "source": [
        "### Apply algorithms"
      ]
    },
    {
      "cell_type": "code",
      "execution_count": 9,
      "metadata": {
        "id": "aFqDdyajZwp1"
      },
      "outputs": [],
      "source": [
        "# Define constant value\n",
        "METHOD_RANDOM_FOREST = 'rf'\n",
        "METHOD_XGBOOST = 'xgb'\n",
        "METHOD_KNN = 'knn'\n"
      ]
    },
    {
      "cell_type": "code",
      "execution_count": 10,
      "metadata": {
        "id": "NqnHApimZwp1"
      },
      "outputs": [],
      "source": [
        "methods = [METHOD_RANDOM_FOREST, METHOD_XGBOOST, METHOD_KNN]"
      ]
    },
    {
      "cell_type": "code",
      "execution_count": 11,
      "metadata": {
        "id": "vavwKJLnZwp1"
      },
      "outputs": [],
      "source": [
        "def load_pretrained_model(method, is_resample):\n",
        "    suffix_txt = \"\"\n",
        "    if is_resample:\n",
        "        suffix_txt = \"_resample\"\n",
        "    if method == METHOD_XGBOOST:\n",
        "        # ml_file_name = f\"/content/onedrive/models/model_{method}{suffix_txt}.json\"\n",
        "        ml_file_name = f\"/content/onedrive/models/model_{method}{suffix_txt}_finetune_2.json\"\n",
        "        ml = XGBClassifier()\n",
        "        ml.load_model(ml_file_name)\n",
        "    else:\n",
        "        # ml_file_name = f\"/content/onedrive/models/model_{method}{suffix_txt}.joblib\"\n",
        "        ml_file_name = f\"/content/onedrive/models/model_{method}{suffix_txt}_finetune_2.joblib\"\n",
        "        ml = joblib.load(ml_file_name)\n",
        "    ml.warm_start = True\n",
        "    print(f'load_pretrained_model: {ml_file_name}')\n",
        "\n",
        "    return ml"
      ]
    },
    {
      "cell_type": "code",
      "execution_count": 12,
      "metadata": {
        "id": "WqzdxoWyZwp2"
      },
      "outputs": [],
      "source": [
        "def predict_methods(df, x, y, method, is_resample):\n",
        "    print(f'predict {method}')\n",
        "\n",
        "\n",
        "\n",
        "    ml = load_pretrained_model(method, is_resample)\n",
        "\n",
        "    ypreds = ml.predict(x)\n",
        "\n",
        "    df[f'ypreds_{method}'] = ypreds\n",
        "\n",
        "    print(\"Accuracy\",accuracy_score(y, ypreds))\n",
        "    print(classification_report(y, ypreds))\n",
        "    print(\"Confusion Matrix:\")\n",
        "    print(confusion_matrix(y, ypreds))\n",
        "\n",
        "    return ml"
      ]
    },
    {
      "cell_type": "markdown",
      "source": [
        "### 2017 improved"
      ],
      "metadata": {
        "id": "3gqbwObpakOb"
      }
    },
    {
      "cell_type": "code",
      "execution_count": null,
      "metadata": {
        "colab": {
          "base_uri": "https://localhost:8080/"
        },
        "id": "OR54qK8YZwp2",
        "outputId": "a85d9134-0436-4c70-8573-cc573a23f15c"
      },
      "outputs": [
        {
          "output_type": "stream",
          "name": "stdout",
          "text": [
            "predict rf\n",
            "load_pretrained_model: /content/onedrive/models/model_rf.joblib\n",
            "Accuracy 0.8660343404742256\n",
            "              precision    recall  f1-score   support\n",
            "\n",
            "           0       0.85      1.00      0.92   1594540\n",
            "           1       0.99      0.45      0.62    505431\n",
            "\n",
            "    accuracy                           0.87   2099971\n",
            "   macro avg       0.92      0.72      0.77   2099971\n",
            "weighted avg       0.88      0.87      0.85   2099971\n",
            "\n",
            "Confusion Matrix:\n",
            "[[1592318    2222]\n",
            " [ 279102  226329]]\n",
            "predict xgb\n",
            "load_pretrained_model: /content/onedrive/models/model_xgb.json\n",
            "Accuracy 0.7507117955438433\n",
            "              precision    recall  f1-score   support\n",
            "\n",
            "           0       0.76      0.99      0.86   1594540\n",
            "           1       0.00      0.00      0.00    505431\n",
            "\n",
            "    accuracy                           0.75   2099971\n",
            "   macro avg       0.38      0.49      0.43   2099971\n",
            "weighted avg       0.58      0.75      0.65   2099971\n",
            "\n",
            "Confusion Matrix:\n",
            "[[1576424   18116]\n",
            " [ 505382      49]]\n",
            "predict knn\n",
            "load_pretrained_model: /content/onedrive/models/model_knn.joblib\n",
            "Accuracy 0.8179274856652783\n",
            "              precision    recall  f1-score   support\n",
            "\n",
            "           0       0.81      1.00      0.89   1594540\n",
            "           1       0.98      0.25      0.40    505431\n",
            "\n",
            "    accuracy                           0.82   2099971\n",
            "   macro avg       0.89      0.62      0.65   2099971\n",
            "weighted avg       0.85      0.82      0.77   2099971\n",
            "\n",
            "Confusion Matrix:\n",
            "[[1591411    3129]\n",
            " [ 379218  126213]]\n"
          ]
        }
      ],
      "source": [
        "for method in methods:\n",
        "    predict_methods(data_test_2017_corrected, X_test, df2017_corrected_y, method, False)"
      ]
    },
    {
      "cell_type": "code",
      "execution_count": null,
      "metadata": {
        "colab": {
          "base_uri": "https://localhost:8080/"
        },
        "id": "0NVoVuhBZwp2",
        "outputId": "565d3b2d-0b32-4d88-875f-2a65b4980d3a"
      },
      "outputs": [
        {
          "output_type": "stream",
          "name": "stdout",
          "text": [
            "predict rf\n",
            "load_pretrained_model: /content/onedrive/models/model_rf_resample.joblib\n",
            "Accuracy 0.7495573085149111\n",
            "              precision    recall  f1-score   support\n",
            "\n",
            "           0       0.67      0.99      0.80    505431\n",
            "           1       0.98      0.51      0.67    505431\n",
            "\n",
            "    accuracy                           0.75   1010862\n",
            "   macro avg       0.82      0.75      0.73   1010862\n",
            "weighted avg       0.82      0.75      0.73   1010862\n",
            "\n",
            "Confusion Matrix:\n",
            "[[498952   6479]\n",
            " [246684 258747]]\n",
            "predict xgb\n",
            "load_pretrained_model: /content/onedrive/models/model_xgb_resample.json\n",
            "Accuracy 0.5006875320271215\n",
            "              precision    recall  f1-score   support\n",
            "\n",
            "           0       0.50      1.00      0.67    505431\n",
            "           1       0.74      0.00      0.00    505431\n",
            "\n",
            "    accuracy                           0.50   1010862\n",
            "   macro avg       0.62      0.50      0.34   1010862\n",
            "weighted avg       0.62      0.50      0.34   1010862\n",
            "\n",
            "Confusion Matrix:\n",
            "[[505048    383]\n",
            " [504353   1078]]\n",
            "predict knn\n",
            "load_pretrained_model: /content/onedrive/models/model_knn_resample.joblib\n",
            "Accuracy 0.7571795160961635\n",
            "              precision    recall  f1-score   support\n",
            "\n",
            "           0       0.67      0.99      0.80    505431\n",
            "           1       0.99      0.52      0.68    505431\n",
            "\n",
            "    accuracy                           0.76   1010862\n",
            "   macro avg       0.83      0.76      0.74   1010862\n",
            "weighted avg       0.83      0.76      0.74   1010862\n",
            "\n",
            "Confusion Matrix:\n",
            "[[502176   3255]\n",
            " [242203 263228]]\n"
          ]
        }
      ],
      "source": [
        "for method in methods:\n",
        "    predict_methods(data_test_2017_corrected_r, X_test_r, df2017_corrected_y_r, method, True)"
      ]
    },
    {
      "cell_type": "code",
      "execution_count": null,
      "metadata": {
        "colab": {
          "base_uri": "https://localhost:8080/",
          "height": 322
        },
        "id": "1ueRxybkZwp2",
        "outputId": "30d99a94-e24f-4b95-ea0f-ad13f3627343"
      },
      "outputs": [
        {
          "output_type": "execute_result",
          "data": {
            "text/plain": [
              "   Packet Length Std  Bwd Packet Length Std  Packet Length Variance  \\\n",
              "0         177.341758                    0.0            31450.099291   \n",
              "1         174.984174                    0.0            30619.460993   \n",
              "2           0.000000                    0.0                0.000000   \n",
              "3          55.785320                    0.0             3112.001938   \n",
              "4           0.000000                    0.0                0.000000   \n",
              "\n",
              "   Bwd Packet Length Mean  Average Packet Size  Bwd Packet Length Max  \\\n",
              "0                    72.0           158.333333                     72   \n",
              "1                   316.0           239.666667                    316   \n",
              "2                     0.0             0.000000                      0   \n",
              "3                     0.0            95.750000                      0   \n",
              "4                    48.0            48.000000                     48   \n",
              "\n",
              "   Avg Bwd Segment Size  Packet Length Mean  Max Packet Length  \\\n",
              "0                  72.0          158.333333                403   \n",
              "1                 316.0          239.666667                403   \n",
              "2                   0.0            0.000000                  0   \n",
              "3                   0.0           95.750000                227   \n",
              "4                  48.0           48.000000                 48   \n",
              "\n",
              "   Subflow Bwd Bytes  label_encoded  ypreds_rf  ypreds_xgb  ypreds_knn  \n",
              "0                 24              0          0           0           0  \n",
              "1                105              0          0           0           0  \n",
              "2                  0              0          0           0           0  \n",
              "3                  0              0          0           0           0  \n",
              "4                 24              0          0           0           0  "
            ],
            "text/html": [
              "\n",
              "\n",
              "  <div id=\"df-fa005c47-60b4-4801-b9e3-f55cda20ed0b\">\n",
              "    <div class=\"colab-df-container\">\n",
              "      <div>\n",
              "<style scoped>\n",
              "    .dataframe tbody tr th:only-of-type {\n",
              "        vertical-align: middle;\n",
              "    }\n",
              "\n",
              "    .dataframe tbody tr th {\n",
              "        vertical-align: top;\n",
              "    }\n",
              "\n",
              "    .dataframe thead th {\n",
              "        text-align: right;\n",
              "    }\n",
              "</style>\n",
              "<table border=\"1\" class=\"dataframe\">\n",
              "  <thead>\n",
              "    <tr style=\"text-align: right;\">\n",
              "      <th></th>\n",
              "      <th>Packet Length Std</th>\n",
              "      <th>Bwd Packet Length Std</th>\n",
              "      <th>Packet Length Variance</th>\n",
              "      <th>Bwd Packet Length Mean</th>\n",
              "      <th>Average Packet Size</th>\n",
              "      <th>Bwd Packet Length Max</th>\n",
              "      <th>Avg Bwd Segment Size</th>\n",
              "      <th>Packet Length Mean</th>\n",
              "      <th>Max Packet Length</th>\n",
              "      <th>Subflow Bwd Bytes</th>\n",
              "      <th>label_encoded</th>\n",
              "      <th>ypreds_rf</th>\n",
              "      <th>ypreds_xgb</th>\n",
              "      <th>ypreds_knn</th>\n",
              "    </tr>\n",
              "  </thead>\n",
              "  <tbody>\n",
              "    <tr>\n",
              "      <th>0</th>\n",
              "      <td>177.341758</td>\n",
              "      <td>0.0</td>\n",
              "      <td>31450.099291</td>\n",
              "      <td>72.0</td>\n",
              "      <td>158.333333</td>\n",
              "      <td>72</td>\n",
              "      <td>72.0</td>\n",
              "      <td>158.333333</td>\n",
              "      <td>403</td>\n",
              "      <td>24</td>\n",
              "      <td>0</td>\n",
              "      <td>0</td>\n",
              "      <td>0</td>\n",
              "      <td>0</td>\n",
              "    </tr>\n",
              "    <tr>\n",
              "      <th>1</th>\n",
              "      <td>174.984174</td>\n",
              "      <td>0.0</td>\n",
              "      <td>30619.460993</td>\n",
              "      <td>316.0</td>\n",
              "      <td>239.666667</td>\n",
              "      <td>316</td>\n",
              "      <td>316.0</td>\n",
              "      <td>239.666667</td>\n",
              "      <td>403</td>\n",
              "      <td>105</td>\n",
              "      <td>0</td>\n",
              "      <td>0</td>\n",
              "      <td>0</td>\n",
              "      <td>0</td>\n",
              "    </tr>\n",
              "    <tr>\n",
              "      <th>2</th>\n",
              "      <td>0.000000</td>\n",
              "      <td>0.0</td>\n",
              "      <td>0.000000</td>\n",
              "      <td>0.0</td>\n",
              "      <td>0.000000</td>\n",
              "      <td>0</td>\n",
              "      <td>0.0</td>\n",
              "      <td>0.000000</td>\n",
              "      <td>0</td>\n",
              "      <td>0</td>\n",
              "      <td>0</td>\n",
              "      <td>0</td>\n",
              "      <td>0</td>\n",
              "      <td>0</td>\n",
              "    </tr>\n",
              "    <tr>\n",
              "      <th>3</th>\n",
              "      <td>55.785320</td>\n",
              "      <td>0.0</td>\n",
              "      <td>3112.001938</td>\n",
              "      <td>0.0</td>\n",
              "      <td>95.750000</td>\n",
              "      <td>0</td>\n",
              "      <td>0.0</td>\n",
              "      <td>95.750000</td>\n",
              "      <td>227</td>\n",
              "      <td>0</td>\n",
              "      <td>0</td>\n",
              "      <td>0</td>\n",
              "      <td>0</td>\n",
              "      <td>0</td>\n",
              "    </tr>\n",
              "    <tr>\n",
              "      <th>4</th>\n",
              "      <td>0.000000</td>\n",
              "      <td>0.0</td>\n",
              "      <td>0.000000</td>\n",
              "      <td>48.0</td>\n",
              "      <td>48.000000</td>\n",
              "      <td>48</td>\n",
              "      <td>48.0</td>\n",
              "      <td>48.000000</td>\n",
              "      <td>48</td>\n",
              "      <td>24</td>\n",
              "      <td>0</td>\n",
              "      <td>0</td>\n",
              "      <td>0</td>\n",
              "      <td>0</td>\n",
              "    </tr>\n",
              "  </tbody>\n",
              "</table>\n",
              "</div>\n",
              "      <button class=\"colab-df-convert\" onclick=\"convertToInteractive('df-fa005c47-60b4-4801-b9e3-f55cda20ed0b')\"\n",
              "              title=\"Convert this dataframe to an interactive table.\"\n",
              "              style=\"display:none;\">\n",
              "\n",
              "  <svg xmlns=\"http://www.w3.org/2000/svg\" height=\"24px\"viewBox=\"0 0 24 24\"\n",
              "       width=\"24px\">\n",
              "    <path d=\"M0 0h24v24H0V0z\" fill=\"none\"/>\n",
              "    <path d=\"M18.56 5.44l.94 2.06.94-2.06 2.06-.94-2.06-.94-.94-2.06-.94 2.06-2.06.94zm-11 1L8.5 8.5l.94-2.06 2.06-.94-2.06-.94L8.5 2.5l-.94 2.06-2.06.94zm10 10l.94 2.06.94-2.06 2.06-.94-2.06-.94-.94-2.06-.94 2.06-2.06.94z\"/><path d=\"M17.41 7.96l-1.37-1.37c-.4-.4-.92-.59-1.43-.59-.52 0-1.04.2-1.43.59L10.3 9.45l-7.72 7.72c-.78.78-.78 2.05 0 2.83L4 21.41c.39.39.9.59 1.41.59.51 0 1.02-.2 1.41-.59l7.78-7.78 2.81-2.81c.8-.78.8-2.07 0-2.86zM5.41 20L4 18.59l7.72-7.72 1.47 1.35L5.41 20z\"/>\n",
              "  </svg>\n",
              "      </button>\n",
              "\n",
              "\n",
              "\n",
              "    <div id=\"df-4e7f3791-b1c4-4498-9411-c3e9d13fa96c\">\n",
              "      <button class=\"colab-df-quickchart\" onclick=\"quickchart('df-4e7f3791-b1c4-4498-9411-c3e9d13fa96c')\"\n",
              "              title=\"Suggest charts.\"\n",
              "              style=\"display:none;\">\n",
              "\n",
              "<svg xmlns=\"http://www.w3.org/2000/svg\" height=\"24px\"viewBox=\"0 0 24 24\"\n",
              "     width=\"24px\">\n",
              "    <g>\n",
              "        <path d=\"M19 3H5c-1.1 0-2 .9-2 2v14c0 1.1.9 2 2 2h14c1.1 0 2-.9 2-2V5c0-1.1-.9-2-2-2zM9 17H7v-7h2v7zm4 0h-2V7h2v10zm4 0h-2v-4h2v4z\"/>\n",
              "    </g>\n",
              "</svg>\n",
              "      </button>\n",
              "    </div>\n",
              "\n",
              "<style>\n",
              "  .colab-df-quickchart {\n",
              "    background-color: #E8F0FE;\n",
              "    border: none;\n",
              "    border-radius: 50%;\n",
              "    cursor: pointer;\n",
              "    display: none;\n",
              "    fill: #1967D2;\n",
              "    height: 32px;\n",
              "    padding: 0 0 0 0;\n",
              "    width: 32px;\n",
              "  }\n",
              "\n",
              "  .colab-df-quickchart:hover {\n",
              "    background-color: #E2EBFA;\n",
              "    box-shadow: 0px 1px 2px rgba(60, 64, 67, 0.3), 0px 1px 3px 1px rgba(60, 64, 67, 0.15);\n",
              "    fill: #174EA6;\n",
              "  }\n",
              "\n",
              "  [theme=dark] .colab-df-quickchart {\n",
              "    background-color: #3B4455;\n",
              "    fill: #D2E3FC;\n",
              "  }\n",
              "\n",
              "  [theme=dark] .colab-df-quickchart:hover {\n",
              "    background-color: #434B5C;\n",
              "    box-shadow: 0px 1px 3px 1px rgba(0, 0, 0, 0.15);\n",
              "    filter: drop-shadow(0px 1px 2px rgba(0, 0, 0, 0.3));\n",
              "    fill: #FFFFFF;\n",
              "  }\n",
              "</style>\n",
              "\n",
              "    <script>\n",
              "      async function quickchart(key) {\n",
              "        const containerElement = document.querySelector('#' + key);\n",
              "        const charts = await google.colab.kernel.invokeFunction(\n",
              "            'suggestCharts', [key], {});\n",
              "      }\n",
              "    </script>\n",
              "\n",
              "      <script>\n",
              "\n",
              "function displayQuickchartButton(domScope) {\n",
              "  let quickchartButtonEl =\n",
              "    domScope.querySelector('#df-4e7f3791-b1c4-4498-9411-c3e9d13fa96c button.colab-df-quickchart');\n",
              "  quickchartButtonEl.style.display =\n",
              "    google.colab.kernel.accessAllowed ? 'block' : 'none';\n",
              "}\n",
              "\n",
              "        displayQuickchartButton(document);\n",
              "      </script>\n",
              "      <style>\n",
              "    .colab-df-container {\n",
              "      display:flex;\n",
              "      flex-wrap:wrap;\n",
              "      gap: 12px;\n",
              "    }\n",
              "\n",
              "    .colab-df-convert {\n",
              "      background-color: #E8F0FE;\n",
              "      border: none;\n",
              "      border-radius: 50%;\n",
              "      cursor: pointer;\n",
              "      display: none;\n",
              "      fill: #1967D2;\n",
              "      height: 32px;\n",
              "      padding: 0 0 0 0;\n",
              "      width: 32px;\n",
              "    }\n",
              "\n",
              "    .colab-df-convert:hover {\n",
              "      background-color: #E2EBFA;\n",
              "      box-shadow: 0px 1px 2px rgba(60, 64, 67, 0.3), 0px 1px 3px 1px rgba(60, 64, 67, 0.15);\n",
              "      fill: #174EA6;\n",
              "    }\n",
              "\n",
              "    [theme=dark] .colab-df-convert {\n",
              "      background-color: #3B4455;\n",
              "      fill: #D2E3FC;\n",
              "    }\n",
              "\n",
              "    [theme=dark] .colab-df-convert:hover {\n",
              "      background-color: #434B5C;\n",
              "      box-shadow: 0px 1px 3px 1px rgba(0, 0, 0, 0.15);\n",
              "      filter: drop-shadow(0px 1px 2px rgba(0, 0, 0, 0.3));\n",
              "      fill: #FFFFFF;\n",
              "    }\n",
              "  </style>\n",
              "\n",
              "      <script>\n",
              "        const buttonEl =\n",
              "          document.querySelector('#df-fa005c47-60b4-4801-b9e3-f55cda20ed0b button.colab-df-convert');\n",
              "        buttonEl.style.display =\n",
              "          google.colab.kernel.accessAllowed ? 'block' : 'none';\n",
              "\n",
              "        async function convertToInteractive(key) {\n",
              "          const element = document.querySelector('#df-fa005c47-60b4-4801-b9e3-f55cda20ed0b');\n",
              "          const dataTable =\n",
              "            await google.colab.kernel.invokeFunction('convertToInteractive',\n",
              "                                                     [key], {});\n",
              "          if (!dataTable) return;\n",
              "\n",
              "          const docLinkHtml = 'Like what you see? Visit the ' +\n",
              "            '<a target=\"_blank\" href=https://colab.research.google.com/notebooks/data_table.ipynb>data table notebook</a>'\n",
              "            + ' to learn more about interactive tables.';\n",
              "          element.innerHTML = '';\n",
              "          dataTable['output_type'] = 'display_data';\n",
              "          await google.colab.output.renderOutput(dataTable, element);\n",
              "          const docLink = document.createElement('div');\n",
              "          docLink.innerHTML = docLinkHtml;\n",
              "          element.appendChild(docLink);\n",
              "        }\n",
              "      </script>\n",
              "    </div>\n",
              "  </div>\n"
            ]
          },
          "metadata": {},
          "execution_count": 22
        }
      ],
      "source": [
        "data_test_2017_corrected.head()"
      ]
    },
    {
      "cell_type": "code",
      "execution_count": null,
      "metadata": {
        "colab": {
          "base_uri": "https://localhost:8080/",
          "height": 322
        },
        "id": "mC9khZLBZwp3",
        "outputId": "6eb0086c-82c4-4531-9034-6d0a1f85cecd"
      },
      "outputs": [
        {
          "output_type": "execute_result",
          "data": {
            "text/plain": [
              "   Average Packet Size  Packet Length Variance  Bwd Packet Length Std  \\\n",
              "0           158.333333            31450.099291                    0.0   \n",
              "1           239.666667            30619.460993                    0.0   \n",
              "2             0.000000                0.000000                    0.0   \n",
              "3            95.750000             3112.001938                    0.0   \n",
              "4            48.000000                0.000000                    0.0   \n",
              "\n",
              "   Packet Length Std  Bwd Packet Length Max  Packet Length Mean  \\\n",
              "0         177.341758                     72          158.333333   \n",
              "1         174.984174                    316          239.666667   \n",
              "2           0.000000                      0            0.000000   \n",
              "3          55.785320                      0           95.750000   \n",
              "4           0.000000                     48           48.000000   \n",
              "\n",
              "   Bwd Packet Length Mean  Max Packet Length  Avg Bwd Segment Size  \\\n",
              "0                    72.0                403                  72.0   \n",
              "1                   316.0                403                 316.0   \n",
              "2                     0.0                  0                   0.0   \n",
              "3                     0.0                227                   0.0   \n",
              "4                    48.0                 48                  48.0   \n",
              "\n",
              "   Avg Fwd Segment Size  Init_Win_bytes_backward  label_encoded  ypreds_rf  \\\n",
              "0                201.50                     2079              0          0   \n",
              "1                201.50                     2079              0          0   \n",
              "2                  0.00                        0              0          0   \n",
              "3                 95.75                        0              0          0   \n",
              "4                 48.00                        0              0          0   \n",
              "\n",
              "   ypreds_xgb  ypreds_knn  \n",
              "0           0           0  \n",
              "1           0           0  \n",
              "2           0           0  \n",
              "3           0           0  \n",
              "4           0           0  "
            ],
            "text/html": [
              "\n",
              "\n",
              "  <div id=\"df-79145dd8-9a1f-4575-82aa-5394ee115ece\">\n",
              "    <div class=\"colab-df-container\">\n",
              "      <div>\n",
              "<style scoped>\n",
              "    .dataframe tbody tr th:only-of-type {\n",
              "        vertical-align: middle;\n",
              "    }\n",
              "\n",
              "    .dataframe tbody tr th {\n",
              "        vertical-align: top;\n",
              "    }\n",
              "\n",
              "    .dataframe thead th {\n",
              "        text-align: right;\n",
              "    }\n",
              "</style>\n",
              "<table border=\"1\" class=\"dataframe\">\n",
              "  <thead>\n",
              "    <tr style=\"text-align: right;\">\n",
              "      <th></th>\n",
              "      <th>Average Packet Size</th>\n",
              "      <th>Packet Length Variance</th>\n",
              "      <th>Bwd Packet Length Std</th>\n",
              "      <th>Packet Length Std</th>\n",
              "      <th>Bwd Packet Length Max</th>\n",
              "      <th>Packet Length Mean</th>\n",
              "      <th>Bwd Packet Length Mean</th>\n",
              "      <th>Max Packet Length</th>\n",
              "      <th>Avg Bwd Segment Size</th>\n",
              "      <th>Avg Fwd Segment Size</th>\n",
              "      <th>Init_Win_bytes_backward</th>\n",
              "      <th>label_encoded</th>\n",
              "      <th>ypreds_rf</th>\n",
              "      <th>ypreds_xgb</th>\n",
              "      <th>ypreds_knn</th>\n",
              "    </tr>\n",
              "  </thead>\n",
              "  <tbody>\n",
              "    <tr>\n",
              "      <th>0</th>\n",
              "      <td>158.333333</td>\n",
              "      <td>31450.099291</td>\n",
              "      <td>0.0</td>\n",
              "      <td>177.341758</td>\n",
              "      <td>72</td>\n",
              "      <td>158.333333</td>\n",
              "      <td>72.0</td>\n",
              "      <td>403</td>\n",
              "      <td>72.0</td>\n",
              "      <td>201.50</td>\n",
              "      <td>2079</td>\n",
              "      <td>0</td>\n",
              "      <td>0</td>\n",
              "      <td>0</td>\n",
              "      <td>0</td>\n",
              "    </tr>\n",
              "    <tr>\n",
              "      <th>1</th>\n",
              "      <td>239.666667</td>\n",
              "      <td>30619.460993</td>\n",
              "      <td>0.0</td>\n",
              "      <td>174.984174</td>\n",
              "      <td>316</td>\n",
              "      <td>239.666667</td>\n",
              "      <td>316.0</td>\n",
              "      <td>403</td>\n",
              "      <td>316.0</td>\n",
              "      <td>201.50</td>\n",
              "      <td>2079</td>\n",
              "      <td>0</td>\n",
              "      <td>0</td>\n",
              "      <td>0</td>\n",
              "      <td>0</td>\n",
              "    </tr>\n",
              "    <tr>\n",
              "      <th>2</th>\n",
              "      <td>0.000000</td>\n",
              "      <td>0.000000</td>\n",
              "      <td>0.0</td>\n",
              "      <td>0.000000</td>\n",
              "      <td>0</td>\n",
              "      <td>0.000000</td>\n",
              "      <td>0.0</td>\n",
              "      <td>0</td>\n",
              "      <td>0.0</td>\n",
              "      <td>0.00</td>\n",
              "      <td>0</td>\n",
              "      <td>0</td>\n",
              "      <td>0</td>\n",
              "      <td>0</td>\n",
              "      <td>0</td>\n",
              "    </tr>\n",
              "    <tr>\n",
              "      <th>3</th>\n",
              "      <td>95.750000</td>\n",
              "      <td>3112.001938</td>\n",
              "      <td>0.0</td>\n",
              "      <td>55.785320</td>\n",
              "      <td>0</td>\n",
              "      <td>95.750000</td>\n",
              "      <td>0.0</td>\n",
              "      <td>227</td>\n",
              "      <td>0.0</td>\n",
              "      <td>95.75</td>\n",
              "      <td>0</td>\n",
              "      <td>0</td>\n",
              "      <td>0</td>\n",
              "      <td>0</td>\n",
              "      <td>0</td>\n",
              "    </tr>\n",
              "    <tr>\n",
              "      <th>4</th>\n",
              "      <td>48.000000</td>\n",
              "      <td>0.000000</td>\n",
              "      <td>0.0</td>\n",
              "      <td>0.000000</td>\n",
              "      <td>48</td>\n",
              "      <td>48.000000</td>\n",
              "      <td>48.0</td>\n",
              "      <td>48</td>\n",
              "      <td>48.0</td>\n",
              "      <td>48.00</td>\n",
              "      <td>0</td>\n",
              "      <td>0</td>\n",
              "      <td>0</td>\n",
              "      <td>0</td>\n",
              "      <td>0</td>\n",
              "    </tr>\n",
              "  </tbody>\n",
              "</table>\n",
              "</div>\n",
              "      <button class=\"colab-df-convert\" onclick=\"convertToInteractive('df-79145dd8-9a1f-4575-82aa-5394ee115ece')\"\n",
              "              title=\"Convert this dataframe to an interactive table.\"\n",
              "              style=\"display:none;\">\n",
              "\n",
              "  <svg xmlns=\"http://www.w3.org/2000/svg\" height=\"24px\"viewBox=\"0 0 24 24\"\n",
              "       width=\"24px\">\n",
              "    <path d=\"M0 0h24v24H0V0z\" fill=\"none\"/>\n",
              "    <path d=\"M18.56 5.44l.94 2.06.94-2.06 2.06-.94-2.06-.94-.94-2.06-.94 2.06-2.06.94zm-11 1L8.5 8.5l.94-2.06 2.06-.94-2.06-.94L8.5 2.5l-.94 2.06-2.06.94zm10 10l.94 2.06.94-2.06 2.06-.94-2.06-.94-.94-2.06-.94 2.06-2.06.94z\"/><path d=\"M17.41 7.96l-1.37-1.37c-.4-.4-.92-.59-1.43-.59-.52 0-1.04.2-1.43.59L10.3 9.45l-7.72 7.72c-.78.78-.78 2.05 0 2.83L4 21.41c.39.39.9.59 1.41.59.51 0 1.02-.2 1.41-.59l7.78-7.78 2.81-2.81c.8-.78.8-2.07 0-2.86zM5.41 20L4 18.59l7.72-7.72 1.47 1.35L5.41 20z\"/>\n",
              "  </svg>\n",
              "      </button>\n",
              "\n",
              "\n",
              "\n",
              "    <div id=\"df-1fc20cc1-4592-4814-abf7-0aaa14ef3193\">\n",
              "      <button class=\"colab-df-quickchart\" onclick=\"quickchart('df-1fc20cc1-4592-4814-abf7-0aaa14ef3193')\"\n",
              "              title=\"Suggest charts.\"\n",
              "              style=\"display:none;\">\n",
              "\n",
              "<svg xmlns=\"http://www.w3.org/2000/svg\" height=\"24px\"viewBox=\"0 0 24 24\"\n",
              "     width=\"24px\">\n",
              "    <g>\n",
              "        <path d=\"M19 3H5c-1.1 0-2 .9-2 2v14c0 1.1.9 2 2 2h14c1.1 0 2-.9 2-2V5c0-1.1-.9-2-2-2zM9 17H7v-7h2v7zm4 0h-2V7h2v10zm4 0h-2v-4h2v4z\"/>\n",
              "    </g>\n",
              "</svg>\n",
              "      </button>\n",
              "    </div>\n",
              "\n",
              "<style>\n",
              "  .colab-df-quickchart {\n",
              "    background-color: #E8F0FE;\n",
              "    border: none;\n",
              "    border-radius: 50%;\n",
              "    cursor: pointer;\n",
              "    display: none;\n",
              "    fill: #1967D2;\n",
              "    height: 32px;\n",
              "    padding: 0 0 0 0;\n",
              "    width: 32px;\n",
              "  }\n",
              "\n",
              "  .colab-df-quickchart:hover {\n",
              "    background-color: #E2EBFA;\n",
              "    box-shadow: 0px 1px 2px rgba(60, 64, 67, 0.3), 0px 1px 3px 1px rgba(60, 64, 67, 0.15);\n",
              "    fill: #174EA6;\n",
              "  }\n",
              "\n",
              "  [theme=dark] .colab-df-quickchart {\n",
              "    background-color: #3B4455;\n",
              "    fill: #D2E3FC;\n",
              "  }\n",
              "\n",
              "  [theme=dark] .colab-df-quickchart:hover {\n",
              "    background-color: #434B5C;\n",
              "    box-shadow: 0px 1px 3px 1px rgba(0, 0, 0, 0.15);\n",
              "    filter: drop-shadow(0px 1px 2px rgba(0, 0, 0, 0.3));\n",
              "    fill: #FFFFFF;\n",
              "  }\n",
              "</style>\n",
              "\n",
              "    <script>\n",
              "      async function quickchart(key) {\n",
              "        const containerElement = document.querySelector('#' + key);\n",
              "        const charts = await google.colab.kernel.invokeFunction(\n",
              "            'suggestCharts', [key], {});\n",
              "      }\n",
              "    </script>\n",
              "\n",
              "      <script>\n",
              "\n",
              "function displayQuickchartButton(domScope) {\n",
              "  let quickchartButtonEl =\n",
              "    domScope.querySelector('#df-1fc20cc1-4592-4814-abf7-0aaa14ef3193 button.colab-df-quickchart');\n",
              "  quickchartButtonEl.style.display =\n",
              "    google.colab.kernel.accessAllowed ? 'block' : 'none';\n",
              "}\n",
              "\n",
              "        displayQuickchartButton(document);\n",
              "      </script>\n",
              "      <style>\n",
              "    .colab-df-container {\n",
              "      display:flex;\n",
              "      flex-wrap:wrap;\n",
              "      gap: 12px;\n",
              "    }\n",
              "\n",
              "    .colab-df-convert {\n",
              "      background-color: #E8F0FE;\n",
              "      border: none;\n",
              "      border-radius: 50%;\n",
              "      cursor: pointer;\n",
              "      display: none;\n",
              "      fill: #1967D2;\n",
              "      height: 32px;\n",
              "      padding: 0 0 0 0;\n",
              "      width: 32px;\n",
              "    }\n",
              "\n",
              "    .colab-df-convert:hover {\n",
              "      background-color: #E2EBFA;\n",
              "      box-shadow: 0px 1px 2px rgba(60, 64, 67, 0.3), 0px 1px 3px 1px rgba(60, 64, 67, 0.15);\n",
              "      fill: #174EA6;\n",
              "    }\n",
              "\n",
              "    [theme=dark] .colab-df-convert {\n",
              "      background-color: #3B4455;\n",
              "      fill: #D2E3FC;\n",
              "    }\n",
              "\n",
              "    [theme=dark] .colab-df-convert:hover {\n",
              "      background-color: #434B5C;\n",
              "      box-shadow: 0px 1px 3px 1px rgba(0, 0, 0, 0.15);\n",
              "      filter: drop-shadow(0px 1px 2px rgba(0, 0, 0, 0.3));\n",
              "      fill: #FFFFFF;\n",
              "    }\n",
              "  </style>\n",
              "\n",
              "      <script>\n",
              "        const buttonEl =\n",
              "          document.querySelector('#df-79145dd8-9a1f-4575-82aa-5394ee115ece button.colab-df-convert');\n",
              "        buttonEl.style.display =\n",
              "          google.colab.kernel.accessAllowed ? 'block' : 'none';\n",
              "\n",
              "        async function convertToInteractive(key) {\n",
              "          const element = document.querySelector('#df-79145dd8-9a1f-4575-82aa-5394ee115ece');\n",
              "          const dataTable =\n",
              "            await google.colab.kernel.invokeFunction('convertToInteractive',\n",
              "                                                     [key], {});\n",
              "          if (!dataTable) return;\n",
              "\n",
              "          const docLinkHtml = 'Like what you see? Visit the ' +\n",
              "            '<a target=\"_blank\" href=https://colab.research.google.com/notebooks/data_table.ipynb>data table notebook</a>'\n",
              "            + ' to learn more about interactive tables.';\n",
              "          element.innerHTML = '';\n",
              "          dataTable['output_type'] = 'display_data';\n",
              "          await google.colab.output.renderOutput(dataTable, element);\n",
              "          const docLink = document.createElement('div');\n",
              "          docLink.innerHTML = docLinkHtml;\n",
              "          element.appendChild(docLink);\n",
              "        }\n",
              "      </script>\n",
              "    </div>\n",
              "  </div>\n"
            ]
          },
          "metadata": {},
          "execution_count": 23
        }
      ],
      "source": [
        "data_test_2017_corrected_r.head()"
      ]
    },
    {
      "cell_type": "code",
      "execution_count": null,
      "metadata": {
        "id": "ogyi5ZTfZwp3"
      },
      "outputs": [],
      "source": [
        "# data_test_2017_corrected.to_parquet('/content/onedrive/test_result/data_test_tr_2017_corrected.parquet', index = False, compression=None, engine='fastparquet')\n",
        "data_test_2017_corrected_r.to_parquet('/content/onedrive/test_result/data_test_tr_2017_corrected_resample.parquet', index = False, compression=None, engine='fastparquet')"
      ]
    },
    {
      "cell_type": "markdown",
      "source": [
        "### 2018 original dataset"
      ],
      "metadata": {
        "id": "4RW054WReGTD"
      }
    },
    {
      "cell_type": "code",
      "source": [
        "for method in methods:\n",
        "    predict_methods(data_test_2018_original, X_test, df2018_original_y, method, False)"
      ],
      "metadata": {
        "colab": {
          "base_uri": "https://localhost:8080/"
        },
        "id": "Ka6CMjuebcF9",
        "outputId": "a553fe53-caad-4b26-adf2-239b2155e3ae"
      },
      "execution_count": null,
      "outputs": [
        {
          "output_type": "stream",
          "name": "stdout",
          "text": [
            "predict rf\n",
            "load_pretrained_model: /content/onedrive/models/model_rf.joblib\n",
            "Accuracy 0.8263845678046969\n",
            "              precision    recall  f1-score   support\n",
            "\n",
            "           0       0.87      0.94      0.90   9493199\n",
            "           1       0.01      0.01      0.01   1325845\n",
            "\n",
            "    accuracy                           0.83  10819044\n",
            "   macro avg       0.44      0.47      0.46  10819044\n",
            "weighted avg       0.77      0.83      0.79  10819044\n",
            "\n",
            "Confusion Matrix:\n",
            "[[8933033  560166]\n",
            " [1318187    7658]]\n",
            "predict xgb\n",
            "load_pretrained_model: /content/onedrive/models/model_xgb.json\n",
            "Accuracy 0.8247105751672699\n",
            "              precision    recall  f1-score   support\n",
            "\n",
            "           0       0.87      0.94      0.90   9493199\n",
            "           1       0.02      0.01      0.01   1325845\n",
            "\n",
            "    accuracy                           0.82  10819044\n",
            "   macro avg       0.44      0.47      0.46  10819044\n",
            "weighted avg       0.77      0.82      0.79  10819044\n",
            "\n",
            "Confusion Matrix:\n",
            "[[8913183  580016]\n",
            " [1316448    9397]]\n",
            "predict knn\n",
            "load_pretrained_model: /content/onedrive/models/model_knn.joblib\n",
            "Accuracy 0.8269441366538486\n",
            "              precision    recall  f1-score   support\n",
            "\n",
            "           0       0.87      0.94      0.91   9493199\n",
            "           1       0.01      0.01      0.01   1325845\n",
            "\n",
            "    accuracy                           0.83  10819044\n",
            "   macro avg       0.44      0.47      0.46  10819044\n",
            "weighted avg       0.77      0.83      0.80  10819044\n",
            "\n",
            "Confusion Matrix:\n",
            "[[8938819  554380]\n",
            " [1317919    7926]]\n"
          ]
        }
      ]
    },
    {
      "cell_type": "code",
      "source": [
        "for method in methods:\n",
        "    predict_methods(data_test_2018_original_r, X_test_r, df2018_original_y_r, method, True)"
      ],
      "metadata": {
        "colab": {
          "base_uri": "https://localhost:8080/"
        },
        "id": "c-GqeTARcDR3",
        "outputId": "32cf3fc3-fc24-4f8a-84e4-47ee26905394"
      },
      "execution_count": null,
      "outputs": [
        {
          "output_type": "stream",
          "name": "stdout",
          "text": [
            "predict rf\n",
            "load_pretrained_model: /content/onedrive/models/model_rf_resample.joblib\n",
            "Accuracy 0.4434560600975227\n",
            "              precision    recall  f1-score   support\n",
            "\n",
            "           0       0.47      0.87      0.61   1325845\n",
            "           1       0.09      0.01      0.02   1325845\n",
            "\n",
            "    accuracy                           0.44   2651690\n",
            "   macro avg       0.28      0.44      0.32   2651690\n",
            "weighted avg       0.28      0.44      0.32   2651690\n",
            "\n",
            "Confusion Matrix:\n",
            "[[1158462  167383]\n",
            " [1308399   17446]]\n",
            "predict xgb\n",
            "load_pretrained_model: /content/onedrive/models/model_xgb_resample.json\n",
            "Accuracy 0.49875211657471274\n",
            "              precision    recall  f1-score   support\n",
            "\n",
            "           0       0.50      1.00      0.67   1325845\n",
            "           1       0.10      0.00      0.00   1325845\n",
            "\n",
            "    accuracy                           0.50   2651690\n",
            "   macro avg       0.30      0.50      0.33   2651690\n",
            "weighted avg       0.30      0.50      0.33   2651690\n",
            "\n",
            "Confusion Matrix:\n",
            "[[1322133    3712]\n",
            " [1325442     403]]\n",
            "predict knn\n",
            "load_pretrained_model: /content/onedrive/models/model_knn_resample.joblib\n",
            "Accuracy 0.6176619438923856\n",
            "              precision    recall  f1-score   support\n",
            "\n",
            "           0       0.60      0.70      0.65   1325845\n",
            "           1       0.64      0.54      0.58   1325845\n",
            "\n",
            "    accuracy                           0.62   2651690\n",
            "   macro avg       0.62      0.62      0.62   2651690\n",
            "weighted avg       0.62      0.62      0.62   2651690\n",
            "\n",
            "Confusion Matrix:\n",
            "[[926135 399710]\n",
            " [614132 711713]]\n"
          ]
        }
      ]
    },
    {
      "cell_type": "code",
      "source": [
        "# data_test_2018_original.to_parquet('/content/onedrive/test_result/data_test_tr_2018_original.parquet', index = False, compression=None, engine='fastparquet')\n",
        "data_test_2018_original_r.to_parquet('/content/onedrive/test_result/data_test_tr_2018_original_resample.parquet', index = False, compression=None, engine='fastparquet')"
      ],
      "metadata": {
        "id": "Q1heandehH4l"
      },
      "execution_count": null,
      "outputs": []
    },
    {
      "cell_type": "markdown",
      "source": [
        "### 2018 improved"
      ],
      "metadata": {
        "id": "JrvXcARKGWJU"
      }
    },
    {
      "cell_type": "code",
      "source": [
        "for method in methods:\n",
        "    predict_methods(data_test_2018_corrected, X_test, df2018_corrected_y, method, False)"
      ],
      "metadata": {
        "colab": {
          "base_uri": "https://localhost:8080/"
        },
        "id": "orQ0to7MGbNP",
        "outputId": "42f0e33e-12ca-4e04-f27b-c0e66e4bd698"
      },
      "execution_count": null,
      "outputs": [
        {
          "output_type": "stream",
          "name": "stdout",
          "text": [
            "predict rf\n",
            "load_pretrained_model: /content/onedrive/models/model_rf.joblib\n",
            "Accuracy 0.6070015342129488\n",
            "              precision    recall  f1-score   support\n",
            "\n",
            "           0       0.61      1.00      0.76   5935341\n",
            "           1       0.02      0.00      0.00   3841659\n",
            "\n",
            "    accuracy                           0.61   9777000\n",
            "   macro avg       0.32      0.50      0.38   9777000\n",
            "weighted avg       0.38      0.61      0.46   9777000\n",
            "\n",
            "Confusion Matrix:\n",
            "[[5934636     705]\n",
            " [3841641      18]]\n",
            "predict xgb\n",
            "load_pretrained_model: /content/onedrive/models/model_xgb.json\n",
            "Accuracy 0.5999435409634857\n",
            "              precision    recall  f1-score   support\n",
            "\n",
            "           0       0.60      0.99      0.75   5935341\n",
            "           1       0.00      0.00      0.00   3841659\n",
            "\n",
            "    accuracy                           0.60   9777000\n",
            "   macro avg       0.30      0.49      0.38   9777000\n",
            "weighted avg       0.37      0.60      0.46   9777000\n",
            "\n",
            "Confusion Matrix:\n",
            "[[5865552   69789]\n",
            " [3841563      96]]\n",
            "predict knn\n",
            "load_pretrained_model: /content/onedrive/models/model_knn.joblib\n",
            "Accuracy 0.605878694896185\n",
            "              precision    recall  f1-score   support\n",
            "\n",
            "           0       0.61      1.00      0.75   5935341\n",
            "           1       0.13      0.00      0.00   3841659\n",
            "\n",
            "    accuracy                           0.61   9777000\n",
            "   macro avg       0.37      0.50      0.38   9777000\n",
            "weighted avg       0.42      0.61      0.46   9777000\n",
            "\n",
            "Confusion Matrix:\n",
            "[[5921528   13813]\n",
            " [3839511    2148]]\n"
          ]
        }
      ]
    },
    {
      "cell_type": "code",
      "source": [
        "for method in methods:\n",
        "    predict_methods(data_test_2018_corrected_r, X_test_r, df2018_corrected_y_r, method, True)"
      ],
      "metadata": {
        "colab": {
          "base_uri": "https://localhost:8080/"
        },
        "id": "_PFwFdagGehh",
        "outputId": "d876af58-3fdb-4699-d856-4911a463f3cd"
      },
      "execution_count": null,
      "outputs": [
        {
          "output_type": "stream",
          "name": "stdout",
          "text": [
            "predict rf\n",
            "load_pretrained_model: /content/onedrive/models/model_rf_resample.joblib\n",
            "Accuracy 0.4544643697321715\n",
            "              precision    recall  f1-score   support\n",
            "\n",
            "           0       0.48      0.91      0.62   3841654\n",
            "           1       0.00      0.00      0.00   3841659\n",
            "\n",
            "    accuracy                           0.45   7683313\n",
            "   macro avg       0.24      0.45      0.31   7683313\n",
            "weighted avg       0.24      0.45      0.31   7683313\n",
            "\n",
            "Confusion Matrix:\n",
            "[[3490471  351183]\n",
            " [3840338    1321]]\n",
            "predict xgb\n",
            "load_pretrained_model: /content/onedrive/models/model_xgb_resample.json\n",
            "Accuracy 0.4999137741752809\n",
            "              precision    recall  f1-score   support\n",
            "\n",
            "           0       0.50      1.00      0.67   3841654\n",
            "           1       0.12      0.00      0.00   3841659\n",
            "\n",
            "    accuracy                           0.50   7683313\n",
            "   macro avg       0.31      0.50      0.33   7683313\n",
            "weighted avg       0.31      0.50      0.33   7683313\n",
            "\n",
            "Confusion Matrix:\n",
            "[[3840888     766]\n",
            " [3841553     106]]\n",
            "predict knn\n",
            "load_pretrained_model: /content/onedrive/models/model_knn_resample.joblib\n",
            "Accuracy 0.8216018272326013\n",
            "              precision    recall  f1-score   support\n",
            "\n",
            "           0       0.78      0.89      0.83   3841654\n",
            "           1       0.88      0.75      0.81   3841659\n",
            "\n",
            "    accuracy                           0.82   7683313\n",
            "   macro avg       0.83      0.82      0.82   7683313\n",
            "weighted avg       0.83      0.82      0.82   7683313\n",
            "\n",
            "Confusion Matrix:\n",
            "[[3434569  407085]\n",
            " [ 963604 2878055]]\n"
          ]
        }
      ]
    },
    {
      "cell_type": "code",
      "source": [
        "data_test_2018_corrected.to_parquet('/content/onedrive/test_result/data_test_tr_2018_corrected.parquet', index = False, compression=None, engine='fastparquet')\n",
        "# data_test_2018_corrected_r.to_parquet('/content/onedrive/test_result/data_test_tr_2018_corrected_resample.parquet', index = False, compression=None, engine='fastparquet')"
      ],
      "metadata": {
        "id": "DzTk_nIJGbWQ"
      },
      "execution_count": null,
      "outputs": []
    },
    {
      "cell_type": "code",
      "source": [
        "del data_test_2018_corrected"
      ],
      "metadata": {
        "id": "sbfXawDNYwPT"
      },
      "execution_count": null,
      "outputs": []
    },
    {
      "cell_type": "code",
      "source": [
        "data_test_2018_corrected_r.to_parquet('/content/onedrive/test_result/data_test_tr_2018_corrected_resample.parquet', index = False, compression=None, engine='fastparquet')"
      ],
      "metadata": {
        "id": "p2vND15sY9Wy"
      },
      "execution_count": null,
      "outputs": []
    },
    {
      "cell_type": "markdown",
      "source": [
        "### Retrain the model, feed new data"
      ],
      "metadata": {
        "id": "yP1_JCw2ckZV"
      }
    },
    {
      "cell_type": "code",
      "source": [
        "best_param_rf = {'criterion': 'entropy', 'max_depth': 5, 'max_features': 1, 'max_leaf_nodes': 6, 'n_estimators': 3}\n",
        "best_param_xgb = {'colsample_bytree': 0.8653986157607052, 'gamma': 4.049853844532946, 'max_depth': 5, 'min_child_weight': 7.0, 'n_estimators': 2, 'reg_alpha': 52.0, 'reg_lambda': 0.9937045075256274}\n",
        "best_param_knn = {'n_neighbors': 5}"
      ],
      "metadata": {
        "id": "gn9fGetKdisB"
      },
      "execution_count": null,
      "outputs": []
    },
    {
      "cell_type": "code",
      "source": [
        "def train_rf(X_train, y_train, is_resample):\n",
        "    print('~~~~START TRAIN RANDOM FOREST~~~~')\n",
        "    clf = RandomForestClassifier(random_state=42)\n",
        "    clf.set_params(**best_param_rf)\n",
        "    start_time = time.time()\n",
        "    # Train the model on the training data\n",
        "    clf.fit(X_train, y_train)\n",
        "    end_time = time.time()\n",
        "    time_taken = end_time - start_time\n",
        "    print(\"Time taken to fit the model:\", time_taken, \"seconds\")\n",
        "    return clf"
      ],
      "metadata": {
        "id": "4L6DhFT4cjoe"
      },
      "execution_count": null,
      "outputs": []
    },
    {
      "cell_type": "code",
      "source": [
        "def train_xgb(X_train, y_train, is_resample):\n",
        "    print('~~~~START TRAIN XGBOOST~~~~')\n",
        "    clf = xgb.XGBClassifier(random_state=42)\n",
        "    clf.set_params(**best_param_xgb)\n",
        "    start_time = time.time()\n",
        "    # Train the model on the training data\n",
        "    clf.fit(X_train, y_train)\n",
        "    end_time = time.time()\n",
        "    time_taken = end_time - start_time\n",
        "    print(\"Time taken to fit the model:\", time_taken, \"seconds\")\n",
        "    return clf"
      ],
      "metadata": {
        "id": "lSnf_U7Ycroa"
      },
      "execution_count": null,
      "outputs": []
    },
    {
      "cell_type": "code",
      "source": [
        "def train_knn(X_train, y_train, is_resample):\n",
        "    print('~~~~START TRAIN KNN~~~~')\n",
        "    clf = KNeighborsClassifier()\n",
        "    clf.set_params(**best_param_knn)\n",
        "    start_time = time.time()\n",
        "    # Train the model on the training data\n",
        "    clf.fit(X_train, y_train)\n",
        "    end_time = time.time()\n",
        "    time_taken = end_time - start_time\n",
        "    print(\"Time taken to fit the model:\", time_taken, \"seconds\")\n",
        "    return clf"
      ],
      "metadata": {
        "id": "_Kv3J4RccuXY"
      },
      "execution_count": null,
      "outputs": []
    },
    {
      "cell_type": "code",
      "source": [
        "def predict_methods(X, y, ml, method, is_resample):\n",
        "    print(f'predict {method}')\n",
        "    start_time = time.time()\n",
        "    ypreds = ml.predict(X)\n",
        "\n",
        "    # df[f'ypreds_{method}'] = ypreds\n",
        "\n",
        "    end_time = time.time()\n",
        "    time_taken = end_time - start_time\n",
        "    print(\"Time taken to predict the model:\", time_taken, \"seconds\")\n",
        "    print(\"Accuracy\",accuracy_score(y, ypreds))\n",
        "    print(classification_report(y, ypreds))\n",
        "    print(\"Confusion Matrix:\")\n",
        "    print(confusion_matrix(y, ypreds))"
      ],
      "metadata": {
        "id": "aQ4X0qZNcwKe"
      },
      "execution_count": null,
      "outputs": []
    },
    {
      "cell_type": "code",
      "source": [
        "def gen_misclassified_data(df, y):\n",
        "  return df[df['label_encoded'] != df[y]]"
      ],
      "metadata": {
        "id": "Dx11KOunims7"
      },
      "execution_count": null,
      "outputs": []
    },
    {
      "cell_type": "code",
      "source": [
        "def gen_train_x_y(df, is_resampling = False):\n",
        "  if is_resampling:\n",
        "    X_retrained = df.loc[:, 'Average Packet Size': 'Init_Win_bytes_backward']\n",
        "  else:\n",
        "    X_retrained = df.loc[:, 'Packet Length Std': 'Subflow Bwd Bytes']\n",
        "  y_retrained = df['label_encoded']\n",
        "\n",
        "  scaler = StandardScaler()\n",
        "  X_retrained = scaler.fit_transform(X_retrained)\n",
        "  if is_resampling:\n",
        "    global X_upstream_r, y_upstream_r\n",
        "    X_train = X_upstream_r.append(pd.DataFrame(X_retrained, columns = feature_resampling_extract_item[0:11]))\n",
        "    y_train = y_upstream_r.append(y_retrained)\n",
        "    del X_retrained\n",
        "  else:\n",
        "    global X_upstream\n",
        "    X_train = X_upstream.append(pd.DataFrame(X_retrained, columns = feature_extract_item[0:10]))\n",
        "    y_train = y_upstream.append(y_retrained)\n",
        "    del X_retrained\n",
        "\n",
        "  return X_train, y_train"
      ],
      "metadata": {
        "id": "Hbw-DQ2GeTQs"
      },
      "execution_count": null,
      "outputs": []
    },
    {
      "cell_type": "code",
      "source": [
        "def training_methods(mis_df, X_test, y_test, methods, is_resample):\n",
        "    ml, md = None, None\n",
        "    for method in methods:\n",
        "      print(f'start train {method} method')\n",
        "      if method == METHOD_RANDOM_FOREST:\n",
        "        misclassfied_data = gen_misclassified_data(mis_df, 'ypreds_rf')\n",
        "        X_train, y_train = gen_train_x_y(misclassfied_data, is_resample)\n",
        "        ml = train_rf(X_train, y_train, is_resample)\n",
        "      elif method == METHOD_XGBOOST:\n",
        "        misclassfied_data = gen_misclassified_data(mis_df, 'ypreds_xgb')\n",
        "        X_train, y_train = gen_train_x_y(misclassfied_data, is_resample)\n",
        "        ml = train_xgb(X_train, y_train, is_resample)\n",
        "      elif method == METHOD_KNN:\n",
        "        misclassfied_data = gen_misclassified_data(mis_df, 'ypreds_knn')\n",
        "        X_train, y_train = gen_train_x_y(misclassfied_data, is_resample)\n",
        "        ml = train_knn(X_train, y_train, is_resample)\n",
        "\n",
        "      predict_methods(X_test, y_test, ml, method, is_resample)"
      ],
      "metadata": {
        "id": "88Hn1uWLcxxq"
      },
      "execution_count": null,
      "outputs": []
    },
    {
      "cell_type": "code",
      "source": [
        "# upstream_model_data = pd.read_parquet('/content/onedrive/models/upstream_model_data.parquet')\n",
        "upstream_model_data_resampling = pd.read_parquet('/content/onedrive/models/upstream_model_data_resampling.parquet')"
      ],
      "metadata": {
        "id": "1oGGlYLbeE6x"
      },
      "execution_count": null,
      "outputs": []
    },
    {
      "cell_type": "code",
      "source": [
        "# X_upstream, y_upstream = (upstream_model_data.loc[:, 'Packet Length Std': 'Subflow Bwd Bytes'], upstream_model_data['label_encoded'])\n",
        "X_upstream_r, y_upstream_r = (upstream_model_data_resampling.loc[:, 'Average Packet Size': 'Init_Win_bytes_backward'], upstream_model_data_resampling['label_encoded'])"
      ],
      "metadata": {
        "id": "yzgbMFVXec2P"
      },
      "execution_count": null,
      "outputs": []
    },
    {
      "cell_type": "code",
      "source": [
        "del upstream_model_data_resampling"
      ],
      "metadata": {
        "id": "Kefhys0-n3hn"
      },
      "execution_count": null,
      "outputs": []
    },
    {
      "cell_type": "code",
      "source": [
        "# data_test_2017_corrected = pd.read_parquet('/content/onedrive/test_result/data_test_tr_2017_corrected.parquet')\n",
        "# data_test_2017_corrected_r = pd.read_parquet('/content/onedrive/test_result/data_test_tr_2017_corrected_resample.parquet')\n",
        "# data_test_2018_original = pd.read_parquet('/content/onedrive/test_result/data_test_tr_2018_original.parquet')\n",
        "# data_test_2018_original_r = pd.read_parquet('/content/onedrive/test_result/data_test_tr_2018_original_resample.parquet')\n",
        "# data_test_2018_corrected = pd.read_parquet('/content/onedrive/test_result/data_test_tr_2018_corrected.parquet')\n",
        "data_test_2018_corrected_r = pd.read_parquet('/content/onedrive/test_result/data_test_tr_2018_corrected_resample.parquet')"
      ],
      "metadata": {
        "id": "YqZrwrzNfghv"
      },
      "execution_count": null,
      "outputs": []
    },
    {
      "cell_type": "markdown",
      "source": [
        "### Fine tune with feeding misclassified data"
      ],
      "metadata": {
        "id": "VNjQC9CzfvgB"
      }
    },
    {
      "cell_type": "markdown",
      "source": [
        "### 2017 improved"
      ],
      "metadata": {
        "id": "YsMg6Eywm0mY"
      }
    },
    {
      "cell_type": "code",
      "source": [
        "# for method in methods:\n",
        "training_methods(data_test_2017_corrected, X_test, df2017_corrected_y, methods, False)"
      ],
      "metadata": {
        "colab": {
          "base_uri": "https://localhost:8080/"
        },
        "id": "iermMFh9dDff",
        "outputId": "8693e696-f8cf-48c2-e249-6103251e4ada"
      },
      "execution_count": null,
      "outputs": [
        {
          "output_type": "stream",
          "name": "stdout",
          "text": [
            "start train rf method\n"
          ]
        },
        {
          "output_type": "stream",
          "name": "stderr",
          "text": [
            "<ipython-input-25-1d47cdbbdb2c>:15: FutureWarning: The frame.append method is deprecated and will be removed from pandas in a future version. Use pandas.concat instead.\n",
            "  X_train = X_upstream.append(pd.DataFrame(X_retrained, columns = feature_extract_item[0:10]))\n",
            "<ipython-input-25-1d47cdbbdb2c>:16: FutureWarning: The series.append method is deprecated and will be removed from pandas in a future version. Use pandas.concat instead.\n",
            "  y_train = y_upstream.append(y_retrained)\n"
          ]
        },
        {
          "output_type": "stream",
          "name": "stdout",
          "text": [
            "~~~~START TRAIN RANDOM FOREST~~~~\n",
            "Time taken to fit the model: 5.0192365646362305 seconds\n",
            "predict rf\n"
          ]
        },
        {
          "output_type": "stream",
          "name": "stderr",
          "text": [
            "/usr/local/lib/python3.10/dist-packages/sklearn/base.py:439: UserWarning: X does not have valid feature names, but RandomForestClassifier was fitted with feature names\n",
            "  warnings.warn(\n"
          ]
        },
        {
          "output_type": "stream",
          "name": "stdout",
          "text": [
            "Time taken to predict the model: 0.4791691303253174 seconds\n",
            "Accuracy 0.8617004711017437\n",
            "              precision    recall  f1-score   support\n",
            "\n",
            "           0       0.85      1.00      0.92   1594540\n",
            "           1       0.97      0.44      0.60    505431\n",
            "\n",
            "    accuracy                           0.86   2099971\n",
            "   macro avg       0.91      0.72      0.76   2099971\n",
            "weighted avg       0.88      0.86      0.84   2099971\n",
            "\n",
            "Confusion Matrix:\n",
            "[[1587165    7375]\n",
            " [ 283050  222381]]\n",
            "start train xgb method\n"
          ]
        },
        {
          "output_type": "stream",
          "name": "stderr",
          "text": [
            "<ipython-input-25-1d47cdbbdb2c>:15: FutureWarning: The frame.append method is deprecated and will be removed from pandas in a future version. Use pandas.concat instead.\n",
            "  X_train = X_upstream.append(pd.DataFrame(X_retrained, columns = feature_extract_item[0:10]))\n",
            "<ipython-input-25-1d47cdbbdb2c>:16: FutureWarning: The series.append method is deprecated and will be removed from pandas in a future version. Use pandas.concat instead.\n",
            "  y_train = y_upstream.append(y_retrained)\n"
          ]
        },
        {
          "output_type": "stream",
          "name": "stdout",
          "text": [
            "~~~~START TRAIN XGBOOST~~~~\n",
            "Time taken to fit the model: 6.237184047698975 seconds\n",
            "predict xgb\n",
            "Time taken to predict the model: 0.1679680347442627 seconds\n",
            "Accuracy 0.5566467346453832\n",
            "              precision    recall  f1-score   support\n",
            "\n",
            "           0       0.72      0.68      0.70   1594540\n",
            "           1       0.15      0.18      0.16    505431\n",
            "\n",
            "    accuracy                           0.56   2099971\n",
            "   macro avg       0.44      0.43      0.43   2099971\n",
            "weighted avg       0.58      0.56      0.57   2099971\n",
            "\n",
            "Confusion Matrix:\n",
            "[[1077093  517447]\n",
            " [ 413582   91849]]\n",
            "start train knn method\n"
          ]
        },
        {
          "output_type": "stream",
          "name": "stderr",
          "text": [
            "<ipython-input-25-1d47cdbbdb2c>:15: FutureWarning: The frame.append method is deprecated and will be removed from pandas in a future version. Use pandas.concat instead.\n",
            "  X_train = X_upstream.append(pd.DataFrame(X_retrained, columns = feature_extract_item[0:10]))\n",
            "<ipython-input-25-1d47cdbbdb2c>:16: FutureWarning: The series.append method is deprecated and will be removed from pandas in a future version. Use pandas.concat instead.\n",
            "  y_train = y_upstream.append(y_retrained)\n"
          ]
        },
        {
          "output_type": "stream",
          "name": "stdout",
          "text": [
            "~~~~START TRAIN KNN~~~~\n",
            "Time taken to fit the model: 12.057262659072876 seconds\n",
            "predict knn\n"
          ]
        },
        {
          "output_type": "stream",
          "name": "stderr",
          "text": [
            "/usr/local/lib/python3.10/dist-packages/sklearn/base.py:439: UserWarning: X does not have valid feature names, but KNeighborsClassifier was fitted with feature names\n",
            "  warnings.warn(\n"
          ]
        },
        {
          "output_type": "stream",
          "name": "stdout",
          "text": [
            "Time taken to predict the model: 570.4969012737274 seconds\n",
            "Accuracy 0.519880988832703\n",
            "              precision    recall  f1-score   support\n",
            "\n",
            "           0       0.98      0.38      0.54   1594540\n",
            "           1       0.33      0.97      0.49    505431\n",
            "\n",
            "    accuracy                           0.52   2099971\n",
            "   macro avg       0.65      0.67      0.52   2099971\n",
            "weighted avg       0.82      0.52      0.53   2099971\n",
            "\n",
            "Confusion Matrix:\n",
            "[[600833 993707]\n",
            " [ 14529 490902]]\n"
          ]
        }
      ]
    },
    {
      "cell_type": "markdown",
      "source": [
        "### resampling"
      ],
      "metadata": {
        "id": "KZ_blLq3m33T"
      }
    },
    {
      "cell_type": "code",
      "source": [
        "training_methods(data_test_2017_corrected_r, X_test_r, df2017_corrected_y_r, methods, True)"
      ],
      "metadata": {
        "colab": {
          "base_uri": "https://localhost:8080/"
        },
        "id": "0JLnw5KCTix9",
        "outputId": "59c5d252-883c-47c1-860d-39e56fd0a789"
      },
      "execution_count": null,
      "outputs": [
        {
          "output_type": "stream",
          "name": "stdout",
          "text": [
            "start train rf method\n",
            "~~~~START TRAIN RANDOM FOREST~~~~\n"
          ]
        },
        {
          "output_type": "stream",
          "name": "stderr",
          "text": [
            "<ipython-input-37-721046bfcfa7>:12: FutureWarning: The frame.append method is deprecated and will be removed from pandas in a future version. Use pandas.concat instead.\n",
            "  X_train = X_upstream_r.append(pd.DataFrame(X_retrained, columns = feature_resampling_extract_item[0:11]))\n",
            "<ipython-input-37-721046bfcfa7>:13: FutureWarning: The series.append method is deprecated and will be removed from pandas in a future version. Use pandas.concat instead.\n",
            "  y_train = y_upstream_r.append(y_retrained)\n"
          ]
        },
        {
          "output_type": "stream",
          "name": "stdout",
          "text": [
            "Time taken to fit the model: 1.0667822360992432 seconds\n",
            "predict rf\n",
            "Time taken to predict the model: 0.1733860969543457 seconds\n"
          ]
        },
        {
          "output_type": "stream",
          "name": "stderr",
          "text": [
            "/usr/local/lib/python3.10/dist-packages/sklearn/base.py:439: UserWarning: X does not have valid feature names, but RandomForestClassifier was fitted with feature names\n",
            "  warnings.warn(\n"
          ]
        },
        {
          "output_type": "stream",
          "name": "stdout",
          "text": [
            "Accuracy 0.7435416505912775\n",
            "              precision    recall  f1-score   support\n",
            "\n",
            "           0       0.67      0.97      0.79    505431\n",
            "           1       0.95      0.52      0.67    505431\n",
            "\n",
            "    accuracy                           0.74   1010862\n",
            "   macro avg       0.81      0.74      0.73   1010862\n",
            "weighted avg       0.81      0.74      0.73   1010862\n",
            "\n",
            "Confusion Matrix:\n",
            "[[490955  14476]\n",
            " [244768 260663]]\n",
            "start train xgb method\n"
          ]
        },
        {
          "output_type": "stream",
          "name": "stderr",
          "text": [
            "<ipython-input-37-721046bfcfa7>:12: FutureWarning: The frame.append method is deprecated and will be removed from pandas in a future version. Use pandas.concat instead.\n",
            "  X_train = X_upstream_r.append(pd.DataFrame(X_retrained, columns = feature_resampling_extract_item[0:11]))\n",
            "<ipython-input-37-721046bfcfa7>:13: FutureWarning: The series.append method is deprecated and will be removed from pandas in a future version. Use pandas.concat instead.\n",
            "  y_train = y_upstream_r.append(y_retrained)\n"
          ]
        },
        {
          "output_type": "stream",
          "name": "stdout",
          "text": [
            "~~~~START TRAIN XGBOOST~~~~\n",
            "Time taken to fit the model: 1.1065099239349365 seconds\n",
            "predict xgb\n",
            "Time taken to predict the model: 0.02514195442199707 seconds\n",
            "Accuracy 0.6428731122546896\n",
            "              precision    recall  f1-score   support\n",
            "\n",
            "           0       0.96      0.30      0.46    505431\n",
            "           1       0.58      0.99      0.73    505431\n",
            "\n",
            "    accuracy                           0.64   1010862\n",
            "   macro avg       0.77      0.64      0.59   1010862\n",
            "weighted avg       0.77      0.64      0.59   1010862\n",
            "\n",
            "Confusion Matrix:\n",
            "[[151058 354373]\n",
            " [  6633 498798]]\n",
            "start train knn method\n"
          ]
        },
        {
          "output_type": "stream",
          "name": "stderr",
          "text": [
            "<ipython-input-37-721046bfcfa7>:12: FutureWarning: The frame.append method is deprecated and will be removed from pandas in a future version. Use pandas.concat instead.\n",
            "  X_train = X_upstream_r.append(pd.DataFrame(X_retrained, columns = feature_resampling_extract_item[0:11]))\n",
            "<ipython-input-37-721046bfcfa7>:13: FutureWarning: The series.append method is deprecated and will be removed from pandas in a future version. Use pandas.concat instead.\n",
            "  y_train = y_upstream_r.append(y_retrained)\n"
          ]
        },
        {
          "output_type": "stream",
          "name": "stdout",
          "text": [
            "~~~~START TRAIN KNN~~~~\n",
            "Time taken to fit the model: 3.0159974098205566 seconds\n",
            "predict knn\n"
          ]
        },
        {
          "output_type": "stream",
          "name": "stderr",
          "text": [
            "/usr/local/lib/python3.10/dist-packages/sklearn/base.py:439: UserWarning: X does not have valid feature names, but KNeighborsClassifier was fitted with feature names\n",
            "  warnings.warn(\n"
          ]
        },
        {
          "output_type": "stream",
          "name": "stdout",
          "text": [
            "Time taken to predict the model: 195.6475613117218 seconds\n",
            "Accuracy 0.7563079826919995\n",
            "              precision    recall  f1-score   support\n",
            "\n",
            "           0       0.67      0.99      0.80    505431\n",
            "           1       0.98      0.52      0.68    505431\n",
            "\n",
            "    accuracy                           0.76   1010862\n",
            "   macro avg       0.83      0.76      0.74   1010862\n",
            "weighted avg       0.83      0.76      0.74   1010862\n",
            "\n",
            "Confusion Matrix:\n",
            "[[501289   4142]\n",
            " [242197 263234]]\n"
          ]
        }
      ]
    },
    {
      "cell_type": "code",
      "source": [
        "del data_test_2017_corrected_r, X_test_r, df2017_corrected_y_r"
      ],
      "metadata": {
        "id": "uis6vtBTg-2b"
      },
      "execution_count": null,
      "outputs": []
    },
    {
      "cell_type": "markdown",
      "source": [
        "### 2018 original\n"
      ],
      "metadata": {
        "id": "jUFpbX-Rp226"
      }
    },
    {
      "cell_type": "code",
      "source": [
        "training_methods(data_test_2018_original, X_test, df2018_original_y, methods, False)"
      ],
      "metadata": {
        "id": "gpVs7_W2kGHj",
        "colab": {
          "base_uri": "https://localhost:8080/"
        },
        "outputId": "970863f5-d539-40ad-b978-b4733a6287fd"
      },
      "execution_count": null,
      "outputs": [
        {
          "metadata": {
            "tags": null
          },
          "name": "stdout",
          "output_type": "stream",
          "text": [
            "start train rf method\n"
          ]
        },
        {
          "metadata": {
            "tags": null
          },
          "name": "stderr",
          "output_type": "stream",
          "text": [
            "<ipython-input-37-721046bfcfa7>:17: FutureWarning: The frame.append method is deprecated and will be removed from pandas in a future version. Use pandas.concat instead.\n",
            "  X_train = X_upstream.append(pd.DataFrame(X_retrained, columns = feature_extract_item[0:10]))\n",
            "<ipython-input-37-721046bfcfa7>:18: FutureWarning: The series.append method is deprecated and will be removed from pandas in a future version. Use pandas.concat instead.\n",
            "  y_train = y_upstream.append(y_retrained)\n"
          ]
        },
        {
          "metadata": {
            "tags": null
          },
          "name": "stdout",
          "output_type": "stream",
          "text": [
            "~~~~START TRAIN RANDOM FOREST~~~~\n",
            "Time taken to fit the model: 5.455028772354126 seconds\n",
            "predict rf\n"
          ]
        },
        {
          "metadata": {
            "tags": null
          },
          "name": "stderr",
          "output_type": "stream",
          "text": [
            "/usr/local/lib/python3.10/dist-packages/sklearn/base.py:439: UserWarning: X does not have valid feature names, but RandomForestClassifier was fitted with feature names\n",
            "  warnings.warn(\n"
          ]
        },
        {
          "metadata": {
            "tags": null
          },
          "name": "stdout",
          "output_type": "stream",
          "text": [
            "Time taken to predict the model: 2.4359025955200195 seconds\n",
            "Accuracy 0.6298652635112677\n",
            "              precision    recall  f1-score   support\n",
            "\n",
            "           0       0.90      0.65      0.75   9493199\n",
            "           1       0.16      0.50      0.25   1325845\n",
            "\n",
            "    accuracy                           0.63  10819044\n",
            "   macro avg       0.53      0.57      0.50  10819044\n",
            "weighted avg       0.81      0.63      0.69  10819044\n",
            "\n",
            "Confusion Matrix:\n",
            "[[6156470 3336729]\n",
            " [ 667775  658070]]\n",
            "start train xgb method\n"
          ]
        },
        {
          "metadata": {
            "tags": null
          },
          "name": "stderr",
          "output_type": "stream",
          "text": [
            "<ipython-input-37-721046bfcfa7>:17: FutureWarning: The frame.append method is deprecated and will be removed from pandas in a future version. Use pandas.concat instead.\n",
            "  X_train = X_upstream.append(pd.DataFrame(X_retrained, columns = feature_extract_item[0:10]))\n",
            "<ipython-input-37-721046bfcfa7>:18: FutureWarning: The series.append method is deprecated and will be removed from pandas in a future version. Use pandas.concat instead.\n",
            "  y_train = y_upstream.append(y_retrained)\n"
          ]
        },
        {
          "metadata": {
            "tags": null
          },
          "name": "stdout",
          "output_type": "stream",
          "text": [
            "~~~~START TRAIN XGBOOST~~~~\n",
            "Time taken to fit the model: 3.3151843547821045 seconds\n",
            "predict xgb\n",
            "Time taken to predict the model: 0.24299359321594238 seconds\n",
            "Accuracy 0.8608772642019018\n",
            "              precision    recall  f1-score   support\n",
            "\n",
            "           0       0.88      0.98      0.93   9493199\n",
            "           1       0.01      0.00      0.00   1325845\n",
            "\n",
            "    accuracy                           0.86  10819044\n",
            "   macro avg       0.44      0.49      0.46  10819044\n",
            "weighted avg       0.77      0.86      0.81  10819044\n",
            "\n",
            "Confusion Matrix:\n",
            "[[9311653  181546]\n",
            " [1323629    2216]]\n",
            "start train knn method\n"
          ]
        },
        {
          "metadata": {
            "tags": null
          },
          "name": "stderr",
          "output_type": "stream",
          "text": [
            "<ipython-input-37-721046bfcfa7>:17: FutureWarning: The frame.append method is deprecated and will be removed from pandas in a future version. Use pandas.concat instead.\n",
            "  X_train = X_upstream.append(pd.DataFrame(X_retrained, columns = feature_extract_item[0:10]))\n",
            "<ipython-input-37-721046bfcfa7>:18: FutureWarning: The series.append method is deprecated and will be removed from pandas in a future version. Use pandas.concat instead.\n",
            "  y_train = y_upstream.append(y_retrained)\n"
          ]
        },
        {
          "metadata": {
            "tags": null
          },
          "name": "stdout",
          "output_type": "stream",
          "text": [
            "~~~~START TRAIN KNN~~~~\n",
            "Time taken to fit the model: 13.182660102844238 seconds\n",
            "predict knn\n"
          ]
        },
        {
          "metadata": {
            "tags": null
          },
          "name": "stderr",
          "output_type": "stream",
          "text": [
            "/usr/local/lib/python3.10/dist-packages/sklearn/base.py:439: UserWarning: X does not have valid feature names, but KNeighborsClassifier was fitted with feature names\n",
            "  warnings.warn(\n"
          ]
        },
        {
          "output_type": "stream",
          "name": "stdout",
          "text": [
            "Time taken to predict the model: 4580.3117780685425 seconds\n",
            "Accuracy 0.4266596013474019\n",
            "              precision    recall  f1-score   support\n",
            "\n",
            "           0       0.86      0.41      0.56   9493199\n",
            "           1       0.11      0.52      0.18   1325845\n",
            "\n",
            "    accuracy                           0.43  10819044\n",
            "   macro avg       0.49      0.47      0.37  10819044\n",
            "weighted avg       0.77      0.43      0.51  10819044\n",
            "\n",
            "Confusion Matrix:\n",
            "[[3921803 5571396]\n",
            " [ 631599  694246]]\n"
          ]
        }
      ]
    },
    {
      "cell_type": "code",
      "source": [
        "del data_test_2018_original, X_test, df2018_original_y"
      ],
      "metadata": {
        "id": "Flq4Qd3yLdDZ"
      },
      "execution_count": null,
      "outputs": []
    },
    {
      "cell_type": "markdown",
      "source": [
        "### resampling"
      ],
      "metadata": {
        "id": "VzvElGdhL0ht"
      }
    },
    {
      "cell_type": "code",
      "source": [
        "training_methods(data_test_2018_original_r, X_test_r, df2018_original_y_r, methods, True)"
      ],
      "metadata": {
        "colab": {
          "base_uri": "https://localhost:8080/"
        },
        "id": "O0skWL1GqC8h",
        "outputId": "62e921c5-4624-4752-dcbf-053552e2ead7"
      },
      "execution_count": null,
      "outputs": [
        {
          "output_type": "stream",
          "name": "stdout",
          "text": [
            "start train rf method\n"
          ]
        },
        {
          "output_type": "stream",
          "name": "stderr",
          "text": [
            "<ipython-input-37-721046bfcfa7>:12: FutureWarning: The frame.append method is deprecated and will be removed from pandas in a future version. Use pandas.concat instead.\n",
            "  X_train = X_upstream_r.append(pd.DataFrame(X_retrained, columns = feature_resampling_extract_item[0:11]))\n",
            "<ipython-input-37-721046bfcfa7>:13: FutureWarning: The series.append method is deprecated and will be removed from pandas in a future version. Use pandas.concat instead.\n",
            "  y_train = y_upstream_r.append(y_retrained)\n"
          ]
        },
        {
          "output_type": "stream",
          "name": "stdout",
          "text": [
            "~~~~START TRAIN RANDOM FOREST~~~~\n",
            "Time taken to fit the model: 2.7362477779388428 seconds\n",
            "predict rf\n"
          ]
        },
        {
          "output_type": "stream",
          "name": "stderr",
          "text": [
            "/usr/local/lib/python3.10/dist-packages/sklearn/base.py:439: UserWarning: X does not have valid feature names, but RandomForestClassifier was fitted with feature names\n",
            "  warnings.warn(\n"
          ]
        },
        {
          "output_type": "stream",
          "name": "stdout",
          "text": [
            "Time taken to predict the model: 0.5883314609527588 seconds\n",
            "Accuracy 0.4873329838706636\n",
            "              precision    recall  f1-score   support\n",
            "\n",
            "           0       0.48      0.38      0.42   1325845\n",
            "           1       0.49      0.60      0.54   1325845\n",
            "\n",
            "    accuracy                           0.49   2651690\n",
            "   macro avg       0.49      0.49      0.48   2651690\n",
            "weighted avg       0.49      0.49      0.48   2651690\n",
            "\n",
            "Confusion Matrix:\n",
            "[[500378 825467]\n",
            " [533967 791878]]\n",
            "start train xgb method\n"
          ]
        },
        {
          "output_type": "stream",
          "name": "stderr",
          "text": [
            "<ipython-input-37-721046bfcfa7>:12: FutureWarning: The frame.append method is deprecated and will be removed from pandas in a future version. Use pandas.concat instead.\n",
            "  X_train = X_upstream_r.append(pd.DataFrame(X_retrained, columns = feature_resampling_extract_item[0:11]))\n",
            "<ipython-input-37-721046bfcfa7>:13: FutureWarning: The series.append method is deprecated and will be removed from pandas in a future version. Use pandas.concat instead.\n",
            "  y_train = y_upstream_r.append(y_retrained)\n"
          ]
        },
        {
          "output_type": "stream",
          "name": "stdout",
          "text": [
            "~~~~START TRAIN XGBOOST~~~~\n",
            "Time taken to fit the model: 2.6302073001861572 seconds\n",
            "predict xgb\n",
            "Time taken to predict the model: 0.10053706169128418 seconds\n",
            "Accuracy 0.34444524058242104\n",
            "              precision    recall  f1-score   support\n",
            "\n",
            "           0       0.40      0.64      0.49   1325845\n",
            "           1       0.12      0.05      0.07   1325845\n",
            "\n",
            "    accuracy                           0.34   2651690\n",
            "   macro avg       0.26      0.34      0.28   2651690\n",
            "weighted avg       0.26      0.34      0.28   2651690\n",
            "\n",
            "Confusion Matrix:\n",
            "[[ 849452  476393]\n",
            " [1261935   63910]]\n",
            "start train knn method\n"
          ]
        },
        {
          "output_type": "stream",
          "name": "stderr",
          "text": [
            "<ipython-input-37-721046bfcfa7>:12: FutureWarning: The frame.append method is deprecated and will be removed from pandas in a future version. Use pandas.concat instead.\n",
            "  X_train = X_upstream_r.append(pd.DataFrame(X_retrained, columns = feature_resampling_extract_item[0:11]))\n",
            "<ipython-input-37-721046bfcfa7>:13: FutureWarning: The series.append method is deprecated and will be removed from pandas in a future version. Use pandas.concat instead.\n",
            "  y_train = y_upstream_r.append(y_retrained)\n"
          ]
        },
        {
          "output_type": "stream",
          "name": "stdout",
          "text": [
            "~~~~START TRAIN KNN~~~~\n",
            "Time taken to fit the model: 5.904505014419556 seconds\n",
            "predict knn\n"
          ]
        },
        {
          "output_type": "stream",
          "name": "stderr",
          "text": [
            "/usr/local/lib/python3.10/dist-packages/sklearn/base.py:439: UserWarning: X does not have valid feature names, but KNeighborsClassifier was fitted with feature names\n",
            "  warnings.warn(\n"
          ]
        },
        {
          "output_type": "stream",
          "name": "stdout",
          "text": [
            "Time taken to predict the model: 572.9289026260376 seconds\n",
            "Accuracy 0.422799422255241\n",
            "              precision    recall  f1-score   support\n",
            "\n",
            "           0       0.45      0.66      0.53   1325845\n",
            "           1       0.36      0.19      0.25   1325845\n",
            "\n",
            "    accuracy                           0.42   2651690\n",
            "   macro avg       0.40      0.42      0.39   2651690\n",
            "weighted avg       0.40      0.42      0.39   2651690\n",
            "\n",
            "Confusion Matrix:\n",
            "[[ 870127  455718]\n",
            " [1074839  251006]]\n"
          ]
        }
      ]
    },
    {
      "cell_type": "code",
      "source": [
        "del data_test_2018_original_r, X_test_r, df2018_original_y_r"
      ],
      "metadata": {
        "id": "TnmdITvHOXVh"
      },
      "execution_count": null,
      "outputs": []
    },
    {
      "cell_type": "markdown",
      "source": [
        "### 2018 Improved"
      ],
      "metadata": {
        "id": "eIjuvDNBL2Wh"
      }
    },
    {
      "cell_type": "code",
      "source": [
        "training_methods(data_test_2018_corrected, X_test, df2018_corrected_y, methods, False)"
      ],
      "metadata": {
        "colab": {
          "base_uri": "https://localhost:8080/"
        },
        "id": "5y1WJva9L1ux",
        "outputId": "c9edeb57-ab60-450b-9978-5c8b4606d7a2"
      },
      "execution_count": null,
      "outputs": [
        {
          "output_type": "stream",
          "name": "stdout",
          "text": [
            "start train rf method\n"
          ]
        },
        {
          "output_type": "stream",
          "name": "stderr",
          "text": [
            "<ipython-input-37-721046bfcfa7>:17: FutureWarning: The frame.append method is deprecated and will be removed from pandas in a future version. Use pandas.concat instead.\n",
            "  X_train = X_upstream.append(pd.DataFrame(X_retrained, columns = feature_extract_item[0:10]))\n",
            "<ipython-input-37-721046bfcfa7>:18: FutureWarning: The series.append method is deprecated and will be removed from pandas in a future version. Use pandas.concat instead.\n",
            "  y_train = y_upstream.append(y_retrained)\n"
          ]
        },
        {
          "output_type": "stream",
          "name": "stdout",
          "text": [
            "~~~~START TRAIN RANDOM FOREST~~~~\n",
            "Time taken to fit the model: 8.053287029266357 seconds\n",
            "predict rf\n"
          ]
        },
        {
          "output_type": "stream",
          "name": "stderr",
          "text": [
            "/usr/local/lib/python3.10/dist-packages/sklearn/base.py:439: UserWarning: X does not have valid feature names, but RandomForestClassifier was fitted with feature names\n",
            "  warnings.warn(\n"
          ]
        },
        {
          "output_type": "stream",
          "name": "stdout",
          "text": [
            "Time taken to predict the model: 2.2523415088653564 seconds\n",
            "Accuracy 0.4171290784494221\n",
            "              precision    recall  f1-score   support\n",
            "\n",
            "           0       0.53      0.40      0.45   5935341\n",
            "           1       0.32      0.45      0.38   3841659\n",
            "\n",
            "    accuracy                           0.42   9777000\n",
            "   macro avg       0.43      0.42      0.41   9777000\n",
            "weighted avg       0.45      0.42      0.42   9777000\n",
            "\n",
            "Confusion Matrix:\n",
            "[[2362260 3573081]\n",
            " [2125648 1716011]]\n",
            "start train xgb method\n"
          ]
        },
        {
          "output_type": "stream",
          "name": "stderr",
          "text": [
            "<ipython-input-37-721046bfcfa7>:17: FutureWarning: The frame.append method is deprecated and will be removed from pandas in a future version. Use pandas.concat instead.\n",
            "  X_train = X_upstream.append(pd.DataFrame(X_retrained, columns = feature_extract_item[0:10]))\n",
            "<ipython-input-37-721046bfcfa7>:18: FutureWarning: The series.append method is deprecated and will be removed from pandas in a future version. Use pandas.concat instead.\n",
            "  y_train = y_upstream.append(y_retrained)\n"
          ]
        },
        {
          "output_type": "stream",
          "name": "stdout",
          "text": [
            "~~~~START TRAIN XGBOOST~~~~\n",
            "Time taken to fit the model: 3.3041605949401855 seconds\n",
            "predict xgb\n",
            "Time taken to predict the model: 0.2630033493041992 seconds\n",
            "Accuracy 0.5519054924823565\n",
            "              precision    recall  f1-score   support\n",
            "\n",
            "           0       0.58      0.91      0.71   5935341\n",
            "           1       0.02      0.00      0.00   3841659\n",
            "\n",
            "    accuracy                           0.55   9777000\n",
            "   macro avg       0.30      0.45      0.36   9777000\n",
            "weighted avg       0.36      0.55      0.43   9777000\n",
            "\n",
            "Confusion Matrix:\n",
            "[[5386985  548356]\n",
            " [3832664    8995]]\n",
            "start train knn method\n"
          ]
        },
        {
          "output_type": "stream",
          "name": "stderr",
          "text": [
            "<ipython-input-37-721046bfcfa7>:17: FutureWarning: The frame.append method is deprecated and will be removed from pandas in a future version. Use pandas.concat instead.\n",
            "  X_train = X_upstream.append(pd.DataFrame(X_retrained, columns = feature_extract_item[0:10]))\n",
            "<ipython-input-37-721046bfcfa7>:18: FutureWarning: The series.append method is deprecated and will be removed from pandas in a future version. Use pandas.concat instead.\n",
            "  y_train = y_upstream.append(y_retrained)\n"
          ]
        },
        {
          "output_type": "stream",
          "name": "stdout",
          "text": [
            "~~~~START TRAIN KNN~~~~\n",
            "Time taken to fit the model: 23.97339391708374 seconds\n",
            "predict knn\n"
          ]
        },
        {
          "output_type": "stream",
          "name": "stderr",
          "text": [
            "/usr/local/lib/python3.10/dist-packages/sklearn/base.py:439: UserWarning: X does not have valid feature names, but KNeighborsClassifier was fitted with feature names\n",
            "  warnings.warn(\n"
          ]
        },
        {
          "output_type": "stream",
          "name": "stdout",
          "text": [
            "Time taken to predict the model: 2737.6262786388397 seconds\n",
            "Accuracy 0.4478408509767822\n",
            "              precision    recall  f1-score   support\n",
            "\n",
            "           0       0.53      0.70      0.60   5935341\n",
            "           1       0.12      0.06      0.08   3841659\n",
            "\n",
            "    accuracy                           0.45   9777000\n",
            "   macro avg       0.33      0.38      0.34   9777000\n",
            "weighted avg       0.37      0.45      0.40   9777000\n",
            "\n",
            "Confusion Matrix:\n",
            "[[4131961 1803380]\n",
            " [3595080  246579]]\n"
          ]
        }
      ]
    },
    {
      "cell_type": "code",
      "source": [
        "del data_test_2018_corrected, X_test, df2018_corrected_y"
      ],
      "metadata": {
        "id": "uYQ_9m4QL7QC"
      },
      "execution_count": null,
      "outputs": []
    },
    {
      "cell_type": "markdown",
      "source": [
        "### resampling\n"
      ],
      "metadata": {
        "id": "tc0wVpTsnIj3"
      }
    },
    {
      "cell_type": "code",
      "source": [],
      "metadata": {
        "id": "lvlALQEJnJjj"
      },
      "execution_count": null,
      "outputs": []
    },
    {
      "cell_type": "code",
      "source": [
        "training_methods(data_test_2018_corrected_r, X_test_r, df2018_corrected_y_r, methods, True)"
      ],
      "metadata": {
        "colab": {
          "base_uri": "https://localhost:8080/"
        },
        "id": "c35ltGI-OHLO",
        "outputId": "60ef141b-21fc-4596-81b1-a8274da1285c"
      },
      "execution_count": null,
      "outputs": [
        {
          "output_type": "stream",
          "name": "stdout",
          "text": [
            "start train rf method\n"
          ]
        },
        {
          "output_type": "stream",
          "name": "stderr",
          "text": [
            "<ipython-input-37-721046bfcfa7>:12: FutureWarning: The frame.append method is deprecated and will be removed from pandas in a future version. Use pandas.concat instead.\n",
            "  X_train = X_upstream_r.append(pd.DataFrame(X_retrained, columns = feature_resampling_extract_item[0:11]))\n",
            "<ipython-input-37-721046bfcfa7>:13: FutureWarning: The series.append method is deprecated and will be removed from pandas in a future version. Use pandas.concat instead.\n",
            "  y_train = y_upstream_r.append(y_retrained)\n"
          ]
        },
        {
          "output_type": "stream",
          "name": "stdout",
          "text": [
            "~~~~START TRAIN RANDOM FOREST~~~~\n",
            "Time taken to fit the model: 5.096403121948242 seconds\n",
            "predict rf\n"
          ]
        },
        {
          "output_type": "stream",
          "name": "stderr",
          "text": [
            "/usr/local/lib/python3.10/dist-packages/sklearn/base.py:439: UserWarning: X does not have valid feature names, but RandomForestClassifier was fitted with feature names\n",
            "  warnings.warn(\n"
          ]
        },
        {
          "output_type": "stream",
          "name": "stdout",
          "text": [
            "Time taken to predict the model: 1.6913998126983643 seconds\n",
            "Accuracy 0.766220509303734\n",
            "              precision    recall  f1-score   support\n",
            "\n",
            "           0       0.83      0.67      0.74   3841654\n",
            "           1       0.72      0.86      0.79   3841659\n",
            "\n",
            "    accuracy                           0.77   7683313\n",
            "   macro avg       0.78      0.77      0.76   7683313\n",
            "weighted avg       0.78      0.77      0.76   7683313\n",
            "\n",
            "Confusion Matrix:\n",
            "[[2590501 1251153]\n",
            " [ 545048 3296611]]\n",
            "start train xgb method\n"
          ]
        },
        {
          "output_type": "stream",
          "name": "stderr",
          "text": [
            "<ipython-input-37-721046bfcfa7>:12: FutureWarning: The frame.append method is deprecated and will be removed from pandas in a future version. Use pandas.concat instead.\n",
            "  X_train = X_upstream_r.append(pd.DataFrame(X_retrained, columns = feature_resampling_extract_item[0:11]))\n",
            "<ipython-input-37-721046bfcfa7>:13: FutureWarning: The series.append method is deprecated and will be removed from pandas in a future version. Use pandas.concat instead.\n",
            "  y_train = y_upstream_r.append(y_retrained)\n"
          ]
        },
        {
          "output_type": "stream",
          "name": "stdout",
          "text": [
            "~~~~START TRAIN XGBOOST~~~~\n",
            "Time taken to fit the model: 1.9737293720245361 seconds\n",
            "predict xgb\n",
            "Time taken to predict the model: 0.19787240028381348 seconds\n",
            "Accuracy 0.7267167171245008\n",
            "              precision    recall  f1-score   support\n",
            "\n",
            "           0       0.84      0.56      0.67   3841654\n",
            "           1       0.67      0.90      0.77   3841659\n",
            "\n",
            "    accuracy                           0.73   7683313\n",
            "   macro avg       0.76      0.73      0.72   7683313\n",
            "weighted avg       0.76      0.73      0.72   7683313\n",
            "\n",
            "Confusion Matrix:\n",
            "[[2138845 1702809]\n",
            " [ 396912 3444747]]\n",
            "start train knn method\n"
          ]
        },
        {
          "output_type": "stream",
          "name": "stderr",
          "text": [
            "<ipython-input-37-721046bfcfa7>:12: FutureWarning: The frame.append method is deprecated and will be removed from pandas in a future version. Use pandas.concat instead.\n",
            "  X_train = X_upstream_r.append(pd.DataFrame(X_retrained, columns = feature_resampling_extract_item[0:11]))\n",
            "<ipython-input-37-721046bfcfa7>:13: FutureWarning: The series.append method is deprecated and will be removed from pandas in a future version. Use pandas.concat instead.\n",
            "  y_train = y_upstream_r.append(y_retrained)\n"
          ]
        },
        {
          "output_type": "stream",
          "name": "stdout",
          "text": [
            "~~~~START TRAIN KNN~~~~\n",
            "Time taken to fit the model: 7.270895957946777 seconds\n",
            "predict knn\n"
          ]
        },
        {
          "output_type": "stream",
          "name": "stderr",
          "text": [
            "/usr/local/lib/python3.10/dist-packages/sklearn/base.py:439: UserWarning: X does not have valid feature names, but KNeighborsClassifier was fitted with feature names\n",
            "  warnings.warn(\n"
          ]
        },
        {
          "output_type": "stream",
          "name": "stdout",
          "text": [
            "Time taken to predict the model: 8016.9063601493835 seconds\n",
            "Accuracy 0.667742417886659\n",
            "              precision    recall  f1-score   support\n",
            "\n",
            "           0       0.82      0.43      0.57   3841654\n",
            "           1       0.61      0.90      0.73   3841659\n",
            "\n",
            "    accuracy                           0.67   7683313\n",
            "   macro avg       0.72      0.67      0.65   7683313\n",
            "weighted avg       0.72      0.67      0.65   7683313\n",
            "\n",
            "Confusion Matrix:\n",
            "[[1664321 2177333]\n",
            " [ 375506 3466153]]\n"
          ]
        }
      ]
    },
    {
      "cell_type": "code",
      "source": [],
      "metadata": {
        "id": "d3QS58AhZz7Y"
      },
      "execution_count": null,
      "outputs": []
    },
    {
      "cell_type": "markdown",
      "source": [
        "### Experiment"
      ],
      "metadata": {
        "id": "imsXQLcKDj1S"
      }
    },
    {
      "cell_type": "code",
      "source": [
        "common_feature_item = ['Bwd Packet Length Mean',\n",
        "                       'Bwd Packet Length Max',\n",
        "                       'Avg Bwd Segment Size',\n",
        "                       'Max Packet Length',\n",
        "                       'Total Length of Fwd Packets',\n",
        "                       'Total Length of Bwd Packets',\n",
        "                       'Total Backward Packets']"
      ],
      "metadata": {
        "id": "uFZ-vAlXDk0k"
      },
      "execution_count": 18,
      "outputs": []
    },
    {
      "cell_type": "code",
      "source": [],
      "metadata": {
        "id": "g8K7xvhHzyjg"
      },
      "execution_count": null,
      "outputs": []
    },
    {
      "cell_type": "code",
      "source": [
        "df2017_corrected_y = data2017_corrected['label_encoded']\n",
        "df2017_corrected_X = data2017_corrected[common_feature_item]"
      ],
      "metadata": {
        "id": "hqx5-UnkDncP"
      },
      "execution_count": null,
      "outputs": []
    },
    {
      "cell_type": "code",
      "source": [
        "scaler = StandardScaler()\n",
        "X_test = scaler.fit_transform(df2017_corrected_X)"
      ],
      "metadata": {
        "id": "SpFFSFjqD67F"
      },
      "execution_count": null,
      "outputs": []
    },
    {
      "cell_type": "code",
      "source": [
        "data_test_2017_corrected = pd.DataFrame()"
      ],
      "metadata": {
        "id": "3qrgHO7FECsv"
      },
      "execution_count": null,
      "outputs": []
    },
    {
      "cell_type": "code",
      "source": [
        "for method in methods:\n",
        "    predict_methods(data_test_2017_corrected, X_test, df2017_corrected_y, method, False)"
      ],
      "metadata": {
        "colab": {
          "base_uri": "https://localhost:8080/"
        },
        "id": "y5SZXbygD8ut",
        "outputId": "e7ad3fc7-6582-48ad-c7c2-cff626fc40a5"
      },
      "execution_count": null,
      "outputs": [
        {
          "output_type": "stream",
          "name": "stdout",
          "text": [
            "predict rf\n",
            "load_pretrained_model: /content/onedrive/models/model_rf_finetune.joblib\n",
            "Accuracy 0.8506312706223086\n",
            "              precision    recall  f1-score   support\n",
            "\n",
            "           0       0.84      1.00      0.91   1594540\n",
            "           1       1.00      0.38      0.55    505431\n",
            "\n",
            "    accuracy                           0.85   2099971\n",
            "   macro avg       0.92      0.69      0.73   2099971\n",
            "weighted avg       0.87      0.85      0.82   2099971\n",
            "\n",
            "Confusion Matrix:\n",
            "[[1593622     918]\n",
            " [ 312752  192679]]\n",
            "predict xgb\n",
            "load_pretrained_model: /content/onedrive/models/model_xgb_finetune.json\n",
            "Accuracy 0.7811707875965906\n",
            "              precision    recall  f1-score   support\n",
            "\n",
            "           0       0.78      1.00      0.87   1594540\n",
            "           1       0.94      0.10      0.18    505431\n",
            "\n",
            "    accuracy                           0.78   2099971\n",
            "   macro avg       0.86      0.55      0.53   2099971\n",
            "weighted avg       0.82      0.78      0.71   2099971\n",
            "\n",
            "Confusion Matrix:\n",
            "[[1591146    3394]\n",
            " [ 456141   49290]]\n",
            "predict knn\n",
            "load_pretrained_model: /content/onedrive/models/model_knn_finetune.joblib\n",
            "Accuracy 0.7368306514709012\n",
            "              precision    recall  f1-score   support\n",
            "\n",
            "           0       0.76      0.96      0.85   1594540\n",
            "           1       0.18      0.03      0.05    505431\n",
            "\n",
            "    accuracy                           0.74   2099971\n",
            "   macro avg       0.47      0.49      0.45   2099971\n",
            "weighted avg       0.62      0.74      0.65   2099971\n",
            "\n",
            "Confusion Matrix:\n",
            "[[1533927   60613]\n",
            " [ 492035   13396]]\n"
          ]
        }
      ]
    },
    {
      "cell_type": "code",
      "source": [
        "del data2017_corrected, df2017_corrected_y, df2017_corrected_X, X_test"
      ],
      "metadata": {
        "id": "1A_BJ04KGjUE"
      },
      "execution_count": null,
      "outputs": []
    },
    {
      "cell_type": "code",
      "source": [],
      "metadata": {
        "id": "1Y1rx92AG2XY"
      },
      "execution_count": null,
      "outputs": []
    },
    {
      "cell_type": "code",
      "source": [
        "df2018_original_y = data2018_original['label_encoded']\n",
        "df2018_original_X = data2018_original[common_feature_item]\n",
        "scaler = StandardScaler()\n",
        "X_test = scaler.fit_transform(df2018_original_X)\n",
        "data_test_2018_original = pd.DataFrame()\n"
      ],
      "metadata": {
        "id": "x0vNuIAlG4R2"
      },
      "execution_count": null,
      "outputs": []
    },
    {
      "cell_type": "code",
      "source": [
        "for method in methods:\n",
        "    predict_methods(data_test_2018_original, X_test, df2018_original_y, method, False)"
      ],
      "metadata": {
        "colab": {
          "base_uri": "https://localhost:8080/"
        },
        "id": "gWdiZiGKG4uF",
        "outputId": "d85b655a-62e3-4257-d565-656934056dad"
      },
      "execution_count": null,
      "outputs": [
        {
          "output_type": "stream",
          "name": "stdout",
          "text": [
            "predict rf\n",
            "load_pretrained_model: /content/onedrive/models/model_rf_finetune.joblib\n",
            "Accuracy 0.8307480771868568\n",
            "              precision    recall  f1-score   support\n",
            "\n",
            "           0       0.87      0.95      0.91   9493199\n",
            "           1       0.01      0.01      0.01   1325845\n",
            "\n",
            "    accuracy                           0.83  10819044\n",
            "   macro avg       0.44      0.48      0.46  10819044\n",
            "weighted avg       0.77      0.83      0.80  10819044\n",
            "\n",
            "Confusion Matrix:\n",
            "[[8981104  512095]\n",
            " [1319049    6796]]\n",
            "predict xgb\n",
            "load_pretrained_model: /content/onedrive/models/model_xgb_finetune.json\n",
            "Accuracy 0.8698202909610129\n",
            "              precision    recall  f1-score   support\n",
            "\n",
            "           0       0.88      0.99      0.93   9493199\n",
            "           1       0.02      0.00      0.00   1325845\n",
            "\n",
            "    accuracy                           0.87  10819044\n",
            "   macro avg       0.45      0.50      0.47  10819044\n",
            "weighted avg       0.77      0.87      0.82  10819044\n",
            "\n",
            "Confusion Matrix:\n",
            "[[9409209   83990]\n",
            " [1324430    1415]]\n",
            "predict knn\n",
            "load_pretrained_model: /content/onedrive/models/model_knn_finetune.joblib\n",
            "Accuracy 0.8613365469259576\n",
            "              precision    recall  f1-score   support\n",
            "\n",
            "           0       0.88      0.98      0.93   9493199\n",
            "           1       0.01      0.00      0.00   1325845\n",
            "\n",
            "    accuracy                           0.86  10819044\n",
            "   macro avg       0.44      0.49      0.46  10819044\n",
            "weighted avg       0.77      0.86      0.81  10819044\n",
            "\n",
            "Confusion Matrix:\n",
            "[[9316630  176569]\n",
            " [1323637    2208]]\n"
          ]
        }
      ]
    },
    {
      "cell_type": "code",
      "source": [
        "del data2018_original, df2018_original_y, df2018_original_X, X_test\n"
      ],
      "metadata": {
        "id": "xojGIDvXG4yP"
      },
      "execution_count": null,
      "outputs": []
    },
    {
      "cell_type": "code",
      "source": [
        "df2018_corrected_y = data2018_corrected['label_encoded']\n",
        "df2018_corrected_X = data2018_corrected[common_feature_item]\n",
        "scaler = StandardScaler()\n",
        "X_test = scaler.fit_transform(df2018_corrected_X)\n",
        "data_test_2018_corrected = pd.DataFrame()\n"
      ],
      "metadata": {
        "id": "7QyXiv0-G41D"
      },
      "execution_count": 19,
      "outputs": []
    },
    {
      "cell_type": "code",
      "source": [
        "for method in methods:\n",
        "    predict_methods(data_test_2018_corrected, X_test, df2018_corrected_y, method, False)"
      ],
      "metadata": {
        "id": "qMBWPiDgG43T",
        "colab": {
          "base_uri": "https://localhost:8080/"
        },
        "outputId": "124bb7a6-5b86-4d6f-b33e-753c4211adec"
      },
      "execution_count": 20,
      "outputs": [
        {
          "output_type": "stream",
          "name": "stdout",
          "text": [
            "predict rf\n",
            "load_pretrained_model: /content/onedrive/models/model_rf_finetune.joblib\n",
            "Accuracy 0.605633323105247\n",
            "              precision    recall  f1-score   support\n",
            "\n",
            "           0       0.61      1.00      0.75   5935341\n",
            "           1       0.00      0.00      0.00   3841659\n",
            "\n",
            "    accuracy                           0.61   9777000\n",
            "   macro avg       0.30      0.50      0.38   9777000\n",
            "weighted avg       0.37      0.61      0.46   9777000\n",
            "\n",
            "Confusion Matrix:\n",
            "[[5921231   14110]\n",
            " [3841613      46]]\n",
            "predict xgb\n",
            "load_pretrained_model: /content/onedrive/models/model_xgb_finetune.json\n",
            "Accuracy 0.6027372404623095\n",
            "              precision    recall  f1-score   support\n",
            "\n",
            "           0       0.61      0.99      0.75   5935341\n",
            "           1       0.00      0.00      0.00   3841659\n",
            "\n",
            "    accuracy                           0.60   9777000\n",
            "   macro avg       0.30      0.50      0.38   9777000\n",
            "weighted avg       0.37      0.60      0.46   9777000\n",
            "\n",
            "Confusion Matrix:\n",
            "[[5892945   42396]\n",
            " [3841642      17]]\n",
            "predict knn\n",
            "load_pretrained_model: /content/onedrive/models/model_knn_finetune.joblib\n",
            "Accuracy 0.5924178173263782\n",
            "              precision    recall  f1-score   support\n",
            "\n",
            "           0       0.60      0.98      0.74   5935341\n",
            "           1       0.00      0.00      0.00   3841659\n",
            "\n",
            "    accuracy                           0.59   9777000\n",
            "   macro avg       0.30      0.49      0.37   9777000\n",
            "weighted avg       0.37      0.59      0.45   9777000\n",
            "\n",
            "Confusion Matrix:\n",
            "[[5791792  143549]\n",
            " [3841382     277]]\n"
          ]
        }
      ]
    },
    {
      "cell_type": "code",
      "source": [],
      "metadata": {
        "id": "JXsa9lPJHfui"
      },
      "execution_count": null,
      "outputs": []
    },
    {
      "cell_type": "markdown",
      "source": [],
      "metadata": {
        "id": "lWHmi3uGz0IZ"
      }
    },
    {
      "cell_type": "code",
      "source": [
        "feature_extract_item.append('Total Length of Fwd Packets')\n",
        "feature_extract_item.append('Total Length of Bwd Packets')\n",
        "feature_extract_item.append('Total Backward Packets')\n",
        "\n"
      ],
      "metadata": {
        "id": "LnirPOgkz0YY"
      },
      "execution_count": 17,
      "outputs": []
    },
    {
      "cell_type": "code",
      "source": [
        "feature_extract_item"
      ],
      "metadata": {
        "colab": {
          "base_uri": "https://localhost:8080/"
        },
        "id": "fofWDEz2bL2Y",
        "outputId": "51d80607-a43e-4f23-ffdd-51d8565f265f"
      },
      "execution_count": 18,
      "outputs": [
        {
          "output_type": "execute_result",
          "data": {
            "text/plain": [
              "['Packet Length Std',\n",
              " 'Bwd Packet Length Std',\n",
              " 'Packet Length Variance',\n",
              " 'Bwd Packet Length Mean',\n",
              " 'Average Packet Size',\n",
              " 'Bwd Packet Length Max',\n",
              " 'Avg Bwd Segment Size',\n",
              " 'Packet Length Mean',\n",
              " 'Max Packet Length',\n",
              " 'Subflow Bwd Bytes',\n",
              " 'Total Length of Fwd Packets',\n",
              " 'Total Length of Bwd Packets',\n",
              " 'Total Backward Packets']"
            ]
          },
          "metadata": {},
          "execution_count": 18
        }
      ]
    },
    {
      "cell_type": "code",
      "source": [
        "df2017_corrected_y = data2017_corrected['label_encoded']\n",
        "df2017_corrected_X = data2017_corrected[feature_extract_item]"
      ],
      "metadata": {
        "id": "Jm3iHhVZNfKI"
      },
      "execution_count": 28,
      "outputs": []
    },
    {
      "cell_type": "code",
      "source": [
        "scaler = StandardScaler()\n",
        "X_test = scaler.fit_transform(df2017_corrected_X)"
      ],
      "metadata": {
        "id": "i4i-foL-Ni2-"
      },
      "execution_count": 29,
      "outputs": []
    },
    {
      "cell_type": "code",
      "source": [
        "data_test_2017_corrected = pd.DataFrame()\n"
      ],
      "metadata": {
        "id": "CvFpA7UMNmbg"
      },
      "execution_count": 30,
      "outputs": []
    },
    {
      "cell_type": "code",
      "source": [
        "for method in methods:\n",
        "    predict_methods(data_test_2017_corrected, X_test, df2017_corrected_y, method, False)"
      ],
      "metadata": {
        "id": "a3t9pHgPz35m",
        "colab": {
          "base_uri": "https://localhost:8080/"
        },
        "outputId": "ba0932d2-790f-4c01-d3a2-98a5c0004f5a"
      },
      "execution_count": 31,
      "outputs": [
        {
          "output_type": "stream",
          "name": "stdout",
          "text": [
            "predict rf\n",
            "load_pretrained_model: /content/onedrive/models/model_rf_finetune_2.joblib\n",
            "Accuracy 0.8469345529057306\n",
            "              precision    recall  f1-score   support\n",
            "\n",
            "           0       0.83      1.00      0.91   1594540\n",
            "           1       0.99      0.37      0.54    505431\n",
            "\n",
            "    accuracy                           0.85   2099971\n",
            "   macro avg       0.91      0.68      0.72   2099971\n",
            "weighted avg       0.87      0.85      0.82   2099971\n",
            "\n",
            "Confusion Matrix:\n",
            "[[1593350    1190]\n",
            " [ 320243  185188]]\n",
            "predict xgb\n",
            "load_pretrained_model: /content/onedrive/models/model_xgb_finetune_2.json\n",
            "Accuracy 0.7627895813799334\n",
            "              precision    recall  f1-score   support\n",
            "\n",
            "           0       0.76      1.00      0.86   1594540\n",
            "           1       0.85      0.02      0.03    505431\n",
            "\n",
            "    accuracy                           0.76   2099971\n",
            "   macro avg       0.80      0.51      0.45   2099971\n",
            "weighted avg       0.78      0.76      0.66   2099971\n",
            "\n",
            "Confusion Matrix:\n",
            "[[1592908    1632]\n",
            " [ 496503    8928]]\n",
            "predict knn\n",
            "load_pretrained_model: /content/onedrive/models/model_knn_finetune_2.joblib\n",
            "Accuracy 0.8560213450566698\n",
            "              precision    recall  f1-score   support\n",
            "\n",
            "           0       0.84      1.00      0.91   1594540\n",
            "           1       0.98      0.41      0.58    505431\n",
            "\n",
            "    accuracy                           0.86   2099971\n",
            "   macro avg       0.91      0.70      0.75   2099971\n",
            "weighted avg       0.88      0.86      0.83   2099971\n",
            "\n",
            "Confusion Matrix:\n",
            "[[1590940    3600]\n",
            " [ 298751  206680]]\n"
          ]
        }
      ]
    },
    {
      "cell_type": "code",
      "source": [
        "del data2017_corrected, df2017_corrected_y, df2017_corrected_X, X_test"
      ],
      "metadata": {
        "id": "zLjHMP0zNxrf"
      },
      "execution_count": 32,
      "outputs": []
    },
    {
      "cell_type": "code",
      "source": [
        "df2018_original_y = data2018_original['label_encoded']\n",
        "df2018_original_X = data2018_original[feature_extract_item]\n",
        "scaler = StandardScaler()\n",
        "X_test = scaler.fit_transform(df2018_original_X)\n",
        "data_test_2018_original = pd.DataFrame()"
      ],
      "metadata": {
        "id": "2ERw2NZlQyda"
      },
      "execution_count": 19,
      "outputs": []
    },
    {
      "cell_type": "code",
      "source": [
        "for method in methods:\n",
        "    predict_methods(data_test_2018_original, X_test, df2018_original_y, method, False)"
      ],
      "metadata": {
        "id": "3fdhbYEhz9-U",
        "colab": {
          "base_uri": "https://localhost:8080/"
        },
        "outputId": "2263af02-29ab-4fc1-d9d9-aea8b005599b"
      },
      "execution_count": 20,
      "outputs": [
        {
          "output_type": "stream",
          "name": "stdout",
          "text": [
            "predict rf\n",
            "load_pretrained_model: /content/onedrive/models/model_rf_finetune_2.joblib\n",
            "Accuracy 0.8346190291859429\n",
            "              precision    recall  f1-score   support\n",
            "\n",
            "           0       0.87      0.95      0.91   9493199\n",
            "           1       0.01      0.00      0.01   1325845\n",
            "\n",
            "    accuracy                           0.83  10819044\n",
            "   macro avg       0.44      0.48      0.46  10819044\n",
            "weighted avg       0.77      0.83      0.80  10819044\n",
            "\n",
            "Confusion Matrix:\n",
            "[[9023982  469217]\n",
            " [1320047    5798]]\n",
            "predict xgb\n",
            "load_pretrained_model: /content/onedrive/models/model_xgb_finetune_2.json\n",
            "Accuracy 0.8391467859821995\n",
            "              precision    recall  f1-score   support\n",
            "\n",
            "           0       0.87      0.96      0.91   9493199\n",
            "           1       0.02      0.01      0.01   1325845\n",
            "\n",
            "    accuracy                           0.84  10819044\n",
            "   macro avg       0.44      0.48      0.46  10819044\n",
            "weighted avg       0.77      0.84      0.80  10819044\n",
            "\n",
            "Confusion Matrix:\n",
            "[[9071908  421291]\n",
            " [1318987    6858]]\n",
            "predict knn\n",
            "load_pretrained_model: /content/onedrive/models/model_knn_finetune_2.joblib\n",
            "Accuracy 0.8272453647475692\n",
            "              precision    recall  f1-score   support\n",
            "\n",
            "           0       0.87      0.94      0.91   9493199\n",
            "           1       0.01      0.01      0.01   1325845\n",
            "\n",
            "    accuracy                           0.83  10819044\n",
            "   macro avg       0.44      0.47      0.46  10819044\n",
            "weighted avg       0.77      0.83      0.80  10819044\n",
            "\n",
            "Confusion Matrix:\n",
            "[[8942118  551081]\n",
            " [1317959    7886]]\n"
          ]
        }
      ]
    },
    {
      "cell_type": "code",
      "source": [
        "del data_test_2018_original, X_test, df2018_original_y"
      ],
      "metadata": {
        "id": "z5rE-SlZWmhp"
      },
      "execution_count": 21,
      "outputs": []
    },
    {
      "cell_type": "code",
      "source": [
        "df2018_corrected_y = data2018_corrected['label_encoded']\n",
        "df2018_corrected_X = data2018_corrected[feature_extract_item]\n",
        "scaler = StandardScaler()\n",
        "X_test = scaler.fit_transform(df2018_corrected_X)\n",
        "data_test_2018_corrected = pd.DataFrame()"
      ],
      "metadata": {
        "id": "eM9Ingt3QcUq"
      },
      "execution_count": 23,
      "outputs": []
    },
    {
      "cell_type": "code",
      "source": [
        "for method in methods:\n",
        "    predict_methods(data_test_2018_corrected, X_test, df2018_corrected_y, method, False)"
      ],
      "metadata": {
        "id": "IjapPJm9z_hs",
        "colab": {
          "base_uri": "https://localhost:8080/"
        },
        "outputId": "6241fbc3-38b3-4534-9cac-2ef21ec346dc"
      },
      "execution_count": 24,
      "outputs": [
        {
          "output_type": "stream",
          "name": "stdout",
          "text": [
            "predict rf\n",
            "load_pretrained_model: /content/onedrive/models/model_rf_finetune_2.joblib\n",
            "Accuracy 0.5960793699498824\n",
            "              precision    recall  f1-score   support\n",
            "\n",
            "           0       0.60      0.98      0.75   5935341\n",
            "           1       0.00      0.00      0.00   3841659\n",
            "\n",
            "    accuracy                           0.60   9777000\n",
            "   macro avg       0.30      0.49      0.37   9777000\n",
            "weighted avg       0.37      0.60      0.45   9777000\n",
            "\n",
            "Confusion Matrix:\n",
            "[[5827343  107998]\n",
            " [3841134     525]]\n",
            "predict xgb\n",
            "load_pretrained_model: /content/onedrive/models/model_xgb_finetune_2.json\n",
            "Accuracy 0.6067326378234632\n",
            "              precision    recall  f1-score   support\n",
            "\n",
            "           0       0.61      1.00      0.76   5935341\n",
            "           1       0.15      0.00      0.00   3841659\n",
            "\n",
            "    accuracy                           0.61   9777000\n",
            "   macro avg       0.38      0.50      0.38   9777000\n",
            "weighted avg       0.43      0.61      0.46   9777000\n",
            "\n",
            "Confusion Matrix:\n",
            "[[5931318    4023]\n",
            " [3840952     707]]\n",
            "predict knn\n",
            "load_pretrained_model: /content/onedrive/models/model_knn_finetune_2.joblib\n",
            "Accuracy 0.6010650506290273\n",
            "              precision    recall  f1-score   support\n",
            "\n",
            "           0       0.60      0.99      0.75   5935341\n",
            "           1       0.03      0.00      0.00   3841659\n",
            "\n",
            "    accuracy                           0.60   9777000\n",
            "   macro avg       0.32      0.50      0.38   9777000\n",
            "weighted avg       0.38      0.60      0.46   9777000\n",
            "\n",
            "Confusion Matrix:\n",
            "[[5874410   60931]\n",
            " [3839456    2203]]\n"
          ]
        }
      ]
    },
    {
      "cell_type": "code",
      "source": [
        "del data_test_2018_corrected, X_test, df2018_corrected_y"
      ],
      "metadata": {
        "id": "Rp6F1uPkQpBa"
      },
      "execution_count": 25,
      "outputs": []
    },
    {
      "cell_type": "code",
      "source": [],
      "metadata": {
        "id": "-xSY3QN9Ur1F"
      },
      "execution_count": null,
      "outputs": []
    }
  ],
  "metadata": {
    "kernelspec": {
      "display_name": "Python 3",
      "name": "python3"
    },
    "language_info": {
      "name": "python"
    },
    "colab": {
      "provenance": [],
      "machine_shape": "hm",
      "collapsed_sections": [
        "3gqbwObpakOb",
        "4RW054WReGTD",
        "JrvXcARKGWJU",
        "yP1_JCw2ckZV",
        "YsMg6Eywm0mY",
        "KZ_blLq3m33T",
        "jUFpbX-Rp226",
        "VzvElGdhL0ht",
        "eIjuvDNBL2Wh",
        "tc0wVpTsnIj3"
      ]
    }
  },
  "nbformat": 4,
  "nbformat_minor": 0
}