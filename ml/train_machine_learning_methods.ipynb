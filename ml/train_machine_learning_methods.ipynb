{
  "cells": [
    {
      "cell_type": "markdown",
      "metadata": {
        "id": "bsBloIyZ47r9"
      },
      "source": [
        "# Train ML Methods\n",
        "- Environment setup\n",
        "- Load datasets\n",
        "- Extract features by random forest (feature importance)\n",
        "- Prepare data: generate data only contains selected features\n",
        "- Train-Test split / data normalisation\n",
        "- Save 2017 upstream data as scratch - used for retraining for the new data\n",
        "- Train model\n",
        "- Tune hyperparameter"
      ]
    },
    {
      "cell_type": "markdown",
      "source": [
        "### Environment setup"
      ],
      "metadata": {
        "id": "qK-vfIqa7H0I"
      }
    },
    {
      "cell_type": "code",
      "execution_count": 1,
      "metadata": {
        "id": "N3cnLzNoDDx1",
        "colab": {
          "base_uri": "https://localhost:8080/"
        },
        "outputId": "9844bfff-7437-457f-c083-912592484f9c"
      },
      "outputs": [
        {
          "output_type": "stream",
          "name": "stdout",
          "text": [
            "Mounted at /content/gdrive\n"
          ]
        }
      ],
      "source": [
        "from google.colab import drive\n",
        "\n",
        "drive.mount('/content/gdrive')"
      ]
    },
    {
      "cell_type": "code",
      "execution_count": 2,
      "metadata": {
        "colab": {
          "base_uri": "https://localhost:8080/"
        },
        "id": "YaKOU2GKDIer",
        "outputId": "642b406d-d043-4078-9e1b-4f7b2b83adb6"
      },
      "outputs": [
        {
          "output_type": "stream",
          "name": "stdout",
          "text": [
            "--2023-08-17 09:30:42--  https://downloads.rclone.org/v1.63.0/rclone-v1.63.0-linux-amd64.deb\n",
            "Resolving downloads.rclone.org (downloads.rclone.org)... 95.217.6.16, 2a01:4f9:c012:7154::1\n",
            "Connecting to downloads.rclone.org (downloads.rclone.org)|95.217.6.16|:443... connected.\n",
            "HTTP request sent, awaiting response... 200 OK\n",
            "Length: 18373062 (18M) [application/vnd.debian.binary-package]\n",
            "Saving to: ‘rclone-v1.63.0-linux-amd64.deb’\n",
            "\n",
            "rclone-v1.63.0-linu 100%[===================>]  17.52M  12.0MB/s    in 1.5s    \n",
            "\n",
            "2023-08-17 09:30:44 (12.0 MB/s) - ‘rclone-v1.63.0-linux-amd64.deb’ saved [18373062/18373062]\n",
            "\n",
            "Reading package lists... Done\n",
            "Building dependency tree... Done\n",
            "Reading state information... Done\n",
            "Note, selecting 'rclone' instead of './rclone-v1.63.0-linux-amd64.deb'\n",
            "The following NEW packages will be installed:\n",
            "  rclone\n",
            "0 upgraded, 1 newly installed, 0 to remove and 16 not upgraded.\n",
            "Need to get 0 B/18.4 MB of archives.\n",
            "After this operation, 56.7 MB of additional disk space will be used.\n",
            "Get:1 /content/rclone-v1.63.0-linux-amd64.deb rclone amd64 1.63.0 [18.4 MB]\n",
            "Selecting previously unselected package rclone.\n",
            "(Reading database ... 120831 files and directories currently installed.)\n",
            "Preparing to unpack .../rclone-v1.63.0-linux-amd64.deb ...\n",
            "Unpacking rclone (1.63.0) ...\n",
            "Setting up rclone (1.63.0) ...\n",
            "Processing triggers for man-db (2.10.2-1) ...\n",
            "2023/08/17 09:30:49 NOTICE: Config file \"/root/.config/rclone/rclone.conf\" not found - using defaults\n",
            "No remotes found, make a new one?\n",
            "n) New remote\n",
            "s) Set configuration password\n",
            "q) Quit config\n",
            "n/s/q> n\n",
            "\n",
            "Enter name for new remote.\n",
            "name> onedrive\n",
            "\n",
            "Option Storage.\n",
            "Type of storage to configure.\n",
            "Choose a number from below, or type in your own value.\n",
            "\u001b[91m 1 / 1Fichier\n",
            "   \\ (fichier)\n",
            "\u001b[0m\u001b[92m 2 / Akamai NetStorage\n",
            "   \\ (netstorage)\n",
            "\u001b[0m\u001b[91m 3 / Alias for an existing remote\n",
            "   \\ (alias)\n",
            "\u001b[0m\u001b[92m 4 / Amazon Drive\n",
            "   \\ (amazon cloud drive)\n",
            "\u001b[0m\u001b[91m 5 / Amazon S3 Compliant Storage Providers including AWS, Alibaba, ArvanCloud, Ceph, China Mobile, Cloudflare, GCS, DigitalOcean, Dreamhost, Huawei OBS, IBM COS, IDrive e2, IONOS Cloud, Liara, Lyve Cloud, Minio, Netease, Petabox, RackCorp, Scaleway, SeaweedFS, StackPath, Storj, Tencent COS, Qiniu and Wasabi\n",
            "   \\ (s3)\n",
            "\u001b[0m\u001b[92m 6 / Backblaze B2\n",
            "   \\ (b2)\n",
            "\u001b[0m\u001b[91m 7 / Better checksums for other remotes\n",
            "   \\ (hasher)\n",
            "\u001b[0m\u001b[92m 8 / Box\n",
            "   \\ (box)\n",
            "\u001b[0m\u001b[91m 9 / Cache a remote\n",
            "   \\ (cache)\n",
            "\u001b[0m\u001b[92m10 / Citrix Sharefile\n",
            "   \\ (sharefile)\n",
            "\u001b[0m\u001b[91m11 / Combine several remotes into one\n",
            "   \\ (combine)\n",
            "\u001b[0m\u001b[92m12 / Compress a remote\n",
            "   \\ (compress)\n",
            "\u001b[0m\u001b[91m13 / Dropbox\n",
            "   \\ (dropbox)\n",
            "\u001b[0m\u001b[92m14 / Encrypt/Decrypt a remote\n",
            "   \\ (crypt)\n",
            "\u001b[0m\u001b[91m15 / Enterprise File Fabric\n",
            "   \\ (filefabric)\n",
            "\u001b[0m\u001b[92m16 / FTP\n",
            "   \\ (ftp)\n",
            "\u001b[0m\u001b[91m17 / Google Cloud Storage (this is not Google Drive)\n",
            "   \\ (google cloud storage)\n",
            "\u001b[0m\u001b[92m18 / Google Drive\n",
            "   \\ (drive)\n",
            "\u001b[0m\u001b[91m19 / Google Photos\n",
            "   \\ (google photos)\n",
            "\u001b[0m\u001b[92m20 / HTTP\n",
            "   \\ (http)\n",
            "\u001b[0m\u001b[91m21 / Hadoop distributed file system\n",
            "   \\ (hdfs)\n",
            "\u001b[0m\u001b[92m22 / HiDrive\n",
            "   \\ (hidrive)\n",
            "\u001b[0m\u001b[91m23 / In memory object storage system.\n",
            "   \\ (memory)\n",
            "\u001b[0m\u001b[92m24 / Internet Archive\n",
            "   \\ (internetarchive)\n",
            "\u001b[0m\u001b[91m25 / Jottacloud\n",
            "   \\ (jottacloud)\n",
            "\u001b[0m\u001b[92m26 / Koofr, Digi Storage and other Koofr-compatible storage providers\n",
            "   \\ (koofr)\n",
            "\u001b[0m\u001b[91m27 / Local Disk\n",
            "   \\ (local)\n",
            "\u001b[0m\u001b[92m28 / Mail.ru Cloud\n",
            "   \\ (mailru)\n",
            "\u001b[0m\u001b[91m29 / Mega\n",
            "   \\ (mega)\n",
            "\u001b[0m\u001b[92m30 / Microsoft Azure Blob Storage\n",
            "   \\ (azureblob)\n",
            "\u001b[0m\u001b[91m31 / Microsoft OneDrive\n",
            "   \\ (onedrive)\n",
            "\u001b[0m\u001b[92m32 / OpenDrive\n",
            "   \\ (opendrive)\n",
            "\u001b[0m\u001b[91m33 / OpenStack Swift (Rackspace Cloud Files, Blomp Cloud Storage, Memset Memstore, OVH)\n",
            "   \\ (swift)\n",
            "\u001b[0m\u001b[92m34 / Oracle Cloud Infrastructure Object Storage\n",
            "   \\ (oracleobjectstorage)\n",
            "\u001b[0m\u001b[91m35 / Pcloud\n",
            "   \\ (pcloud)\n",
            "\u001b[0m\u001b[92m36 / PikPak\n",
            "   \\ (pikpak)\n",
            "\u001b[0m\u001b[91m37 / Put.io\n",
            "   \\ (putio)\n",
            "\u001b[0m\u001b[92m38 / QingCloud Object Storage\n",
            "   \\ (qingstor)\n",
            "\u001b[0m\u001b[91m39 / SMB / CIFS\n",
            "   \\ (smb)\n",
            "\u001b[0m\u001b[92m40 / SSH/SFTP\n",
            "   \\ (sftp)\n",
            "\u001b[0m\u001b[91m41 / Sia Decentralized Cloud\n",
            "   \\ (sia)\n",
            "\u001b[0m\u001b[92m42 / Storj Decentralized Cloud Storage\n",
            "   \\ (storj)\n",
            "\u001b[0m\u001b[91m43 / Sugarsync\n",
            "   \\ (sugarsync)\n",
            "\u001b[0m\u001b[92m44 / Transparently chunk/split large files\n",
            "   \\ (chunker)\n",
            "\u001b[0m\u001b[91m45 / Union merges the contents of several upstream fs\n",
            "   \\ (union)\n",
            "\u001b[0m\u001b[92m46 / Uptobox\n",
            "   \\ (uptobox)\n",
            "\u001b[0m\u001b[91m47 / WebDAV\n",
            "   \\ (webdav)\n",
            "\u001b[0m\u001b[92m48 / Yandex Disk\n",
            "   \\ (yandex)\n",
            "\u001b[0m\u001b[91m49 / Zoho\n",
            "   \\ (zoho)\n",
            "\u001b[0m\u001b[92m50 / premiumize.me\n",
            "   \\ (premiumizeme)\n",
            "\u001b[0m\u001b[91m51 / seafile\n",
            "   \\ (seafile)\n",
            "\u001b[0mStorage> 31\n",
            "\n",
            "Option client_id.\n",
            "OAuth Client Id.\n",
            "Leave blank normally.\n",
            "Enter a value. Press Enter to leave empty.\n",
            "client_id> \n",
            "\n",
            "Option client_secret.\n",
            "OAuth Client Secret.\n",
            "Leave blank normally.\n",
            "Enter a value. Press Enter to leave empty.\n",
            "client_secret> \n",
            "\n",
            "Option region.\n",
            "Choose national cloud region for OneDrive.\n",
            "Choose a number from below, or type in your own string value.\n",
            "Press Enter for the default (global).\n",
            "\u001b[91m 1 / Microsoft Cloud Global\n",
            "   \\ (global)\n",
            "\u001b[0m\u001b[92m 2 / Microsoft Cloud for US Government\n",
            "   \\ (us)\n",
            "\u001b[0m\u001b[91m 3 / Microsoft Cloud Germany\n",
            "   \\ (de)\n",
            "\u001b[0m\u001b[92m 4 / Azure and Office 365 operated by Vnet Group in China\n",
            "   \\ (cn)\n",
            "\u001b[0mregion> \n",
            "\n",
            "Edit advanced config?\n",
            "y) Yes\n",
            "n) No (default)\n",
            "y/n> \n",
            "\n",
            "Use web browser to automatically authenticate rclone with remote?\n",
            " * Say Y if the machine running rclone has a web browser you can use\n",
            " * Say N if running rclone on a (remote) machine without web browser access\n",
            "If not sure try Y. If Y failed, try N.\n",
            "\n",
            "y) Yes (default)\n",
            "n) No\n",
            "y/n> n\n",
            "\n",
            "Option config_token.\n",
            "For this to work, you will need rclone available on a machine that has\n",
            "a web browser available.\n",
            "For more help and alternate methods see: https://rclone.org/remote_setup/\n",
            "Execute the following on the machine with the web browser (same rclone\n",
            "version recommended):\n",
            "\trclone authorize \"onedrive\"\n",
            "Then paste the result.\n",
            "Enter a value.\n",
            "config_token> {\"access_token\":\"eyJ0eXAiOiJKV1QiLCJub25jZSI6IjZFem03NGY5SW51Uk01X1VkcG9SVG44UTcyQ1Z3TUpIQ0MxczdZTTFWZ1kiLCJhbGciOiJSUzI1NiIsIng1dCI6Ii1LSTNROW5OUjdiUm9meG1lWm9YcWJIWkdldyIsImtpZCI6Ii1LSTNROW5OUjdiUm9meG1lWm9YcWJIWkdldyJ9.eyJhdWQiOiIwMDAwMDAwMy0wMDAwLTAwMDAtYzAwMC0wMDAwMDAwMDAwMDAiLCJpc3MiOiJodHRwczovL3N0cy53aW5kb3dzLm5ldC9iMmU0N2YzMC1jZDdkLTRhNGUtYTVkYS1iMThjZjFhNDE1MWIvIiwiaWF0IjoxNjg5NDkzNjkyLCJuYmYiOjE2ODk0OTM2OTIsImV4cCI6MTY4OTQ5ODE1OSwiYWNjdCI6MCwiYWNyIjoiMSIsImFpbyI6IkFWUUFxLzhUQUFBQVBHVk8xVjU4aXhBdEs5Nk1jY1E1KzFYU3dTQmFnQmxCSE14eTRtY085cS9OZ1RZUHZPb3FhUEI0bHl5dEhhLzA5SkVGTVFaUkp2S3pGQXZWMGoyM2V1akR6RXhXbjdOYjF3UDFWRGUvdWZFPSIsImFtciI6WyJwd2QiLCJtZmEiXSwiYXBwX2Rpc3BsYXluYW1lIjoicmNsb25lIiwiYXBwaWQiOiJiMTU2NjVkOS1lZGE2LTQwOTItODUzOS0wZWVjMzc2YWZkNTkiLCJhcHBpZGFjciI6IjEiLCJmYW1pbHlfbmFtZSI6Ikh1YW5nIiwiZ2l2ZW5fbmFtZSI6IlNhbmRyYSIsImlkdHlwIjoidXNlciIsImlwYWRkciI6IjEzMC40My4xMzAuMTciLCJuYW1lIjoiU2FuZHJhIEh1YW5nIiwib2lkIjoiNWZkMjgwYTItMzhmNS00ZDk5LWE1YzEtMDJiMDdhNWMyNmNlIiwib25wcmVtX3NpZCI6IlMtMS01LTIxLTExMTc4NTAxNDUtMTY4MjExNjE5MS0xOTY1MDY1MjctMTc1Njk2OSIsInBsYXRmIjoiNSIsInB1aWQiOiIxMDAzMjAwMjIwMUI5MkY5IiwicmgiOiIwLkFRa0FNSF9rc24zTlRrcWwyckdNOGFRVkd3TUFBQUFBQUFBQXdBQUFBQUFBQUFBSkFPNC4iLCJzY3AiOiJGaWxlcy5SZWFkIEZpbGVzLlJlYWQuQWxsIEZpbGVzLlJlYWRXcml0ZSBGaWxlcy5SZWFkV3JpdGUuQWxsIFNpdGVzLlJlYWQuQWxsIHByb2ZpbGUgb3BlbmlkIGVtYWlsIiwic2lnbmluX3N0YXRlIjpbImttc2kiXSwic3ViIjoiUzNuQ0FyakRyZDR1dmZaM2htYldOTU9ITTNSX3c1U21RaTVLdzBRY01zRSIsInRlbmFudF9yZWdpb25fc2NvcGUiOiJFVSIsInRpZCI6ImIyZTQ3ZjMwLWNkN2QtNGE0ZS1hNWRhLWIxOGNmMWE0MTUxYiIsInVuaXF1ZV9uYW1lIjoia2EyMjIyMUBicmlzdG9sLmFjLnVrIiwidXBuIjoia2EyMjIyMUBicmlzdG9sLmFjLnVrIiwidXRpIjoiNmF5LVREcGY1a1dFOFRhNTNTWVpBQSIsInZlciI6IjEuMCIsIndpZHMiOlsiYjc5ZmJmNGQtM2VmOS00Njg5LTgxNDMtNzZiMTk0ZTg1NTA5Il0sInhtc19zdCI6eyJzdWIiOiI1RHY3RGhnVTFrZngxMW1KTm92LVBRaEVydkxrX0NTNXlNTVk3UTRoaG84In0sInhtc190Y2R0IjoxMzg2NTkzNzk3fQ.PFFs466qZJ2TU1M5wph8jDh95BuE9IdBZETOJexYxtAubc7vkcCd6vLWDpDylOk2htuurCWFreTXZY8wRzC_4dtiS1JzL9q4X2a2XlHRy9GrktcbJbiCjwARBuIISsL3WKKkyvD9xxmGQ0WbSpCRBHMKOfKZta4rQUvtl-akDQYyFuxzZj_e-VWqeZjzbIzxcaY3OXNzyefcjH4lKcqUbrTKFGUx3fxstiKuE6GJ5I5PM0_dVVNe_-6Aszw7mN7tZVNrUIQtELPUJ4hSi5fMLuFpW3XwphQLt7ytW2xmBx-LbFVIYu8UxAsho-9sQ-hc9V0JjFneq9fldr7zRAuWnQ\",\"token_type\":\"Bearer\",\"refresh_token\":\"0.AQkAMH_ksn3NTkql2rGM8aQVG9llVrGm7ZJAhTkO7Ddq_VkJAO4.AgABAAEAAAD--DLA3VO7QrddgJg7WevrAgDs_wUA9P9F6U5tj9M4891HjM_enXE6q-C0V61g3-asN-N8y1NodcrwUB2znEpFzrLnj7Cc6x6ZjslcEwHVvBNT9SIrCuMCd9WGuj2DnvWNCZDuFsMN4CuEz5pXfCKv2oUOeJ0-N69_AyXLqVrk-Ju6fmjULoRDdkqJQHn3wc8z0kyEYtQvLFqFVKq8fU0AoKkE8emvPdqxbJHcYaJmqlzkKetA8qKuVjwc_1X26emBErs4GMbIaaY6mAfu17CmvjMIlpqFtSuyKPr8PTYfjuAoPh0d51_ki2YCysnHBowqSlwXQzDQedNuWJ3AZxu3EmkV-WxrPHvRDumCWZHPqZOuUhHWM-JemM0DIdmSCbR2j8i9ipWk9RUqLcXY01Sfr6c2_DBFuNqM9HlRVc278LeDt2zq9LYcHdXMyLGXiy7JiYJYbNuJjgGBRfTEoQte6xAVNpkFaHaqA26n7oagw71lsPVUH6n2PCF1bX7Kj-eiEJk1rZ-i_t78Tqe5NO3Y1OgD1KbwvjqLvlxLzknS3w7Ijozp7Zsyq1Q6eQoELSCWjSG44mr33vv0hVtB-ykwYhnNFvm6yWY9MktQ6tEZIBJBeH77vddrKL9DpJ9h_lAr4UYyoqr2kLY4ngN_yV1s3m1d1o_uoE0LodaLMSMX1XTqWvtg0MJAx6_b5OMUHtjGRMdA9zXFqLEaAg3GopF7sABp1fiA2VDkTKNQ7Wb-nc59qeSm3Sz0LBC86MLylgkN7zfg4m2xrFDXhUEmU2BBEoTuo0JfLVhw4Uj7s7xrpKYyPf0gxubBs94fUGTth6BoPkqaoKtulhiI4Plx3G-X\",\"expiry\":\"2023-07-16T10:02:38.56467+01:00\"}\n",
            "\n",
            "Option config_type.\n",
            "Type of connection\n",
            "Choose a number from below, or type in an existing string value.\n",
            "Press Enter for the default (onedrive).\n",
            "\u001b[91m 1 / OneDrive Personal or Business\n",
            "   \\ (onedrive)\n",
            "\u001b[0m\u001b[92m 2 / Root Sharepoint site\n",
            "   \\ (sharepoint)\n",
            "\u001b[0m\u001b[91m   / Sharepoint site name or URL\n",
            " 3 | E.g. mysite or https://contoso.sharepoint.com/sites/mysite\n",
            "   \\ (url)\n",
            "\u001b[0m\u001b[92m 4 / Search for a Sharepoint site\n",
            "   \\ (search)\n",
            "\u001b[0m\u001b[91m 5 / Type in driveID (advanced)\n",
            "   \\ (driveid)\n",
            "\u001b[0m\u001b[92m 6 / Type in SiteID (advanced)\n",
            "   \\ (siteid)\n",
            "\u001b[0m\u001b[91m   / Sharepoint server-relative path (advanced)\n",
            " 7 | E.g. /teams/hr\n",
            "   \\ (path)\n",
            "\u001b[0mconfig_type> 1\n",
            "\n",
            "\n",
            "\n",
            "\n",
            "Option config_driveid.\n",
            "Select drive you want to use\n",
            "Choose a number from below, or type in your own string value.\n",
            "Press Enter for the default (b!lxJ2CtDtE0y1d5O5_Hn2qdQ6ZJjeIT1LtaoReaus3Wlwm9t7gNa2SqqpgSW-_9kW).\n",
            "\u001b[91m 1 / OneDrive (business)\n",
            "   \\ (b!lxJ2CtDtE0y1d5O5_Hn2qdQ6ZJjeIT1LtaoReaus3Wlwm9t7gNa2SqqpgSW-_9kW)\n",
            "\u001b[0mconfig_driveid> \n",
            "q\n",
            "Drive OK?\n",
            "\n",
            "Found drive \"root\" of type \"business\"\n",
            "URL: https://uob-my.sharepoint.com/personal/ka22221_bristol_ac_uk/Documents\n",
            "\n",
            "y) Yes (default)\n",
            "n) No\n",
            "y/n> \n",
            "Configuration complete.\n",
            "Options:\n",
            "- type: onedrive\n",
            "- token: {\"access_token\":\"eyJ0eXAiOiJKV1QiLCJub25jZSI6Inh4RWQyUWZnb3RPYW11X2Z3ZzI0TnZSUXNfQk0xWHdHWGhxV3Z2X3d1VU0iLCJhbGciOiJSUzI1NiIsIng1dCI6Ii1LSTNROW5OUjdiUm9meG1lWm9YcWJIWkdldyIsImtpZCI6Ii1LSTNROW5OUjdiUm9meG1lWm9YcWJIWkdldyJ9.eyJhdWQiOiIwMDAwMDAwMy0wMDAwLTAwMDAtYzAwMC0wMDAwMDAwMDAwMDAiLCJpc3MiOiJodHRwczovL3N0cy53aW5kb3dzLm5ldC9iMmU0N2YzMC1jZDdkLTRhNGUtYTVkYS1iMThjZjFhNDE1MWIvIiwiaWF0IjoxNjkyMjY0Mzg1LCJuYmYiOjE2OTIyNjQzODUsImV4cCI6MTY5MjI2ODMzNSwiYWNjdCI6MCwiYWNyIjoiMSIsImFpbyI6IkFWUUFxLzhVQUFBQUZsTUg4TTU5WFlsZmpWM2JtTGtLRmRVdHY1amxJU005cStwbzkyUFN5M3oza1B6dFZuK1RlelZUMGxnODIrZU4ydGwxR3F5SlgyWVoxeUo2SGhmT3VxS2FvSUt5VzRJbUhCb1BPNTFJTlY4PSIsImFtciI6WyJwd2QiLCJtZmEiXSwiYXBwX2Rpc3BsYXluYW1lIjoicmNsb25lIiwiYXBwaWQiOiJiMTU2NjVkOS1lZGE2LTQwOTItODUzOS0wZWVjMzc2YWZkNTkiLCJhcHBpZGFjciI6IjEiLCJmYW1pbHlfbmFtZSI6Ikh1YW5nIiwiZ2l2ZW5fbmFtZSI6IlNhbmRyYSIsImlkdHlwIjoidXNlciIsImlwYWRkciI6IjEzMC40My4xMzAuMTciLCJuYW1lIjoiU2FuZHJhIEh1YW5nIiwib2lkIjoiNWZkMjgwYTItMzhmNS00ZDk5LWE1YzEtMDJiMDdhNWMyNmNlIiwib25wcmVtX3NpZCI6IlMtMS01LTIxLTExMTc4NTAxNDUtMTY4MjExNjE5MS0xOTY1MDY1MjctMTc1Njk2OSIsInBsYXRmIjoiNSIsInB1aWQiOiIxMDAzMjAwMjIwMUI5MkY5IiwicmgiOiIwLkFRa0FNSF9rc24zTlRrcWwyckdNOGFRVkd3TUFBQUFBQUFBQXdBQUFBQUFBQUFBSkFPNC4iLCJzY3AiOiJGaWxlcy5SZWFkIEZpbGVzLlJlYWQuQWxsIEZpbGVzLlJlYWRXcml0ZSBGaWxlcy5SZWFkV3JpdGUuQWxsIFNpdGVzLlJlYWQuQWxsIHByb2ZpbGUgb3BlbmlkIGVtYWlsIiwic2lnbmluX3N0YXRlIjpbImttc2kiXSwic3ViIjoiUzNuQ0FyakRyZDR1dmZaM2htYldOTU9ITTNSX3c1U21RaTVLdzBRY01zRSIsInRlbmFudF9yZWdpb25fc2NvcGUiOiJFVSIsInRpZCI6ImIyZTQ3ZjMwLWNkN2QtNGE0ZS1hNWRhLWIxOGNmMWE0MTUxYiIsInVuaXF1ZV9uYW1lIjoia2EyMjIyMUBicmlzdG9sLmFjLnVrIiwidXBuIjoia2EyMjIyMUBicmlzdG9sLmFjLnVrIiwidXRpIjoiZHpfNS1kY0dQVUNxcGtpYUNVSTJBQSIsInZlciI6IjEuMCIsIndpZHMiOlsiYjc5ZmJmNGQtM2VmOS00Njg5LTgxNDMtNzZiMTk0ZTg1NTA5Il0sInhtc19zdCI6eyJzdWIiOiI1RHY3RGhnVTFrZngxMW1KTm92LVBRaEVydkxrX0NTNXlNTVk3UTRoaG84In0sInhtc190Y2R0IjoxMzg2NTkzNzk3fQ.Y7efyIUbkxPe4YYK9tl0lia4OrJ86GBfoY1vqtCuycfMN09xznNMzGcSG2SPFLMM-Yevq6LFmbQPa7lgvMsUM9MjFOx7D8iFQxzFfhpFIaOkPMeh4ZdDxl-T-ppyy3Jchj0VETL9I2La3axUWFAyG_9bdEp7SrrSj9ByY1p02Plg1abBTudvDl__-7G8r8NS63zSAwFWiXxkg9CZp6M7hWzz27VeTxqr8-eUmN6ecE_YtnZEmQL3GDou_8WUsYqqCWqhtCUcw8uiLhcL_Gwy4jd11ulyaLUffuG2O5DXmdbJ6VOIit6WX3iFMdF4upSJjiJW1jnPJtx1C-U5nOipNQ\",\"token_type\":\"Bearer\",\"refresh_token\":\"0.AQkAMH_ksn3NTkql2rGM8aQVG9llVrGm7ZJAhTkO7Ddq_VkJAO4.AgABAAEAAAAtyolDObpQQ5VtlI4uGjEPAgDs_wUA9P_Ba4NQas595OlIYHus7ZbPe7sbd_nqNF2YvexTqMT1Hjbz-xDw4vxQ-dAbT0KTcx2-8KJ6bcD6nD5Bvb_4XtKJXC5pL6pb3NZGzVXmNZEXA7T_8cE46jdiQvDECDHStrc0X02N9aqG5xM2LIJrQuP7djhhCFKpz8bhzzDY6w1D9qMyN1w719BI_Y4Q8lYGULwH6sb7ksAQz5GhF3Qh7fLk_-aZhngYItdkPirtXM0PJxTmHqAP_Js98gUN9nxh6G2vWysfFtVczjpQFYgqFdQUwc0o2Awea-yYbw2FCWP8HwZhh7RgcFNalXHKQxd9wdVwNbtDA1mXivna2de-27Dp9QTn0mYjj5ZZrpiUt_9XIb9x00Aq1PLx3JSvdyJRlv3UEOBP3qBN2lvgT0ItAYmv9MoBA2c7nWnA5-b3x3HQnaTN3IRBWY6Lyn5SjB-q0FV7F7R2_lMTBUepAXcljGq4oth8dc2t6iTLA-_jlYce-nAWQQaafskDTvJpPHLqpVJQNIheKhuvhiSwxaNtk7A1AVTSXSQ2Jq60zGLOQyg5OSBsqenHYFtBTVBKx6ekQovvzGZmsn0Wm47bktF6iDvsbzut-Qvm4aniUpUzFMFvY-3aob4AO6ubhgqrKQNVWEoq45N6UXWALEsf7cszWbH0Ho5xKtyfl7g0wk_nKY4r5OoGcjgM6gxkLusmPMyK139jqBYDJ-WeIVFb6PNFZrs2wGw129mYTFjmMUPrK1CXz8GbWWV5NxrfCWQv6sEhIugtknfLH5DAJ6Uq-7TjzBAN6Xfd7CmxTQ\",\"expiry\":\"2023-08-17T10:32:14.93993045Z\"}\n",
            "- drive_id: b!lxJ2CtDtE0y1d5O5_Hn2qdQ6ZJjeIT1LtaoReaus3Wlwm9t7gNa2SqqpgSW-_9kW\n",
            "- drive_type: business\n",
            "Keep this \"onedrive\" remote?\n",
            "y) Yes this is OK (default)\n",
            "e) Edit this remote\n",
            "d) Delete this remote\n",
            "y/e/d> \n",
            "Current remotes:\n",
            "\n",
            "Name                 Type\n",
            "====                 ====\n",
            "onedrive             onedrive\n",
            "\n",
            "e) Edit existing remote\n",
            "n) New remote\n",
            "d) Delete remote\n",
            "r) Rename remote\n",
            "c) Copy remote\n",
            "s) Set configuration password\n",
            "q) Quit config\n",
            "Reading package lists... Done\n",
            "Building dependency tree... Done\n",
            "Reading state information... Done\n",
            "The following package was automatically installed and is no longer required:\n",
            "  libfuse2\n",
            "Use 'sudo apt autoremove' to remove it.\n",
            "The following additional packages will be installed:\n",
            "  libfuse3-3\n",
            "The following packages will be REMOVED:\n",
            "  fuse\n",
            "The following NEW packages will be installed:\n",
            "  fuse3 libfuse3-3\n",
            "0 upgraded, 2 newly installed, 1 to remove and 16 not upgraded.\n",
            "Need to get 106 kB of archives.\n",
            "After this operation, 264 kB of additional disk space will be used.\n",
            "Get:1 http://archive.ubuntu.com/ubuntu jammy/main amd64 libfuse3-3 amd64 3.10.5-1build1 [81.2 kB]\n",
            "Get:2 http://archive.ubuntu.com/ubuntu jammy/main amd64 fuse3 amd64 3.10.5-1build1 [24.7 kB]\n",
            "Fetched 106 kB in 0s (590 kB/s)\n",
            "debconf: unable to initialize frontend: Dialog\n",
            "debconf: (No usable dialog-like program is installed, so the dialog based frontend cannot be used. at /usr/share/perl5/Debconf/FrontEnd/Dialog.pm line 78, <> line 2.)\n",
            "debconf: falling back to frontend: Readline\n",
            "debconf: unable to initialize frontend: Readline\n",
            "debconf: (This frontend requires a controlling tty.)\n",
            "debconf: falling back to frontend: Teletype\n",
            "dpkg-preconfigure: unable to re-open stdin: \n",
            "(Reading database ... 120836 files and directories currently installed.)\n",
            "Removing fuse (2.9.9-5ubuntu3) ...\n",
            "Selecting previously unselected package libfuse3-3:amd64.\n",
            "(Reading database ... 120826 files and directories currently installed.)\n",
            "Preparing to unpack .../libfuse3-3_3.10.5-1build1_amd64.deb ...\n",
            "Unpacking libfuse3-3:amd64 (3.10.5-1build1) ...\n",
            "Selecting previously unselected package fuse3.\n",
            "Preparing to unpack .../fuse3_3.10.5-1build1_amd64.deb ...\n",
            "Unpacking fuse3 (3.10.5-1build1) ...\n",
            "Setting up libfuse3-3:amd64 (3.10.5-1build1) ...\n",
            "Setting up fuse3 (3.10.5-1build1) ...\n",
            "Installing new version of config file /etc/fuse.conf ...\n",
            "Processing triggers for man-db (2.10.2-1) ...\n",
            "Processing triggers for libc-bin (2.35-0ubuntu3.1) ...\n",
            "/sbin/ldconfig.real: /usr/local/lib/libtbbbind_2_0.so.3 is not a symbolic link\n",
            "\n",
            "/sbin/ldconfig.real: /usr/local/lib/libtbbbind_2_5.so.3 is not a symbolic link\n",
            "\n",
            "/sbin/ldconfig.real: /usr/local/lib/libtbb.so.12 is not a symbolic link\n",
            "\n",
            "/sbin/ldconfig.real: /usr/local/lib/libtbbmalloc.so.2 is not a symbolic link\n",
            "\n",
            "/sbin/ldconfig.real: /usr/local/lib/libtbbmalloc_proxy.so.2 is not a symbolic link\n",
            "\n",
            "/sbin/ldconfig.real: /usr/local/lib/libtbbbind.so.3 is not a symbolic link\n",
            "\n"
          ]
        }
      ],
      "source": [
        "!wget https://downloads.rclone.org/v1.63.0/rclone-v1.63.0-linux-amd64.deb\n",
        "!apt install ./rclone-v1.63.0-linux-amd64.deb\n",
        "!rclone config\n",
        "!sudo apt-get -y install fuse3"
      ]
    },
    {
      "cell_type": "code",
      "execution_count": 3,
      "metadata": {
        "id": "BPxKU0VhDwHy",
        "colab": {
          "base_uri": "https://localhost:8080/"
        },
        "outputId": "f5762ddb-3cae-4841-80c1-cebad7a975ba"
      },
      "outputs": [
        {
          "output_type": "stream",
          "name": "stdout",
          "text": [
            "nohup: appending output to 'nohup.out'\n"
          ]
        }
      ],
      "source": [
        "!sudo mkdir /content/onedrive\n",
        "!nohup rclone --vfs-cache-mode writes mount onedrive: /content/onedrive &"
      ]
    },
    {
      "cell_type": "markdown",
      "metadata": {
        "id": "nQUwnWRJ47sC"
      },
      "source": [
        "### Load datasets"
      ]
    },
    {
      "cell_type": "code",
      "execution_count": 4,
      "metadata": {
        "id": "_cwdsHX847sD"
      },
      "outputs": [],
      "source": [
        "# Import Necessary Libraries\n",
        "from sklearn.preprocessing import StandardScaler\n",
        "from sklearn.impute import SimpleImputer\n",
        "from sklearn.model_selection import train_test_split, cross_val_score\n",
        "from hyperopt import fmin, tpe, hp, Trials, STATUS_OK\n",
        "\n",
        "import matplotlib.pyplot as plt # plotting\n",
        "import numpy as np # linear algebra\n",
        "import pandas as pd # data processing, CSV file I/O (e.g. pd.read_csv)\n",
        "from sklearn.ensemble import RandomForestClassifier\n",
        "from sklearn.neighbors import KNeighborsClassifier\n",
        "import xgboost as xgb\n",
        "from sklearn.metrics import classification_report,confusion_matrix, accuracy_score # performance metrics\n",
        "\n",
        "import time\n",
        "import joblib"
      ]
    },
    {
      "cell_type": "code",
      "execution_count": 5,
      "metadata": {
        "id": "q-iO6iB4D_YK",
        "colab": {
          "base_uri": "https://localhost:8080/"
        },
        "outputId": "397c96ad-2087-47cd-8f66-57873ceaa21e"
      },
      "outputs": [
        {
          "output_type": "stream",
          "name": "stdout",
          "text": [
            "Collecting fastparquet\n",
            "  Downloading fastparquet-2023.7.0-cp310-cp310-manylinux_2_17_x86_64.manylinux2014_x86_64.whl (1.5 MB)\n",
            "\u001b[2K     \u001b[90m━━━━━━━━━━━━━━━━━━━━━━━━━━━━━━━━━━━━━━━━\u001b[0m \u001b[32m1.5/1.5 MB\u001b[0m \u001b[31m8.8 MB/s\u001b[0m eta \u001b[36m0:00:00\u001b[0m\n",
            "\u001b[?25hRequirement already satisfied: pandas>=1.5.0 in /usr/local/lib/python3.10/dist-packages (from fastparquet) (1.5.3)\n",
            "Requirement already satisfied: numpy>=1.20.3 in /usr/local/lib/python3.10/dist-packages (from fastparquet) (1.23.5)\n",
            "Collecting cramjam>=2.3 (from fastparquet)\n",
            "  Downloading cramjam-2.7.0-cp310-cp310-manylinux_2_17_x86_64.manylinux2014_x86_64.whl (1.6 MB)\n",
            "\u001b[2K     \u001b[90m━━━━━━━━━━━━━━━━━━━━━━━━━━━━━━━━━━━━━━━━\u001b[0m \u001b[32m1.6/1.6 MB\u001b[0m \u001b[31m15.6 MB/s\u001b[0m eta \u001b[36m0:00:00\u001b[0m\n",
            "\u001b[?25hRequirement already satisfied: fsspec in /usr/local/lib/python3.10/dist-packages (from fastparquet) (2023.6.0)\n",
            "Requirement already satisfied: packaging in /usr/local/lib/python3.10/dist-packages (from fastparquet) (23.1)\n",
            "Requirement already satisfied: python-dateutil>=2.8.1 in /usr/local/lib/python3.10/dist-packages (from pandas>=1.5.0->fastparquet) (2.8.2)\n",
            "Requirement already satisfied: pytz>=2020.1 in /usr/local/lib/python3.10/dist-packages (from pandas>=1.5.0->fastparquet) (2023.3)\n",
            "Requirement already satisfied: six>=1.5 in /usr/local/lib/python3.10/dist-packages (from python-dateutil>=2.8.1->pandas>=1.5.0->fastparquet) (1.16.0)\n",
            "Installing collected packages: cramjam, fastparquet\n",
            "Successfully installed cramjam-2.7.0 fastparquet-2023.7.0\n"
          ]
        }
      ],
      "source": [
        "pip install fastparquet"
      ]
    },
    {
      "cell_type": "code",
      "execution_count": 6,
      "metadata": {
        "id": "-Kp0vBGq47sF"
      },
      "outputs": [],
      "source": [
        "data2017_original = pd.read_parquet('/content/onedrive/data_2017_original.parquet', engine=\"fastparquet\")\n",
        "# data2017_corrected = pd.read_parquet('/content/onedrive/data_2017_corrected.parquet', engine=\"fastparquet\")\n",
        "# data2018_original = pd.read_parquet('/content/onedrive/data_2018_original.parquet', engine=\"fastparquet\")\n",
        "# data2018_corrected = pd.read_parquet('/content/onedrive/data_2018_corrected_sampling.parquet', engine=\"fastparquet\")"
      ]
    },
    {
      "cell_type": "code",
      "execution_count": null,
      "metadata": {
        "id": "KMNlmAwW47sG"
      },
      "outputs": [],
      "source": [
        "# data2017_original_resampling = pd.read_parquet('/content/onedrive/data_2017_original_resampling.parquet', engine=\"fastparquet\")\n",
        "# data2017_corrected_resampling = pd.read_parquet('/content/onedrive/data_2017_corrected_resampling.parquet', engine=\"fastparquet\")\n",
        "# data2018_original_resampling = pd.read_parquet('/content/onedrive/data_2018_original_resampling.parquet', engine=\"fastparquet\")\n",
        "data2018_corrected_resampling = pd.read_parquet('/content/onedrive/data_2018_corrected_sampling_resampling.parquet', engine=\"fastparquet\")"
      ]
    },
    {
      "cell_type": "markdown",
      "metadata": {
        "id": "XbJ7OqFI47sH"
      },
      "source": [
        "### Extract Features - RandomForest"
      ]
    },
    {
      "cell_type": "code",
      "execution_count": null,
      "metadata": {
        "id": "9mba_9t947sH"
      },
      "outputs": [],
      "source": [
        "def train_rf(data):\n",
        "    X_train, X_test, y_train, y_test = split_data(data)\n",
        "    X_train, X_test = normalise_data(X_train, X_test)\n",
        "    forest = RandomForestClassifier(random_state=42)\n",
        "    start_time = time.time()\n",
        "    # Train the model on the training data\n",
        "    forest.fit(X_train, y_train)\n",
        "    end_time = time.time()\n",
        "    time_taken = end_time - start_time\n",
        "    print(\"Time taken to fit the model:\", time_taken, \"seconds\")\n",
        "    return forest"
      ]
    },
    {
      "cell_type": "markdown",
      "source": [
        "Get fearure scores from 2017 original dataset"
      ],
      "metadata": {
        "id": "BzTMoiAwrnOR"
      }
    },
    {
      "cell_type": "code",
      "execution_count": null,
      "metadata": {
        "id": "bisa-YOv47sI",
        "outputId": "a6544a61-8797-4bd5-8ba9-440641e42aa8"
      },
      "outputs": [
        {
          "name": "stdout",
          "output_type": "stream",
          "text": [
            "Number of rows of train data: 2017607\n",
            "Number of columns of train data: 76\n",
            "Number of rows of test data: 504402\n",
            "Number of columns of test data: 76\n",
            "Time taken to fit the model: 926.2445492744446 seconds\n",
            "feature_scores: Packet Length Std         0.077944\n",
            "Bwd Packet Length Std     0.075532\n",
            "Packet Length Variance    0.075460\n",
            "Bwd Packet Length Mean    0.069707\n",
            "Average Packet Size       0.051550\n",
            "                            ...   \n",
            "Bwd Avg Packets/Bulk      0.000000\n",
            "Bwd Avg Bytes/Bulk        0.000000\n",
            "Fwd Avg Bulk Rate         0.000000\n",
            "Fwd Avg Packets/Bulk      0.000000\n",
            "Fwd Avg Bytes/Bulk        0.000000\n",
            "Length: 76, dtype: float64\n"
          ]
        }
      ],
      "source": [
        "forest = train_rf(data2017_original)\n",
        "feature_scores = (pd.Series(forest.feature_importances_, index=data2017_original.columns[0:len(data2017_original.columns)-1]).sort_values(ascending=False))\n",
        "print(f'feature_scores: {feature_scores}')"
      ]
    },
    {
      "cell_type": "code",
      "execution_count": null,
      "metadata": {
        "id": "FRElrHMO47sJ"
      },
      "outputs": [],
      "source": [
        "feature_scores.to_csv('features_scores.csv', )"
      ]
    },
    {
      "cell_type": "markdown",
      "source": [
        "Get fearure scores from 2017 improved dataset"
      ],
      "metadata": {
        "id": "VqWOWTfFsIjY"
      }
    },
    {
      "cell_type": "code",
      "source": [
        "forest = train_rf(data2017_corrected)\n",
        "feature_scores = (pd.Series(forest.feature_importances_, index=data2017_corrected.columns[0:len(data2017_corrected.columns)-1]).sort_values(ascending=False))\n",
        "print(f'feature_scores: {feature_scores}')"
      ],
      "metadata": {
        "colab": {
          "base_uri": "https://localhost:8080/"
        },
        "id": "CJ32EDza1MB1",
        "outputId": "2d187544-474e-462c-ef5a-7052346a8809"
      },
      "execution_count": null,
      "outputs": [
        {
          "output_type": "stream",
          "name": "stdout",
          "text": [
            "Number of rows of train data: 1679976\n",
            "Number of columns of train data: 81\n",
            "Number of rows of test data: 419995\n",
            "Number of columns of test data: 81\n",
            "Time taken to fit the model: 1102.3750538825989 seconds\n",
            "feature_scores: RST Flag Count                 7.425164e-02\n",
            "Total Length of Fwd Packets    6.608519e-02\n",
            "Bwd Packet Length Std          6.065193e-02\n",
            "Fwd Packet Length Mean         5.300097e-02\n",
            "Fwd Packet Length Max          4.810393e-02\n",
            "                                   ...     \n",
            "Fwd URG Flags                  5.569828e-06\n",
            "Subflow Bwd Packets            3.217053e-06\n",
            "ECE Flag Count                 1.057672e-06\n",
            "CWE Flag Count                 1.040469e-06\n",
            "Bwd URG Flags                  3.110745e-08\n",
            "Length: 81, dtype: float64\n"
          ]
        }
      ]
    },
    {
      "cell_type": "code",
      "source": [
        "feature_scores.to_csv('features_scores_2017_improved.csv', )"
      ],
      "metadata": {
        "id": "bFhSqXha1V72"
      },
      "execution_count": null,
      "outputs": []
    },
    {
      "cell_type": "markdown",
      "source": [
        "Get fearure scores from 2018 original dataset"
      ],
      "metadata": {
        "id": "YhEIsXRvsLvE"
      }
    },
    {
      "cell_type": "code",
      "source": [
        "forest = train_rf(data2018_original)\n",
        "feature_scores = (pd.Series(forest.feature_importances_, index=data2018_original.columns[0:len(data2018_original.columns)-1]).sort_values(ascending=False))\n",
        "print(f'feature_scores: {feature_scores}')"
      ],
      "metadata": {
        "colab": {
          "base_uri": "https://localhost:8080/"
        },
        "id": "cy1QtVo18Jty",
        "outputId": "e0a6e775-3227-4013-a039-4dcb5dcc1090"
      },
      "execution_count": null,
      "outputs": [
        {
          "output_type": "stream",
          "name": "stdout",
          "text": [
            "Number of rows of train data: 8655235\n",
            "Number of columns of train data: 76\n",
            "Number of rows of test data: 2163809\n",
            "Number of columns of test data: 76\n",
            "Time taken to fit the model: 9496.710687160492 seconds\n",
            "feature_scores: Init_Win_bytes_forward         0.054198\n",
            "Subflow Fwd Bytes              0.039838\n",
            "Avg Fwd Segment Size           0.038505\n",
            "Total Length of Fwd Packets    0.037506\n",
            "Fwd Packet Length Mean         0.033570\n",
            "                                 ...   \n",
            "Fwd Avg Bulk Rate              0.000000\n",
            "Fwd Avg Packets/Bulk           0.000000\n",
            "Fwd Avg Bytes/Bulk             0.000000\n",
            "Bwd URG Flags                  0.000000\n",
            "Bwd Avg Bulk Rate              0.000000\n",
            "Length: 76, dtype: float64\n"
          ]
        }
      ]
    },
    {
      "cell_type": "code",
      "source": [
        "feature_scores.to_csv('features_scores_2018_original.csv', )\n"
      ],
      "metadata": {
        "id": "FfUu15138N5H"
      },
      "execution_count": null,
      "outputs": []
    },
    {
      "cell_type": "markdown",
      "source": [
        "Get fearure scores from 2018 improved dataset"
      ],
      "metadata": {
        "id": "gHAsDE3WsNfn"
      }
    },
    {
      "cell_type": "code",
      "source": [
        "forest = train_rf(data2018_corrected)\n",
        "feature_scores = (pd.Series(forest.feature_importances_, index=data2018_corrected.columns[0:len(data2018_corrected.columns)-1]).sort_values(ascending=False))\n",
        "print(f'feature_scores: {feature_scores}')"
      ],
      "metadata": {
        "colab": {
          "base_uri": "https://localhost:8080/"
        },
        "id": "RVHfinzk4U-H",
        "outputId": "b339e32c-90f7-4eb7-a79f-69d8f7c53bfe"
      },
      "execution_count": null,
      "outputs": [
        {
          "output_type": "stream",
          "name": "stdout",
          "text": [
            "Number of rows of train data: 7821600\n",
            "Number of columns of train data: 81\n",
            "Number of rows of test data: 1955400\n",
            "Number of columns of test data: 81\n",
            "Time taken to fit the model: 4503.075605869293 seconds\n",
            "feature_scores: Init_Win_bytes_forward     0.127610\n",
            "Init_Win_bytes_backward    0.075568\n",
            "Flow IAT Min               0.066941\n",
            "min_seg_size_forward       0.050548\n",
            "Max Packet Length          0.049419\n",
            "                             ...   \n",
            "Active Std                 0.000012\n",
            "Bwd Avg Bytes/Bulk         0.000006\n",
            "Bwd Avg Bulk Rate          0.000003\n",
            "Subflow Bwd Packets        0.000001\n",
            "Bwd URG Flags              0.000000\n",
            "Length: 81, dtype: float64\n"
          ]
        }
      ]
    },
    {
      "cell_type": "code",
      "source": [
        "feature_scores.to_csv('features_scores_2018_improved.csv', )"
      ],
      "metadata": {
        "id": "DogmUyuK4Yn0"
      },
      "execution_count": null,
      "outputs": []
    },
    {
      "cell_type": "markdown",
      "source": [
        "Get fearure scores from 2017 original resampling dataset"
      ],
      "metadata": {
        "id": "YImbvEStsWr1"
      }
    },
    {
      "cell_type": "code",
      "execution_count": null,
      "metadata": {
        "collapsed": true,
        "id": "_BtwAJdu47sK",
        "outputId": "dfab4460-4876-4f9e-a565-41c105c19392"
      },
      "outputs": [
        {
          "ename": "NameError",
          "evalue": "name 'split_data' is not defined",
          "output_type": "error",
          "traceback": [
            "\u001b[0;31m---------------------------------------------------------------------------\u001b[0m",
            "\u001b[0;31mNameError\u001b[0m                                 Traceback (most recent call last)",
            "\u001b[0;32m/tmp/ipykernel_78/2338821120.py\u001b[0m in \u001b[0;36m<cell line: 1>\u001b[0;34m()\u001b[0m\n\u001b[0;32m----> 1\u001b[0;31m \u001b[0mforest_resampling\u001b[0m \u001b[0;34m=\u001b[0m \u001b[0mtrain_rf\u001b[0m\u001b[0;34m(\u001b[0m\u001b[0mdata2017_original_resampling\u001b[0m\u001b[0;34m)\u001b[0m\u001b[0;34m\u001b[0m\u001b[0;34m\u001b[0m\u001b[0m\n\u001b[0m\u001b[1;32m      2\u001b[0m \u001b[0mfeature_scores_resampling\u001b[0m \u001b[0;34m=\u001b[0m \u001b[0;34m(\u001b[0m\u001b[0mpd\u001b[0m\u001b[0;34m.\u001b[0m\u001b[0mSeries\u001b[0m\u001b[0;34m(\u001b[0m\u001b[0mforest_resampling\u001b[0m\u001b[0;34m.\u001b[0m\u001b[0mfeature_importances_\u001b[0m\u001b[0;34m,\u001b[0m \u001b[0mindex\u001b[0m\u001b[0;34m=\u001b[0m\u001b[0mdata2017_original_resampling\u001b[0m\u001b[0;34m.\u001b[0m\u001b[0mcolumns\u001b[0m\u001b[0;34m[\u001b[0m\u001b[0;36m0\u001b[0m\u001b[0;34m:\u001b[0m\u001b[0mlen\u001b[0m\u001b[0;34m(\u001b[0m\u001b[0mdata2017_original_resampling\u001b[0m\u001b[0;34m.\u001b[0m\u001b[0mcolumns\u001b[0m\u001b[0;34m)\u001b[0m\u001b[0;34m-\u001b[0m\u001b[0;36m1\u001b[0m\u001b[0;34m]\u001b[0m\u001b[0;34m)\u001b[0m\u001b[0;34m.\u001b[0m\u001b[0msort_values\u001b[0m\u001b[0;34m(\u001b[0m\u001b[0mascending\u001b[0m\u001b[0;34m=\u001b[0m\u001b[0;32mFalse\u001b[0m\u001b[0;34m)\u001b[0m\u001b[0;34m)\u001b[0m\u001b[0;34m\u001b[0m\u001b[0;34m\u001b[0m\u001b[0m\n\u001b[1;32m      3\u001b[0m \u001b[0mprint\u001b[0m\u001b[0;34m(\u001b[0m\u001b[0;34mf'feature_scores: {feature_scores_resampling}'\u001b[0m\u001b[0;34m)\u001b[0m\u001b[0;34m\u001b[0m\u001b[0;34m\u001b[0m\u001b[0m\n",
            "\u001b[0;32m/tmp/ipykernel_78/3512018607.py\u001b[0m in \u001b[0;36mtrain_rf\u001b[0;34m(data)\u001b[0m\n\u001b[1;32m      1\u001b[0m \u001b[0;32mdef\u001b[0m \u001b[0mtrain_rf\u001b[0m\u001b[0;34m(\u001b[0m\u001b[0mdata\u001b[0m\u001b[0;34m)\u001b[0m\u001b[0;34m:\u001b[0m\u001b[0;34m\u001b[0m\u001b[0;34m\u001b[0m\u001b[0m\n\u001b[0;32m----> 2\u001b[0;31m     \u001b[0mX_train\u001b[0m\u001b[0;34m,\u001b[0m \u001b[0mX_test\u001b[0m\u001b[0;34m,\u001b[0m \u001b[0my_train\u001b[0m\u001b[0;34m,\u001b[0m \u001b[0my_test\u001b[0m \u001b[0;34m=\u001b[0m \u001b[0msplit_data\u001b[0m\u001b[0;34m(\u001b[0m\u001b[0mdata\u001b[0m\u001b[0;34m)\u001b[0m\u001b[0;34m\u001b[0m\u001b[0;34m\u001b[0m\u001b[0m\n\u001b[0m\u001b[1;32m      3\u001b[0m     \u001b[0mX_train\u001b[0m\u001b[0;34m,\u001b[0m \u001b[0mX_test\u001b[0m \u001b[0;34m=\u001b[0m \u001b[0mnormalise_data\u001b[0m\u001b[0;34m(\u001b[0m\u001b[0mX_train\u001b[0m\u001b[0;34m,\u001b[0m \u001b[0mX_test\u001b[0m\u001b[0;34m)\u001b[0m\u001b[0;34m\u001b[0m\u001b[0;34m\u001b[0m\u001b[0m\n\u001b[1;32m      4\u001b[0m     \u001b[0mforest\u001b[0m \u001b[0;34m=\u001b[0m \u001b[0mRandomForestClassifier\u001b[0m\u001b[0;34m(\u001b[0m\u001b[0mrandom_state\u001b[0m\u001b[0;34m=\u001b[0m\u001b[0;36m42\u001b[0m\u001b[0;34m)\u001b[0m\u001b[0;34m\u001b[0m\u001b[0;34m\u001b[0m\u001b[0m\n\u001b[1;32m      5\u001b[0m     \u001b[0mstart_time\u001b[0m \u001b[0;34m=\u001b[0m \u001b[0mtime\u001b[0m\u001b[0;34m.\u001b[0m\u001b[0mtime\u001b[0m\u001b[0;34m(\u001b[0m\u001b[0;34m)\u001b[0m\u001b[0;34m\u001b[0m\u001b[0;34m\u001b[0m\u001b[0m\n",
            "\u001b[0;31mNameError\u001b[0m: name 'split_data' is not defined"
          ]
        }
      ],
      "source": [
        "forest_resampling = train_rf(data2017_original_resampling)\n",
        "feature_scores_resampling = (pd.Series(forest_resampling.feature_importances_, index=data2017_original_resampling.columns[0:len(data2017_original_resampling.columns)-1]).sort_values(ascending=False))\n",
        "print(f'feature_scores: {feature_scores_resampling}')"
      ]
    },
    {
      "cell_type": "code",
      "execution_count": null,
      "metadata": {
        "collapsed": true,
        "id": "KeX3jlv547sK",
        "outputId": "b432be6d-a400-4aa7-9317-541453fe89f3"
      },
      "outputs": [
        {
          "ename": "NameError",
          "evalue": "name 'feature_scores_resampling' is not defined",
          "output_type": "error",
          "traceback": [
            "\u001b[0;31m---------------------------------------------------------------------------\u001b[0m",
            "\u001b[0;31mNameError\u001b[0m                                 Traceback (most recent call last)",
            "\u001b[0;32m/tmp/ipykernel_78/348670153.py\u001b[0m in \u001b[0;36m<cell line: 1>\u001b[0;34m()\u001b[0m\n\u001b[0;32m----> 1\u001b[0;31m \u001b[0mfeature_scores_resampling\u001b[0m\u001b[0;34m.\u001b[0m\u001b[0mto_csv\u001b[0m\u001b[0;34m(\u001b[0m\u001b[0;34m'feature_scores_resampling.csv'\u001b[0m\u001b[0;34m)\u001b[0m\u001b[0;34m\u001b[0m\u001b[0;34m\u001b[0m\u001b[0m\n\u001b[0m",
            "\u001b[0;31mNameError\u001b[0m: name 'feature_scores_resampling' is not defined"
          ]
        }
      ],
      "source": [
        "feature_scores_resampling.to_csv('feature_scores_resampling.csv')"
      ]
    },
    {
      "cell_type": "markdown",
      "source": [
        "Get fearure scores from 2017 improved resampling dataset"
      ],
      "metadata": {
        "id": "uBu1Z100sZsu"
      }
    },
    {
      "cell_type": "code",
      "source": [
        "forest_resampling = train_rf(data2017_corrected_resampling)\n",
        "feature_scores_resampling = (pd.Series(forest_resampling.feature_importances_, index=data2017_corrected_resampling.columns[0:len(data2017_corrected_resampling.columns)-1]).sort_values(ascending=False))\n",
        "print(f'feature_scores: {feature_scores_resampling}')"
      ],
      "metadata": {
        "colab": {
          "base_uri": "https://localhost:8080/"
        },
        "id": "sOOt3q-61j_L",
        "outputId": "49ac7080-722e-4b22-fd56-f0b73593209c"
      },
      "execution_count": null,
      "outputs": [
        {
          "output_type": "stream",
          "name": "stdout",
          "text": [
            "Number of rows of train data: 827856\n",
            "Number of columns of train data: 82\n",
            "Number of rows of test data: 206964\n",
            "Number of columns of test data: 82\n",
            "Time taken to fit the model: 314.42701029777527 seconds\n",
            "feature_scores: RST Flag Count            8.828929e-02\n",
            "SYN Flag Count            6.177930e-02\n",
            "Bwd Packet Length Min     5.028303e-02\n",
            "Init_Win_bytes_forward    4.937932e-02\n",
            "PSH Flag Count            4.009322e-02\n",
            "                              ...     \n",
            "Fwd URG Flags             1.308421e-05\n",
            "ECE Flag Count            2.050835e-06\n",
            "Subflow Bwd Packets       4.793547e-07\n",
            "CWE Flag Count            9.613972e-08\n",
            "Bwd URG Flags             0.000000e+00\n",
            "Length: 82, dtype: float64\n"
          ]
        }
      ]
    },
    {
      "cell_type": "code",
      "source": [
        "feature_scores_resampling.to_csv('feature_scores_resampling_2017_improved.csv')"
      ],
      "metadata": {
        "id": "FYTlgNCI1lSF"
      },
      "execution_count": null,
      "outputs": []
    },
    {
      "cell_type": "markdown",
      "source": [
        "Get fearure scores from 2018 original resampling dataset"
      ],
      "metadata": {
        "id": "tv19paFWscTh"
      }
    },
    {
      "cell_type": "code",
      "source": [
        "forest_resampling = train_rf(data2018_original_resampling)\n",
        "feature_scores_resampling = (pd.Series(forest_resampling.feature_importances_, index=data2018_original_resampling.columns[0:len(data2018_original_resampling.columns)-1]).sort_values(ascending=False))\n",
        "print(f'feature_scores: {feature_scores_resampling}')"
      ],
      "metadata": {
        "colab": {
          "base_uri": "https://localhost:8080/"
        },
        "id": "2j3Syf1o8TjS",
        "outputId": "2d183b2f-44e0-411c-f84a-2c4986d82383"
      },
      "execution_count": null,
      "outputs": [
        {
          "output_type": "stream",
          "name": "stdout",
          "text": [
            "Number of rows of train data: 2121352\n",
            "Number of columns of train data: 76\n",
            "Number of rows of test data: 530338\n",
            "Number of columns of test data: 76\n",
            "Time taken to fit the model: 1465.0386879444122 seconds\n",
            "feature_scores: Init_Win_bytes_forward     0.050379\n",
            "Subflow Fwd Bytes          0.048041\n",
            "Init_Win_bytes_backward    0.044627\n",
            "Fwd Header Length          0.038640\n",
            "Flow IAT Mean              0.032487\n",
            "                             ...   \n",
            "Fwd Avg Packets/Bulk       0.000000\n",
            "Bwd Avg Packets/Bulk       0.000000\n",
            "Fwd Avg Bulk Rate          0.000000\n",
            "Bwd Avg Bytes/Bulk         0.000000\n",
            "Bwd PSH Flags              0.000000\n",
            "Length: 76, dtype: float64\n"
          ]
        }
      ]
    },
    {
      "cell_type": "code",
      "source": [
        "feature_scores_resampling.to_csv('feature_scores_resampling_2018_original.csv')"
      ],
      "metadata": {
        "id": "JZZpjGOz8bEF"
      },
      "execution_count": null,
      "outputs": []
    },
    {
      "cell_type": "markdown",
      "source": [
        "Get fearure scores from 2018 improved resampling dataset"
      ],
      "metadata": {
        "id": "pM5C2kNFsezp"
      }
    },
    {
      "cell_type": "code",
      "source": [
        "forest_resampling = train_rf(data2018_corrected_resampling)\n",
        "feature_scores_resampling = (pd.Series(forest_resampling.feature_importances_, index=data2018_corrected_resampling.columns[0:len(data2018_corrected_resampling.columns)-1]).sort_values(ascending=False))\n",
        "print(f'feature_scores: {feature_scores_resampling}')"
      ],
      "metadata": {
        "colab": {
          "base_uri": "https://localhost:8080/"
        },
        "id": "gI-Al5wqKxnX",
        "outputId": "e42122e4-7532-467b-966d-257370653ce1"
      },
      "execution_count": null,
      "outputs": [
        {
          "output_type": "stream",
          "name": "stdout",
          "text": [
            "Number of rows of train data: 6146650\n",
            "Number of columns of train data: 81\n",
            "Number of rows of test data: 1536663\n",
            "Number of columns of test data: 81\n",
            "------------------------------------------\n",
            "train - benign: 3072997; attack: 3073653\n",
            "test - benign: 768657; attack: 768006\n",
            "Time taken to fit the model: 7989.747261285782 seconds\n",
            "feature_scores: Init_Win_bytes_forward     1.293166e-01\n",
            "Flow IAT Min               7.679823e-02\n",
            "Init_Win_bytes_backward    6.864604e-02\n",
            "FIN Flag Count             5.791972e-02\n",
            "Max Packet Length          4.783943e-02\n",
            "                               ...     \n",
            "Bwd Avg Packets/Bulk       2.619450e-05\n",
            "Bwd Avg Bulk Rate          1.890541e-05\n",
            "Bwd Avg Bytes/Bulk         1.437871e-05\n",
            "Subflow Bwd Packets        3.268399e-07\n",
            "Bwd URG Flags              0.000000e+00\n",
            "Length: 81, dtype: float64\n"
          ]
        }
      ]
    },
    {
      "cell_type": "code",
      "source": [
        "feature_scores_resampling.to_csv('/content/onedrive/feature_scores_resampling_2018_improved.csv')"
      ],
      "metadata": {
        "id": "1TMcl4MrK0o1"
      },
      "execution_count": null,
      "outputs": []
    },
    {
      "cell_type": "markdown",
      "source": [
        "### Get feature scores"
      ],
      "metadata": {
        "id": "EuK4WF1Fr41g"
      }
    },
    {
      "cell_type": "code",
      "execution_count": 28,
      "metadata": {
        "id": "Vj-AkZ4947sJ"
      },
      "outputs": [],
      "source": [
        "feature_scores = pd.read_csv('/content/onedrive/features_scores.csv', names=['feature', 'importance ratio'], header=0)"
      ]
    },
    {
      "cell_type": "code",
      "execution_count": 29,
      "metadata": {
        "colab": {
          "base_uri": "https://localhost:8080/"
        },
        "id": "UUj4F8pg47sK",
        "outputId": "1e4af3b4-5b92-4da8-a174-bff10fda9678"
      },
      "outputs": [
        {
          "output_type": "execute_result",
          "data": {
            "text/plain": [
              "['Packet Length Std',\n",
              " 'Bwd Packet Length Std',\n",
              " 'Packet Length Variance',\n",
              " 'Bwd Packet Length Mean',\n",
              " 'Average Packet Size',\n",
              " 'Bwd Packet Length Max',\n",
              " 'Avg Bwd Segment Size',\n",
              " 'Packet Length Mean',\n",
              " 'Max Packet Length',\n",
              " 'Subflow Bwd Bytes',\n",
              " 'label_encoded']"
            ]
          },
          "metadata": {},
          "execution_count": 29
        }
      ],
      "source": [
        "feature_extract_item = list(feature_scores[feature_scores['importance ratio'] > 0.03]['feature'])\n",
        "feature_extract_item.append('label_encoded')\n",
        "feature_extract_item"
      ]
    },
    {
      "cell_type": "code",
      "execution_count": null,
      "metadata": {
        "id": "pRyBzu5U47sK"
      },
      "outputs": [],
      "source": [
        "feature_scores_resampling = pd.read_csv('/content/onedrive/feature_scores_resampling.csv', names=['feature', 'importance ratio'], header = 0)"
      ]
    },
    {
      "cell_type": "code",
      "execution_count": null,
      "metadata": {
        "colab": {
          "base_uri": "https://localhost:8080/"
        },
        "id": "rgcI3Za547sL",
        "outputId": "98251009-616d-47eb-fed2-3712a3342c88"
      },
      "outputs": [
        {
          "output_type": "execute_result",
          "data": {
            "text/plain": [
              "['Average Packet Size',\n",
              " 'Packet Length Variance',\n",
              " 'Bwd Packet Length Std',\n",
              " 'Packet Length Std',\n",
              " 'Bwd Packet Length Max',\n",
              " 'Packet Length Mean',\n",
              " 'Bwd Packet Length Mean',\n",
              " 'Max Packet Length',\n",
              " 'Avg Bwd Segment Size',\n",
              " 'Avg Fwd Segment Size',\n",
              " 'Init_Win_bytes_backward',\n",
              " 'label_encoded']"
            ]
          },
          "metadata": {},
          "execution_count": 10
        }
      ],
      "source": [
        "feature_resampling_extract_item = list(feature_scores_resampling[feature_scores_resampling['importance ratio'] > 0.03]['feature'])\n",
        "feature_resampling_extract_item.append('label_encoded')\n",
        "feature_resampling_extract_item"
      ]
    },
    {
      "cell_type": "markdown",
      "metadata": {
        "id": "7EdmS9rm47sL"
      },
      "source": [
        "### Prepare data: generate data only contains selected features"
      ]
    },
    {
      "cell_type": "code",
      "execution_count": null,
      "metadata": {
        "id": "KZAX6d6V47sL"
      },
      "outputs": [],
      "source": [
        "data2017_original = data2017_original[feature_extract_item]"
      ]
    },
    {
      "cell_type": "code",
      "execution_count": null,
      "metadata": {
        "id": "KOWZnI7D47sL"
      },
      "outputs": [],
      "source": [
        "data2017_original_resampling = data2017_original_resampling[feature_resampling_extract_item]"
      ]
    },
    {
      "cell_type": "code",
      "execution_count": null,
      "metadata": {
        "id": "UTnD5Yx3YtCM"
      },
      "outputs": [],
      "source": [
        "data2017_corrected = data2017_corrected[feature_extract_item]"
      ]
    },
    {
      "cell_type": "code",
      "execution_count": null,
      "metadata": {
        "id": "OCHHLZsQYtJN"
      },
      "outputs": [],
      "source": [
        "data2017_corrected_resampling = data2017_corrected_resampling[feature_resampling_extract_item]"
      ]
    },
    {
      "cell_type": "code",
      "execution_count": null,
      "metadata": {
        "id": "6OMAN6sFh3EQ"
      },
      "outputs": [],
      "source": [
        "data2018_original = data2018_original[feature_extract_item]"
      ]
    },
    {
      "cell_type": "code",
      "execution_count": null,
      "metadata": {
        "id": "8GP4x9tKh3LI"
      },
      "outputs": [],
      "source": [
        "data2018_original_resampling = data2018_original_resampling[feature_resampling_extract_item]"
      ]
    },
    {
      "cell_type": "code",
      "source": [
        "data2018_corrected = data2018_corrected[feature_extract_item]"
      ],
      "metadata": {
        "id": "cmRkjQG0szCu"
      },
      "execution_count": null,
      "outputs": []
    },
    {
      "cell_type": "code",
      "source": [
        "data2018_corrected_resampling = data2018_corrected_resampling[feature_resampling_extract_item]"
      ],
      "metadata": {
        "id": "fktXxlqHszIa"
      },
      "execution_count": null,
      "outputs": []
    },
    {
      "cell_type": "markdown",
      "metadata": {
        "id": "E379_Lp847sM"
      },
      "source": [
        "### Train-Test split / data normalisation"
      ]
    },
    {
      "cell_type": "code",
      "execution_count": 9,
      "metadata": {
        "id": "NsZSozJB47sM"
      },
      "outputs": [],
      "source": [
        "def split_data(data):\n",
        "    X_train, X_test, y_train, y_test = train_test_split(data.loc[:, data.columns != 'label_encoded'], data['label_encoded'], test_size=0.2, random_state=42) #reproducible\n",
        "\n",
        "    num_rows, num_cols = X_train.shape\n",
        "    print(f\"Number of rows of train data: {num_rows}\")\n",
        "    print(f\"Number of columns of train data: {num_cols}\")\n",
        "\n",
        "    num_rows, num_cols = X_test.shape\n",
        "    print(f\"Number of rows of test data: {num_rows}\")\n",
        "    print(f\"Number of columns of test data: {num_cols}\")\n",
        "\n",
        "    print(\"------------------------------------------\")\n",
        "    print(f\"train - benign: {y_train[y_train == 0].shape[0]}; attack: {y_train[y_train == 1].shape[0]}\")\n",
        "    print(f\"test - benign: {y_test[y_test == 0].shape[0]}; attack: {y_test[y_test == 1].shape[0]}\")\n",
        "\n",
        "    return X_train, X_test, y_train, y_test"
      ]
    },
    {
      "cell_type": "code",
      "execution_count": 10,
      "metadata": {
        "id": "n1N6l_P147sM"
      },
      "outputs": [],
      "source": [
        "def normalise_data(X_train, X_test):\n",
        "    scaler = StandardScaler()\n",
        "    X_train = scaler.fit_transform(X_train)\n",
        "    X_test = scaler.transform(X_test)\n",
        "\n",
        "    return X_train, X_test"
      ]
    },
    {
      "cell_type": "code",
      "execution_count": null,
      "metadata": {
        "colab": {
          "base_uri": "https://localhost:8080/"
        },
        "id": "eSeJKdyr47sM",
        "outputId": "ff40217a-11fd-45a0-8081-092497061bd3"
      },
      "outputs": [
        {
          "output_type": "stream",
          "name": "stdout",
          "text": [
            "Number of rows of train data: 2016638\n",
            "Number of columns of train data: 10\n",
            "Number of rows of test data: 504160\n",
            "Number of columns of test data: 10\n",
            "------------------------------------------\n",
            "train - benign: 1676159; attack: 340479\n",
            "test - benign: 418898; attack: 85262\n"
          ]
        }
      ],
      "source": [
        "X_train, X_test, y_train, y_test = split_data(data2017_original)\n",
        "\n",
        "data_test_2017_original = pd.concat([X_test, y_test], axis=1)\n",
        "X_train, X_test = normalise_data(X_train, X_test)"
      ]
    },
    {
      "cell_type": "code",
      "execution_count": null,
      "metadata": {
        "colab": {
          "base_uri": "https://localhost:8080/"
        },
        "id": "vv7pqFNx47sM",
        "outputId": "0ede444a-0741-42db-fd3f-32d650454c85"
      },
      "outputs": [
        {
          "output_type": "stream",
          "name": "stdout",
          "text": [
            "Number of rows of train data: 681185\n",
            "Number of columns of train data: 11\n",
            "Number of rows of test data: 170297\n",
            "Number of columns of test data: 11\n",
            "------------------------------------------\n",
            "train - benign: 340605; attack: 340580\n",
            "test - benign: 85136; attack: 85161\n"
          ]
        }
      ],
      "source": [
        "X_train_r, X_test_r, y_train_r, y_test_r = split_data(data2017_original_resampling)\n",
        "\n",
        "data_test_2017_original_resample = pd.concat([X_test_r, y_test_r], axis=1)\n",
        "X_train_r, X_test_r = normalise_data(X_train_r, X_test_r)"
      ]
    },
    {
      "cell_type": "markdown",
      "source": [
        "### Save 2017 upstream data as scratch - used for retraining for the new data"
      ],
      "metadata": {
        "id": "8R-wUgaTwFh7"
      }
    },
    {
      "cell_type": "code",
      "source": [
        "X_train = pd.DataFrame(X_train, columns = feature_extract_item[0:10])\n",
        "y_train = y_train.reset_index(drop=True)\n",
        "\n",
        "X_train_r = pd.DataFrame(X_train_r, columns = feature_resampling_extract_item[0:11])\n",
        "y_train_r = y_train_r.reset_index(drop=True)"
      ],
      "metadata": {
        "id": "-GjTPIEIwXRd"
      },
      "execution_count": null,
      "outputs": []
    },
    {
      "cell_type": "code",
      "source": [
        "upstream_model_data = pd.concat([X_train, y_train], axis = 1)\n",
        "upstream_model_data = pd.concat([X_train_r, y_train_r], axis = 1)"
      ],
      "metadata": {
        "id": "trbRblzLTK5w"
      },
      "execution_count": null,
      "outputs": []
    },
    {
      "cell_type": "code",
      "source": [
        "upstream_model_data"
      ],
      "metadata": {
        "colab": {
          "base_uri": "https://localhost:8080/",
          "height": 540
        },
        "id": "8AWWs1Icx9zd",
        "outputId": "7417c3e7-c6e6-450a-96cb-7e14b393ba31"
      },
      "execution_count": null,
      "outputs": [
        {
          "output_type": "execute_result",
          "data": {
            "text/plain": [
              "        Average Packet Size  Packet Length Variance  Bwd Packet Length Std  \\\n",
              "0                  1.128662                0.523994               0.988909   \n",
              "1                 -0.619454               -0.510594              -0.636201   \n",
              "2                  1.776607                0.705177               0.988909   \n",
              "3                 -0.755770               -0.510591              -0.636201   \n",
              "4                  2.233626                1.148491               1.179528   \n",
              "...                     ...                     ...                    ...   \n",
              "681180            -0.621519               -0.510231              -0.636201   \n",
              "681181            -0.588990               -0.510243              -0.636201   \n",
              "681182            -0.557492               -0.509790              -0.621448   \n",
              "681183             1.702046                0.729994               0.988909   \n",
              "681184            -0.768162               -0.510594              -0.636201   \n",
              "\n",
              "        Packet Length Std  Bwd Packet Length Max  Packet Length Mean  \\\n",
              "0                1.039205               1.233551            1.168024   \n",
              "1               -0.690914              -0.660844           -0.655886   \n",
              "2                1.184592               1.233551            1.773826   \n",
              "3               -0.688129              -0.676675           -0.753792   \n",
              "4                1.500007               1.249381            2.163176   \n",
              "...                   ...                    ...                 ...   \n",
              "681180          -0.658511              -0.646662           -0.635943   \n",
              "681181          -0.659079              -0.642705           -0.607387   \n",
              "681182          -0.642680              -0.628853           -0.579738   \n",
              "681183           1.203636               1.233551            1.699449   \n",
              "681184          -0.690914              -0.676675           -0.764670   \n",
              "\n",
              "        Bwd Packet Length Mean  Max Packet Length  Avg Bwd Segment Size  \\\n",
              "0                     1.365209           1.208958              1.365209   \n",
              "1                    -0.678032          -0.675788             -0.678032   \n",
              "2                     1.365209           1.208958              1.365209   \n",
              "3                    -0.730075          -0.689569             -0.730075   \n",
              "4                     1.785567           1.224708              1.785567   \n",
              "...                        ...                ...                   ...   \n",
              "681180               -0.631410          -0.661679             -0.631410   \n",
              "681181               -0.618399          -0.657741             -0.618399   \n",
              "681182               -0.588041          -0.643960             -0.588041   \n",
              "681183                1.365209           1.208958              1.365209   \n",
              "681184               -0.730075          -0.691538             -0.730075   \n",
              "\n",
              "        Avg Fwd Segment Size  Init_Win_bytes_backward  label_encoded  \n",
              "0                  -0.009937                -0.175099              1  \n",
              "1                  -0.017232                -0.208157              0  \n",
              "2                   0.834867                -0.175099              1  \n",
              "3                  -0.285308                -0.071861              0  \n",
              "4                  -0.268288                -0.175939              1  \n",
              "...                      ...                      ...            ...  \n",
              "681180             -0.106591                -0.208157              0  \n",
              "681181             -0.023615                -0.208157              0  \n",
              "681182             -0.026806                -0.208157              0  \n",
              "681183              0.258823                -0.175099              1  \n",
              "681184             -0.323605                -0.208157              0  \n",
              "\n",
              "[681185 rows x 12 columns]"
            ],
            "text/html": [
              "\n",
              "\n",
              "  <div id=\"df-9adb4443-cf51-4e3a-9e59-3d2f81a25756\">\n",
              "    <div class=\"colab-df-container\">\n",
              "      <div>\n",
              "<style scoped>\n",
              "    .dataframe tbody tr th:only-of-type {\n",
              "        vertical-align: middle;\n",
              "    }\n",
              "\n",
              "    .dataframe tbody tr th {\n",
              "        vertical-align: top;\n",
              "    }\n",
              "\n",
              "    .dataframe thead th {\n",
              "        text-align: right;\n",
              "    }\n",
              "</style>\n",
              "<table border=\"1\" class=\"dataframe\">\n",
              "  <thead>\n",
              "    <tr style=\"text-align: right;\">\n",
              "      <th></th>\n",
              "      <th>Average Packet Size</th>\n",
              "      <th>Packet Length Variance</th>\n",
              "      <th>Bwd Packet Length Std</th>\n",
              "      <th>Packet Length Std</th>\n",
              "      <th>Bwd Packet Length Max</th>\n",
              "      <th>Packet Length Mean</th>\n",
              "      <th>Bwd Packet Length Mean</th>\n",
              "      <th>Max Packet Length</th>\n",
              "      <th>Avg Bwd Segment Size</th>\n",
              "      <th>Avg Fwd Segment Size</th>\n",
              "      <th>Init_Win_bytes_backward</th>\n",
              "      <th>label_encoded</th>\n",
              "    </tr>\n",
              "  </thead>\n",
              "  <tbody>\n",
              "    <tr>\n",
              "      <th>0</th>\n",
              "      <td>1.128662</td>\n",
              "      <td>0.523994</td>\n",
              "      <td>0.988909</td>\n",
              "      <td>1.039205</td>\n",
              "      <td>1.233551</td>\n",
              "      <td>1.168024</td>\n",
              "      <td>1.365209</td>\n",
              "      <td>1.208958</td>\n",
              "      <td>1.365209</td>\n",
              "      <td>-0.009937</td>\n",
              "      <td>-0.175099</td>\n",
              "      <td>1</td>\n",
              "    </tr>\n",
              "    <tr>\n",
              "      <th>1</th>\n",
              "      <td>-0.619454</td>\n",
              "      <td>-0.510594</td>\n",
              "      <td>-0.636201</td>\n",
              "      <td>-0.690914</td>\n",
              "      <td>-0.660844</td>\n",
              "      <td>-0.655886</td>\n",
              "      <td>-0.678032</td>\n",
              "      <td>-0.675788</td>\n",
              "      <td>-0.678032</td>\n",
              "      <td>-0.017232</td>\n",
              "      <td>-0.208157</td>\n",
              "      <td>0</td>\n",
              "    </tr>\n",
              "    <tr>\n",
              "      <th>2</th>\n",
              "      <td>1.776607</td>\n",
              "      <td>0.705177</td>\n",
              "      <td>0.988909</td>\n",
              "      <td>1.184592</td>\n",
              "      <td>1.233551</td>\n",
              "      <td>1.773826</td>\n",
              "      <td>1.365209</td>\n",
              "      <td>1.208958</td>\n",
              "      <td>1.365209</td>\n",
              "      <td>0.834867</td>\n",
              "      <td>-0.175099</td>\n",
              "      <td>1</td>\n",
              "    </tr>\n",
              "    <tr>\n",
              "      <th>3</th>\n",
              "      <td>-0.755770</td>\n",
              "      <td>-0.510591</td>\n",
              "      <td>-0.636201</td>\n",
              "      <td>-0.688129</td>\n",
              "      <td>-0.676675</td>\n",
              "      <td>-0.753792</td>\n",
              "      <td>-0.730075</td>\n",
              "      <td>-0.689569</td>\n",
              "      <td>-0.730075</td>\n",
              "      <td>-0.285308</td>\n",
              "      <td>-0.071861</td>\n",
              "      <td>0</td>\n",
              "    </tr>\n",
              "    <tr>\n",
              "      <th>4</th>\n",
              "      <td>2.233626</td>\n",
              "      <td>1.148491</td>\n",
              "      <td>1.179528</td>\n",
              "      <td>1.500007</td>\n",
              "      <td>1.249381</td>\n",
              "      <td>2.163176</td>\n",
              "      <td>1.785567</td>\n",
              "      <td>1.224708</td>\n",
              "      <td>1.785567</td>\n",
              "      <td>-0.268288</td>\n",
              "      <td>-0.175939</td>\n",
              "      <td>1</td>\n",
              "    </tr>\n",
              "    <tr>\n",
              "      <th>...</th>\n",
              "      <td>...</td>\n",
              "      <td>...</td>\n",
              "      <td>...</td>\n",
              "      <td>...</td>\n",
              "      <td>...</td>\n",
              "      <td>...</td>\n",
              "      <td>...</td>\n",
              "      <td>...</td>\n",
              "      <td>...</td>\n",
              "      <td>...</td>\n",
              "      <td>...</td>\n",
              "      <td>...</td>\n",
              "    </tr>\n",
              "    <tr>\n",
              "      <th>681180</th>\n",
              "      <td>-0.621519</td>\n",
              "      <td>-0.510231</td>\n",
              "      <td>-0.636201</td>\n",
              "      <td>-0.658511</td>\n",
              "      <td>-0.646662</td>\n",
              "      <td>-0.635943</td>\n",
              "      <td>-0.631410</td>\n",
              "      <td>-0.661679</td>\n",
              "      <td>-0.631410</td>\n",
              "      <td>-0.106591</td>\n",
              "      <td>-0.208157</td>\n",
              "      <td>0</td>\n",
              "    </tr>\n",
              "    <tr>\n",
              "      <th>681181</th>\n",
              "      <td>-0.588990</td>\n",
              "      <td>-0.510243</td>\n",
              "      <td>-0.636201</td>\n",
              "      <td>-0.659079</td>\n",
              "      <td>-0.642705</td>\n",
              "      <td>-0.607387</td>\n",
              "      <td>-0.618399</td>\n",
              "      <td>-0.657741</td>\n",
              "      <td>-0.618399</td>\n",
              "      <td>-0.023615</td>\n",
              "      <td>-0.208157</td>\n",
              "      <td>0</td>\n",
              "    </tr>\n",
              "    <tr>\n",
              "      <th>681182</th>\n",
              "      <td>-0.557492</td>\n",
              "      <td>-0.509790</td>\n",
              "      <td>-0.621448</td>\n",
              "      <td>-0.642680</td>\n",
              "      <td>-0.628853</td>\n",
              "      <td>-0.579738</td>\n",
              "      <td>-0.588041</td>\n",
              "      <td>-0.643960</td>\n",
              "      <td>-0.588041</td>\n",
              "      <td>-0.026806</td>\n",
              "      <td>-0.208157</td>\n",
              "      <td>0</td>\n",
              "    </tr>\n",
              "    <tr>\n",
              "      <th>681183</th>\n",
              "      <td>1.702046</td>\n",
              "      <td>0.729994</td>\n",
              "      <td>0.988909</td>\n",
              "      <td>1.203636</td>\n",
              "      <td>1.233551</td>\n",
              "      <td>1.699449</td>\n",
              "      <td>1.365209</td>\n",
              "      <td>1.208958</td>\n",
              "      <td>1.365209</td>\n",
              "      <td>0.258823</td>\n",
              "      <td>-0.175099</td>\n",
              "      <td>1</td>\n",
              "    </tr>\n",
              "    <tr>\n",
              "      <th>681184</th>\n",
              "      <td>-0.768162</td>\n",
              "      <td>-0.510594</td>\n",
              "      <td>-0.636201</td>\n",
              "      <td>-0.690914</td>\n",
              "      <td>-0.676675</td>\n",
              "      <td>-0.764670</td>\n",
              "      <td>-0.730075</td>\n",
              "      <td>-0.691538</td>\n",
              "      <td>-0.730075</td>\n",
              "      <td>-0.323605</td>\n",
              "      <td>-0.208157</td>\n",
              "      <td>0</td>\n",
              "    </tr>\n",
              "  </tbody>\n",
              "</table>\n",
              "<p>681185 rows × 12 columns</p>\n",
              "</div>\n",
              "      <button class=\"colab-df-convert\" onclick=\"convertToInteractive('df-9adb4443-cf51-4e3a-9e59-3d2f81a25756')\"\n",
              "              title=\"Convert this dataframe to an interactive table.\"\n",
              "              style=\"display:none;\">\n",
              "\n",
              "  <svg xmlns=\"http://www.w3.org/2000/svg\" height=\"24px\"viewBox=\"0 0 24 24\"\n",
              "       width=\"24px\">\n",
              "    <path d=\"M0 0h24v24H0V0z\" fill=\"none\"/>\n",
              "    <path d=\"M18.56 5.44l.94 2.06.94-2.06 2.06-.94-2.06-.94-.94-2.06-.94 2.06-2.06.94zm-11 1L8.5 8.5l.94-2.06 2.06-.94-2.06-.94L8.5 2.5l-.94 2.06-2.06.94zm10 10l.94 2.06.94-2.06 2.06-.94-2.06-.94-.94-2.06-.94 2.06-2.06.94z\"/><path d=\"M17.41 7.96l-1.37-1.37c-.4-.4-.92-.59-1.43-.59-.52 0-1.04.2-1.43.59L10.3 9.45l-7.72 7.72c-.78.78-.78 2.05 0 2.83L4 21.41c.39.39.9.59 1.41.59.51 0 1.02-.2 1.41-.59l7.78-7.78 2.81-2.81c.8-.78.8-2.07 0-2.86zM5.41 20L4 18.59l7.72-7.72 1.47 1.35L5.41 20z\"/>\n",
              "  </svg>\n",
              "      </button>\n",
              "\n",
              "\n",
              "\n",
              "    <div id=\"df-782547fa-d390-4d38-87a2-96b1bf14a0eb\">\n",
              "      <button class=\"colab-df-quickchart\" onclick=\"quickchart('df-782547fa-d390-4d38-87a2-96b1bf14a0eb')\"\n",
              "              title=\"Suggest charts.\"\n",
              "              style=\"display:none;\">\n",
              "\n",
              "<svg xmlns=\"http://www.w3.org/2000/svg\" height=\"24px\"viewBox=\"0 0 24 24\"\n",
              "     width=\"24px\">\n",
              "    <g>\n",
              "        <path d=\"M19 3H5c-1.1 0-2 .9-2 2v14c0 1.1.9 2 2 2h14c1.1 0 2-.9 2-2V5c0-1.1-.9-2-2-2zM9 17H7v-7h2v7zm4 0h-2V7h2v10zm4 0h-2v-4h2v4z\"/>\n",
              "    </g>\n",
              "</svg>\n",
              "      </button>\n",
              "    </div>\n",
              "\n",
              "<style>\n",
              "  .colab-df-quickchart {\n",
              "    background-color: #E8F0FE;\n",
              "    border: none;\n",
              "    border-radius: 50%;\n",
              "    cursor: pointer;\n",
              "    display: none;\n",
              "    fill: #1967D2;\n",
              "    height: 32px;\n",
              "    padding: 0 0 0 0;\n",
              "    width: 32px;\n",
              "  }\n",
              "\n",
              "  .colab-df-quickchart:hover {\n",
              "    background-color: #E2EBFA;\n",
              "    box-shadow: 0px 1px 2px rgba(60, 64, 67, 0.3), 0px 1px 3px 1px rgba(60, 64, 67, 0.15);\n",
              "    fill: #174EA6;\n",
              "  }\n",
              "\n",
              "  [theme=dark] .colab-df-quickchart {\n",
              "    background-color: #3B4455;\n",
              "    fill: #D2E3FC;\n",
              "  }\n",
              "\n",
              "  [theme=dark] .colab-df-quickchart:hover {\n",
              "    background-color: #434B5C;\n",
              "    box-shadow: 0px 1px 3px 1px rgba(0, 0, 0, 0.15);\n",
              "    filter: drop-shadow(0px 1px 2px rgba(0, 0, 0, 0.3));\n",
              "    fill: #FFFFFF;\n",
              "  }\n",
              "</style>\n",
              "\n",
              "    <script>\n",
              "      async function quickchart(key) {\n",
              "        const containerElement = document.querySelector('#' + key);\n",
              "        const charts = await google.colab.kernel.invokeFunction(\n",
              "            'suggestCharts', [key], {});\n",
              "      }\n",
              "    </script>\n",
              "\n",
              "      <script>\n",
              "\n",
              "function displayQuickchartButton(domScope) {\n",
              "  let quickchartButtonEl =\n",
              "    domScope.querySelector('#df-782547fa-d390-4d38-87a2-96b1bf14a0eb button.colab-df-quickchart');\n",
              "  quickchartButtonEl.style.display =\n",
              "    google.colab.kernel.accessAllowed ? 'block' : 'none';\n",
              "}\n",
              "\n",
              "        displayQuickchartButton(document);\n",
              "      </script>\n",
              "      <style>\n",
              "    .colab-df-container {\n",
              "      display:flex;\n",
              "      flex-wrap:wrap;\n",
              "      gap: 12px;\n",
              "    }\n",
              "\n",
              "    .colab-df-convert {\n",
              "      background-color: #E8F0FE;\n",
              "      border: none;\n",
              "      border-radius: 50%;\n",
              "      cursor: pointer;\n",
              "      display: none;\n",
              "      fill: #1967D2;\n",
              "      height: 32px;\n",
              "      padding: 0 0 0 0;\n",
              "      width: 32px;\n",
              "    }\n",
              "\n",
              "    .colab-df-convert:hover {\n",
              "      background-color: #E2EBFA;\n",
              "      box-shadow: 0px 1px 2px rgba(60, 64, 67, 0.3), 0px 1px 3px 1px rgba(60, 64, 67, 0.15);\n",
              "      fill: #174EA6;\n",
              "    }\n",
              "\n",
              "    [theme=dark] .colab-df-convert {\n",
              "      background-color: #3B4455;\n",
              "      fill: #D2E3FC;\n",
              "    }\n",
              "\n",
              "    [theme=dark] .colab-df-convert:hover {\n",
              "      background-color: #434B5C;\n",
              "      box-shadow: 0px 1px 3px 1px rgba(0, 0, 0, 0.15);\n",
              "      filter: drop-shadow(0px 1px 2px rgba(0, 0, 0, 0.3));\n",
              "      fill: #FFFFFF;\n",
              "    }\n",
              "  </style>\n",
              "\n",
              "      <script>\n",
              "        const buttonEl =\n",
              "          document.querySelector('#df-9adb4443-cf51-4e3a-9e59-3d2f81a25756 button.colab-df-convert');\n",
              "        buttonEl.style.display =\n",
              "          google.colab.kernel.accessAllowed ? 'block' : 'none';\n",
              "\n",
              "        async function convertToInteractive(key) {\n",
              "          const element = document.querySelector('#df-9adb4443-cf51-4e3a-9e59-3d2f81a25756');\n",
              "          const dataTable =\n",
              "            await google.colab.kernel.invokeFunction('convertToInteractive',\n",
              "                                                     [key], {});\n",
              "          if (!dataTable) return;\n",
              "\n",
              "          const docLinkHtml = 'Like what you see? Visit the ' +\n",
              "            '<a target=\"_blank\" href=https://colab.research.google.com/notebooks/data_table.ipynb>data table notebook</a>'\n",
              "            + ' to learn more about interactive tables.';\n",
              "          element.innerHTML = '';\n",
              "          dataTable['output_type'] = 'display_data';\n",
              "          await google.colab.output.renderOutput(dataTable, element);\n",
              "          const docLink = document.createElement('div');\n",
              "          docLink.innerHTML = docLinkHtml;\n",
              "          element.appendChild(docLink);\n",
              "        }\n",
              "      </script>\n",
              "    </div>\n",
              "  </div>\n"
            ]
          },
          "metadata": {},
          "execution_count": 18
        }
      ]
    },
    {
      "cell_type": "code",
      "source": [
        "upstream_model_data.to_parquet('/content/onedrive/models/upstream_model_data.parquet', compression=None, engine='fastparquet')\n",
        "upstream_model_data.to_parquet('/content/onedrive/models/upstream_model_data_resampling.parquet', compression=None, engine='fastparquet')"
      ],
      "metadata": {
        "id": "F72-bfLcxBuJ"
      },
      "execution_count": null,
      "outputs": []
    },
    {
      "cell_type": "markdown",
      "metadata": {
        "id": "bxawvP7h47sN"
      },
      "source": [
        "### Algorithm"
      ]
    },
    {
      "cell_type": "code",
      "execution_count": 11,
      "metadata": {
        "id": "6FCl368b47sN"
      },
      "outputs": [],
      "source": [
        "# Define constant value\n",
        "METHOD_RANDOM_FOREST = 'rf'\n",
        "METHOD_XGBOOST = 'xgb'\n",
        "METHOD_KNN = 'knn'\n"
      ]
    },
    {
      "cell_type": "code",
      "execution_count": 12,
      "metadata": {
        "id": "_msSavMq47sN"
      },
      "outputs": [],
      "source": [
        "methods = [METHOD_RANDOM_FOREST, METHOD_XGBOOST, METHOD_KNN]\n",
        "# methods = [METHOD_KNN]"
      ]
    },
    {
      "cell_type": "markdown",
      "source": [
        "### Tune hyperparameter"
      ],
      "metadata": {
        "id": "D6gjoraLtAhz"
      }
    },
    {
      "cell_type": "code",
      "source": [
        "clf = RandomForestClassifier()"
      ],
      "metadata": {
        "id": "j_8jqcfYwWVf"
      },
      "execution_count": null,
      "outputs": []
    },
    {
      "cell_type": "code",
      "source": [
        "clf.get_params()"
      ],
      "metadata": {
        "colab": {
          "base_uri": "https://localhost:8080/"
        },
        "id": "Dy8mnpXdwvO2",
        "outputId": "69676ec2-9423-4a2e-df03-584542f8ab85"
      },
      "execution_count": null,
      "outputs": [
        {
          "output_type": "execute_result",
          "data": {
            "text/plain": [
              "{'bootstrap': True,\n",
              " 'ccp_alpha': 0.0,\n",
              " 'class_weight': None,\n",
              " 'criterion': 'gini',\n",
              " 'max_depth': None,\n",
              " 'max_features': 'sqrt',\n",
              " 'max_leaf_nodes': None,\n",
              " 'max_samples': None,\n",
              " 'min_impurity_decrease': 0.0,\n",
              " 'min_samples_leaf': 1,\n",
              " 'min_samples_split': 2,\n",
              " 'min_weight_fraction_leaf': 0.0,\n",
              " 'n_estimators': 100,\n",
              " 'n_jobs': None,\n",
              " 'oob_score': False,\n",
              " 'random_state': None,\n",
              " 'verbose': 0,\n",
              " 'warm_start': False}"
            ]
          },
          "metadata": {},
          "execution_count": 22
        }
      ]
    },
    {
      "cell_type": "code",
      "execution_count": null,
      "metadata": {
        "colab": {
          "base_uri": "https://localhost:8080/"
        },
        "id": "mUdc2ELG3bFy",
        "outputId": "7bc2e04a-399b-4c90-93e9-47d734787084"
      },
      "outputs": [
        {
          "output_type": "stream",
          "name": "stdout",
          "text": [
            "new best:\n",
            "0.968716745930811\n",
            "{'criterion': 'entropy', 'max_depth': 4, 'max_features': None, 'max_leaf_nodes': 9, 'n_estimators': 100}\n",
            "new best:\n",
            "0.9792694573451408\n",
            "{'criterion': 'entropy', 'max_depth': 8, 'max_features': 'log2', 'max_leaf_nodes': 9, 'n_estimators': 150}\n",
            "100%|██████████| 16/16 [3:07:11<00:00, 701.98s/trial, best loss: -0.9792694573451408]\n",
            "best:\n",
            "{'criterion': 1, 'max_depth': 5, 'max_features': 1, 'max_leaf_nodes': 6, 'n_estimators': 3}\n"
          ]
        }
      ],
      "source": [
        "def hyperopt_train_test(params):\n",
        "    clf = RandomForestClassifier(**params)\n",
        "    return cross_val_score(clf, X_train, y_train).mean()\n",
        "\n",
        "space4rf = {\n",
        "    'max_depth': hp.choice('max_depth', range(3, 10)),\n",
        "    'max_leaf_nodes': hp.choice('max_leaf_nodes', range(3, 10)),\n",
        "    'max_features': hp.choice('max_features', [\"sqrt\", \"log2\", None]),\n",
        "    'n_estimators': hp.choice('n_estimators', [25, 50, 100, 150]), #how many trees need to be created\n",
        "    'criterion': hp.choice('criterion', [\"gini\", \"entropy\"])\n",
        "}\n",
        "\n",
        "best = 0\n",
        "\n",
        "def f(params):\n",
        "    global best\n",
        "    acc = hyperopt_train_test(params)\n",
        "    if acc > best:\n",
        "      best = acc\n",
        "      print('new best:', best, params)\n",
        "    return {'loss': -acc, 'status': STATUS_OK}\n",
        "\n",
        "trials = Trials()\n",
        "best = fmin(f, space4rf, algo=tpe.suggest, max_evals=16, trials=trials)\n",
        "print('best:')\n",
        "print(best)"
      ]
    },
    {
      "cell_type": "code",
      "source": [
        "parameters = ['n_estimators', 'max_depth', 'max_features', 'criterion', 'max_leaf_nodes']\n",
        "f, axes = plt.subplots(nrows=2, ncols=3, figsize=(15,10))\n",
        "cmap = plt.cm.jet\n",
        "for i, val in enumerate(parameters):\n",
        "    print(i, val)\n",
        "    xs = np.array([t['misc']['vals'][val] for t in trials.trials]).ravel()\n",
        "    ys = [-t['result']['loss'] for t in trials.trials]\n",
        "    xs, ys = zip(*sorted(zip(xs, ys)))\n",
        "    ys = np.array(ys)\n",
        "    axes[int(i/3), int(i%3)].scatter(xs, ys, s=20, linewidth=0.01, alpha=0.5, c=cmap(float(i)/len(parameters)))\n",
        "    axes[int(i/3), int(i%3)].set_title(val)\n",
        "    #axes[i/3,i%3].set_ylim([0.9,1.0])"
      ],
      "metadata": {
        "colab": {
          "base_uri": "https://localhost:8080/",
          "height": 851
        },
        "id": "a9o5kJTKshzb",
        "outputId": "898fc281-4aeb-4a34-97e4-e22a7d43fe18"
      },
      "execution_count": null,
      "outputs": [
        {
          "output_type": "stream",
          "name": "stdout",
          "text": [
            "0 n_estimators\n",
            "1 max_depth\n",
            "2 max_features\n",
            "3 criterion\n",
            "4 max_leaf_nodes\n"
          ]
        },
        {
          "output_type": "stream",
          "name": "stderr",
          "text": [
            "<ipython-input-32-29ca5cc73f7f>:10: UserWarning: *c* argument looks like a single numeric RGB or RGBA sequence, which should be avoided as value-mapping will have precedence in case its length matches with *x* & *y*.  Please use the *color* keyword-argument or provide a 2D array with a single row if you intend to specify the same RGB or RGBA value for all points.\n",
            "  axes[int(i/3), int(i%3)].scatter(xs, ys, s=20, linewidth=0.01, alpha=0.5, c=cmap(float(i)/len(parameters)))\n"
          ]
        },
        {
          "output_type": "display_data",
          "data": {
            "text/plain": [
              "<Figure size 1500x1000 with 6 Axes>"
            ],
            "image/png": "[encoded data removed]"
          },
          "metadata": {}
        }
      ]
    },
    {
      "cell_type": "code",
      "execution_count": null,
      "metadata": {
        "colab": {
          "base_uri": "https://localhost:8080/"
        },
        "id": "tfbJDXDzJ8R5",
        "outputId": "46de1789-a90e-4661-edb4-50f3dd22cf30"
      },
      "outputs": [
        {
          "output_type": "stream",
          "name": "stdout",
          "text": [
            "new best:\n",
            "0.9883642974258132\n",
            "{'colsample_bytree': 0.7746641101400913, 'gamma': 5.192938771834221, 'max_depth': 6, 'min_child_weight': 1.0, 'n_estimators': 25, 'reg_alpha': 142.0, 'reg_lambda': 0.7690390460784831}\n",
            "new best:\n",
            "0.988798683772736\n",
            "{'colsample_bytree': 0.6793249063243364, 'gamma': 4.30534585392597, 'max_depth': 9, 'min_child_weight': 5.0, 'n_estimators': 50, 'reg_alpha': 87.0, 'reg_lambda': 0.15100048946669153}\n",
            "new best:\n",
            "0.9891056302716713\n",
            "{'colsample_bytree': 0.8653986157607052, 'gamma': 4.049853844532946, 'max_depth': 8, 'min_child_weight': 7.0, 'n_estimators': 100, 'reg_alpha': 52.0, 'reg_lambda': 0.9937045075256274}\n",
            "100%|██████████| 16/16 [42:24<00:00, 159.05s/trial, best loss: -0.9891056302716713]\n",
            "best:\n",
            "{'colsample_bytree': 0.8653986157607052, 'gamma': 4.049853844532946, 'max_depth': 5, 'min_child_weight': 7.0, 'n_estimators': 2, 'reg_alpha': 52.0, 'reg_lambda': 0.9937045075256274}\n"
          ]
        }
      ],
      "source": [
        "def hyperopt_train_test(params):\n",
        "    clf = xgb.XGBClassifier(**params)\n",
        "    return cross_val_score(clf, X_train, y_train).mean()\n",
        "\n",
        "space4xgb = {\n",
        "    'max_depth': hp.choice(\"max_depth\", range(3, 10)),\n",
        "    'gamma': hp.uniform ('gamma', 1,9),\n",
        "    'reg_alpha' : hp.quniform('reg_alpha', 40,180,1),\n",
        "    'reg_lambda' : hp.uniform('reg_lambda', 0,1),\n",
        "    'colsample_bytree' : hp.uniform('colsample_bytree', 0.5,1),\n",
        "    'min_child_weight' : hp.quniform('min_child_weight', 0, 10, 1),\n",
        "    'n_estimators': hp.choice('n_estimators', [25, 50, 100, 150])\n",
        "}\n",
        "\n",
        "best = 0\n",
        "\n",
        "def f(params):\n",
        "    global best\n",
        "    acc = hyperopt_train_test(params)\n",
        "    if acc > best:\n",
        "      best = acc\n",
        "      print('new best:', best, params)\n",
        "    return {'loss': -acc, 'status': STATUS_OK}\n",
        "\n",
        "trials = Trials()\n",
        "best_param_xgb = fmin(f, space4xgb, algo=tpe.suggest, max_evals=16, trials=trials)\n",
        "\n",
        "print('best:')\n",
        "print(best_param_xgb)"
      ]
    },
    {
      "cell_type": "code",
      "source": [
        "parameters = ['max_depth', 'gamma', 'reg_alpha', 'reg_lambda', 'colsample_bytree', 'min_child_weight', 'n_estimators']\n",
        "f, axes = plt.subplots(nrows=2, ncols=4, figsize=(15,10))\n",
        "cmap = plt.cm.jet\n",
        "for i, val in enumerate(parameters):\n",
        "    print(i, val)\n",
        "    xs = np.array([t['misc']['vals'][val] for t in trials.trials]).ravel()\n",
        "    ys = [-t['result']['loss'] for t in trials.trials]\n",
        "    xs, ys = zip(*sorted(zip(xs, ys)))\n",
        "    ys = np.array(ys)\n",
        "    axes[int(i/4), int(i%4)].scatter(xs, ys, s=20, linewidth=0.01, alpha=0.5, c=cmap(float(i)/len(parameters)))\n",
        "    axes[int(i/4), int(i%4)].set_title(val)"
      ],
      "metadata": {
        "colab": {
          "base_uri": "https://localhost:8080/",
          "height": 882
        },
        "id": "37NcltRp1I87",
        "outputId": "6d5581b8-0639-448f-c313-26b313b4834c"
      },
      "execution_count": null,
      "outputs": [
        {
          "output_type": "stream",
          "name": "stdout",
          "text": [
            "0 max_depth\n",
            "1 gamma\n",
            "2 reg_alpha\n",
            "3 reg_lambda\n",
            "4 colsample_bytree\n",
            "5 min_child_weight\n",
            "6 n_estimators\n"
          ]
        },
        {
          "output_type": "stream",
          "name": "stderr",
          "text": [
            "<ipython-input-36-7ce5535b138d>:10: UserWarning: *c* argument looks like a single numeric RGB or RGBA sequence, which should be avoided as value-mapping will have precedence in case its length matches with *x* & *y*.  Please use the *color* keyword-argument or provide a 2D array with a single row if you intend to specify the same RGB or RGBA value for all points.\n",
            "  axes[int(i/4), int(i%4)].scatter(xs, ys, s=20, linewidth=0.01, alpha=0.5, c=cmap(float(i)/len(parameters)))\n"
          ]
        },
        {
          "output_type": "display_data",
          "data": {
            "text/plain": [
              "<Figure size 1500x1000 with 8 Axes>"
            ],
            "image/png": "[encoded data removed]"
          },
          "metadata": {}
        }
      ]
    },
    {
      "cell_type": "code",
      "execution_count": null,
      "metadata": {
        "colab": {
          "base_uri": "https://localhost:8080/"
        },
        "id": "TEHNwsFi2AD1",
        "outputId": "34bcbf54-493a-4429-fbf2-1dc3bb37267c"
      },
      "outputs": [
        {
          "output_type": "stream",
          "name": "stdout",
          "text": [
            "100%|██████████| 16/16 [18:49:47<00:00, 4236.74s/trial, best loss: -0.9893079472842142]\n",
            "best:\n",
            "{'n_neighbors': 5}\n"
          ]
        }
      ],
      "source": [
        "def hyperopt_train_test(params):\n",
        "    clf = KNeighborsClassifier(**params)\n",
        "    return cross_val_score(clf, X_train, y_train).mean()\n",
        "space4knn = {\n",
        "    'n_neighbors': hp.choice('n_neighbors', range(3,30))\n",
        "}\n",
        "def f(params):\n",
        "    acc = hyperopt_train_test(params)\n",
        "    return {'loss': -acc, 'status': STATUS_OK}\n",
        "trials = Trials()\n",
        "best_param_knn = fmin(f, space4knn, algo=tpe.suggest, max_evals=16, trials=trials)\n",
        "print('best:')\n",
        "print(best_param_knn)"
      ]
    },
    {
      "cell_type": "code",
      "execution_count": null,
      "metadata": {
        "id": "g1Na1Hs42HMW",
        "colab": {
          "base_uri": "https://localhost:8080/",
          "height": 499
        },
        "outputId": "3b5d6fc3-ef06-4953-9794-371c9e960f18"
      },
      "outputs": [
        {
          "output_type": "execute_result",
          "data": {
            "text/plain": [
              "Text(0, 0.5, 'cross validation accuracy')"
            ]
          },
          "metadata": {},
          "execution_count": 21
        },
        {
          "output_type": "display_data",
          "data": {
            "text/plain": [
              "<Figure size 640x480 with 1 Axes>"
            ],
            "image/png": "[encoded data removed]"
          },
          "metadata": {}
        }
      ],
      "source": [
        "f, ax = plt.subplots(1)#, figsize=(10,10))\n",
        "xs = [t['misc']['vals']['n_neighbors'] for t in trials.trials]\n",
        "ys = [-t['result']['loss'] for t in trials.trials]\n",
        "ax.scatter(xs, ys, s=20, linewidth=0.01, alpha=0.5)\n",
        "ax.set_title('KNN', fontsize=18)\n",
        "ax.set_xlabel('n_neighbors', fontsize=12)\n",
        "ax.set_ylabel('cross validation accuracy', fontsize=12)"
      ]
    },
    {
      "cell_type": "markdown",
      "metadata": {
        "id": "7hjXXEWR36Zx"
      },
      "source": [
        "### Compare and choose the best models across different algorithm"
      ]
    },
    {
      "cell_type": "code",
      "execution_count": null,
      "metadata": {
        "id": "xzW8BDug3ZU8"
      },
      "outputs": [],
      "source": [
        "def hyperopt_train_test(params):\n",
        "    t = params['type']\n",
        "    del params['type']\n",
        "    if t == 'naive_bayes':\n",
        "        clf = BernoulliNB(**params)\n",
        "    elif t == 'svm':\n",
        "        clf = SVC(**params)\n",
        "    elif t == 'dtree':\n",
        "        clf = DecisionTreeClassifier(**params)\n",
        "    elif t == 'knn':\n",
        "        clf = KNeighborsClassifier(**params)\n",
        "    else:\n",
        "        return 0\n",
        "    return cross_val_score(clf, X, y).mean()\n",
        "space = hp.choice('classifier_type', [\n",
        "    {\n",
        "        'type': 'naive_bayes',\n",
        "        'alpha': hp.uniform('alpha', 0.0, 2.0)\n",
        "    },\n",
        "    {\n",
        "        'type': 'svm',\n",
        "        'C': hp.uniform('C', 0, 10.0),\n",
        "        'kernel': hp.choice('kernel', ['linear', 'rbf']),\n",
        "        'gamma': hp.uniform('gamma', 0, 20.0)\n",
        "    },\n",
        "    {\n",
        "        'type': 'randomforest',\n",
        "        'max_depth': hp.choice('max_depth', range(1,20)),\n",
        "        'max_features': hp.choice('max_features', range(1,5)),\n",
        "        'n_estimators': hp.choice('n_estimators', range(1,20)),\n",
        "        'criterion': hp.choice('criterion', [\"gini\", \"entropy\"]),\n",
        "        'scale': hp.choice('scale', [0, 1]),\n",
        "        'normalize': hp.choice('normalize', [0, 1])\n",
        "    },\n",
        "    {\n",
        "        'type': 'knn',\n",
        "        'n_neighbors': hp.choice('knn_n_neighbors', range(1,50))\n",
        "    }\n",
        "])\n",
        "count = 0\n",
        "best = 0\n",
        "def f(params):\n",
        "    global best, count\n",
        "    count += 1\n",
        "    acc = hyperopt_train_test(params.copy())\n",
        "    if acc > best:\n",
        "        print 'new best:', acc, 'using', params['type']\n",
        "        best = acc\n",
        "    if count % 50 == 0:\n",
        "        print 'iters:', count, ', acc:', acc, 'using', params\n",
        "    return {'loss': -acc, 'status': STATUS_OK}\n",
        "trials = Trials()\n",
        "best = fmin(f, space, algo=tpe.suggest, max_evals=1500, trials=trials)\n",
        "print 'best:'\n",
        "print best"
      ]
    },
    {
      "cell_type": "markdown",
      "source": [
        "### Setup optim hyperparameter"
      ],
      "metadata": {
        "id": "FWjmVwE72Uan"
      }
    },
    {
      "cell_type": "code",
      "source": [
        "best_param_rf = {'criterion': 'entropy', 'max_depth': 5, 'max_features': 1, 'max_leaf_nodes': 6, 'n_estimators': 3}"
      ],
      "metadata": {
        "id": "42fIGtKbr1r2"
      },
      "execution_count": 13,
      "outputs": []
    },
    {
      "cell_type": "code",
      "source": [
        "best_param_xgb = {'colsample_bytree': 0.8653986157607052, 'gamma': 4.049853844532946, 'max_depth': 5, 'min_child_weight': 7.0, 'n_estimators': 2, 'reg_alpha': 52.0, 'reg_lambda': 0.9937045075256274}"
      ],
      "metadata": {
        "id": "IDIpdJyrlGez"
      },
      "execution_count": 14,
      "outputs": []
    },
    {
      "cell_type": "code",
      "source": [
        "best_param_knn = {'n_neighbors': 5}"
      ],
      "metadata": {
        "id": "gyJbZkZAlK21"
      },
      "execution_count": 15,
      "outputs": []
    },
    {
      "cell_type": "code",
      "source": [],
      "metadata": {
        "id": "rOiPavmu2YEH"
      },
      "execution_count": null,
      "outputs": []
    },
    {
      "cell_type": "markdown",
      "source": [
        "### Train Models"
      ],
      "metadata": {
        "id": "LGpmBtBwtUMY"
      }
    },
    {
      "cell_type": "code",
      "execution_count": 17,
      "metadata": {
        "id": "enI4QODv47sN"
      },
      "outputs": [],
      "source": [
        "def train_rf(X_train, y_train, is_resample, need_save_model):\n",
        "    print('~~~~START TRAIN RANDOM FOREST~~~~')\n",
        "    clf = RandomForestClassifier(random_state=42)\n",
        "    clf.set_params(**best_param_rf)\n",
        "    start_time = time.time()\n",
        "    # Train the model on the training data\n",
        "    clf.fit(X_train, y_train)\n",
        "    end_time = time.time()\n",
        "    time_taken = end_time - start_time\n",
        "    print(\"Time taken to fit the model:\", time_taken, \"seconds\")\n",
        "    if (need_save_model):\n",
        "      if is_resample:\n",
        "          # joblib.dump(clf, f\"/content/onedrive/models/model_{METHOD_RANDOM_FOREST}_resample.joblib\")\n",
        "          joblib.dump(clf, f\"/content/onedrive/models/model_{METHOD_RANDOM_FOREST}_resample_finetune_2.joblib\")\n",
        "      else:\n",
        "          # joblib.dump(clf, f\"/content/onedrive/models/model_{METHOD_RANDOM_FOREST}.joblib\")\n",
        "          joblib.dump(clf, f\"/content/onedrive/models/model_{METHOD_RANDOM_FOREST}_finetune_2.joblib\")\n",
        "    return clf"
      ]
    },
    {
      "cell_type": "code",
      "execution_count": 18,
      "metadata": {
        "id": "TTM9Dn_b47sN"
      },
      "outputs": [],
      "source": [
        "def train_xgb(X_train, y_train, is_resample, need_save_model):\n",
        "    print('~~~~START TRAIN XGBOOST~~~~')\n",
        "    clf = xgb.XGBClassifier(random_state=42)\n",
        "    clf.set_params(**best_param_xgb)\n",
        "    start_time = time.time()\n",
        "    # Train the model on the training data\n",
        "    clf.fit(X_train, y_train)\n",
        "    end_time = time.time()\n",
        "    time_taken = end_time - start_time\n",
        "    print(\"Time taken to fit the model:\", time_taken, \"seconds\")\n",
        "    if (need_save_model):\n",
        "      if is_resample:\n",
        "          # clf.save_model(f\"/content/onedrive/models/model_{METHOD_XGBOOST}_resample.json\")\n",
        "          clf.save_model(f\"/content/onedrive/models/model_{METHOD_XGBOOST}_resample_finetune_2.json\")\n",
        "      else:\n",
        "          # clf.save_model(f\"/content/onedrive/models/model_{METHOD_XGBOOST}.json\")\n",
        "          clf.save_model(f\"/content/onedrive/models/model_{METHOD_XGBOOST}_finetune_2.json\")\n",
        "\n",
        "    return clf"
      ]
    },
    {
      "cell_type": "code",
      "execution_count": 19,
      "metadata": {
        "id": "5oyfD4Cd47sO"
      },
      "outputs": [],
      "source": [
        "def train_knn(X_train, y_train, is_resample, need_save_model):\n",
        "    print('~~~~START TRAIN KNN~~~~')\n",
        "    clf = KNeighborsClassifier()\n",
        "    clf.set_params(**best_param_knn)\n",
        "    start_time = time.time()\n",
        "    # Train the model on the training data\n",
        "    clf.fit(X_train, y_train)\n",
        "    end_time = time.time()\n",
        "    time_taken = end_time - start_time\n",
        "    print(\"Time taken to fit the model:\", time_taken, \"seconds\")\n",
        "    # save in JSON format\n",
        "    if (need_save_model):\n",
        "      if is_resample:\n",
        "          # joblib.dump(clf, f\"/content/onedrive/models/model_{METHOD_KNN}_resample.joblib\")\n",
        "          joblib.dump(clf, f\"/content/onedrive/models/model_{METHOD_KNN}_resample_finetune_2.joblib\")\n",
        "      else:\n",
        "          # joblib.dump(clf, f\"/content/onedrive/models/model_{METHOD_KNN}.joblib\")\n",
        "          joblib.dump(clf, f\"/content/onedrive/models/model_{METHOD_KNN}_finetune_2.joblib\")\n",
        "    return clf"
      ]
    },
    {
      "cell_type": "code",
      "execution_count": 20,
      "metadata": {
        "id": "DVe9VDB547sO"
      },
      "outputs": [],
      "source": [
        "def predict_methods(df, ml, method, is_resample):\n",
        "    print(f'predict {method}')\n",
        "    start_time = time.time()\n",
        "    ypreds = ml.predict(X_test_r) if is_resample else ml.predict(X_test)\n",
        "\n",
        "    df[f'ypreds_{method}'] = ypreds\n",
        "\n",
        "    y = y_test_r if is_resample else y_test\n",
        "    end_time = time.time()\n",
        "    time_taken = end_time - start_time\n",
        "    print(\"Time taken to predict the model:\", time_taken, \"seconds\")\n",
        "    print(\"Accuracy\",accuracy_score(y, ypreds))\n",
        "    print(classification_report(y, ypreds))\n",
        "    print(\"Confusion Matrix:\")\n",
        "    print(confusion_matrix(y, ypreds))"
      ]
    },
    {
      "cell_type": "code",
      "execution_count": 21,
      "metadata": {
        "id": "V4vtM2bB47sT"
      },
      "outputs": [],
      "source": [
        "def training_methods(df, methods, is_resample, need_save_model):\n",
        "    ml, md = None, None\n",
        "\n",
        "    X = X_train_r if is_resample else X_train\n",
        "    y = y_train_r if is_resample else y_train\n",
        "\n",
        "\n",
        "    for method in methods:\n",
        "        print(f'start train {method} method')\n",
        "        if method == METHOD_RANDOM_FOREST:\n",
        "            ml = train_rf(X, y, is_resample, need_save_model)\n",
        "        elif method == METHOD_XGBOOST:\n",
        "            ml = train_xgb(X, y, is_resample, need_save_model)\n",
        "        elif method == METHOD_KNN:\n",
        "            ml = train_knn(X, y, is_resample, need_save_model)\n",
        "        predict_methods(df, ml, method, is_resample)\n"
      ]
    },
    {
      "cell_type": "code",
      "execution_count": null,
      "metadata": {
        "colab": {
          "base_uri": "https://localhost:8080/"
        },
        "id": "zRUC1FD1fPZZ",
        "outputId": "7e5dd481-bcc9-4bb3-9ee8-4fddfeac01e3"
      },
      "outputs": [
        {
          "output_type": "stream",
          "name": "stdout",
          "text": [
            "start train rf method\n",
            "~~~~START TRAIN RANDOM FOREST~~~~\n",
            "Time taken to fit the model: 3.4467499256134033 seconds\n",
            "predict rf\n",
            "Time taken to predict the model: 0.1546928882598877 seconds\n",
            "Accuracy 0.9221437638844812\n",
            "              precision    recall  f1-score   support\n",
            "\n",
            "           0       0.92      0.99      0.96    418898\n",
            "           1       0.96      0.57      0.71     85262\n",
            "\n",
            "    accuracy                           0.92    504160\n",
            "   macro avg       0.94      0.78      0.83    504160\n",
            "weighted avg       0.92      0.92      0.91    504160\n",
            "\n",
            "Confusion Matrix:\n",
            "[[416723   2175]\n",
            " [ 37077  48185]]\n",
            "start train xgb method\n",
            "~~~~START TRAIN XGBOOST~~~~\n",
            "Time taken to fit the model: 19.177820682525635 seconds\n",
            "predict xgb\n",
            "Time taken to predict the model: 0.3628525733947754 seconds\n",
            "Accuracy 0.9641701047286576\n",
            "              precision    recall  f1-score   support\n",
            "\n",
            "           0       0.96      1.00      0.98    418898\n",
            "           1       0.98      0.80      0.88     85262\n",
            "\n",
            "    accuracy                           0.96    504160\n",
            "   macro avg       0.97      0.90      0.93    504160\n",
            "weighted avg       0.96      0.96      0.96    504160\n",
            "\n",
            "Confusion Matrix:\n",
            "[[417637   1261]\n",
            " [ 16803  68459]]\n",
            "start train knn method\n",
            "~~~~START TRAIN KNN~~~~\n",
            "Time taken to fit the model: 17.187965869903564 seconds\n",
            "predict knn\n",
            "Time taken to predict the model: 1585.1339030265808 seconds\n",
            "Accuracy 0.9893268010155506\n",
            "              precision    recall  f1-score   support\n",
            "\n",
            "           0       0.99      1.00      0.99    418898\n",
            "           1       0.99      0.95      0.97     85262\n",
            "\n",
            "    accuracy                           0.99    504160\n",
            "   macro avg       0.99      0.97      0.98    504160\n",
            "weighted avg       0.99      0.99      0.99    504160\n",
            "\n",
            "Confusion Matrix:\n",
            "[[417931    967]\n",
            " [  4414  80848]]\n"
          ]
        }
      ],
      "source": [
        "training_methods(data_test_2017_original, methods, False, True)"
      ]
    },
    {
      "cell_type": "code",
      "execution_count": null,
      "metadata": {
        "id": "MjJDI_JN47sT",
        "colab": {
          "base_uri": "https://localhost:8080/"
        },
        "outputId": "21b1d6a5-7da4-4668-d73b-a884adf4688e"
      },
      "outputs": [
        {
          "output_type": "stream",
          "name": "stdout",
          "text": [
            "start train rf method\n",
            "~~~~START TRAIN RANDOM FOREST~~~~\n",
            "Time taken to fit the model: 0.8931660652160645 seconds\n",
            "predict rf\n",
            "Time taken to predict the model: 0.038785696029663086 seconds\n",
            "Accuracy 0.8793636998890174\n",
            "              precision    recall  f1-score   support\n",
            "\n",
            "           0       0.82      0.96      0.89     85136\n",
            "           1       0.96      0.80      0.87     85161\n",
            "\n",
            "    accuracy                           0.88    170297\n",
            "   macro avg       0.89      0.88      0.88    170297\n",
            "weighted avg       0.89      0.88      0.88    170297\n",
            "\n",
            "Confusion Matrix:\n",
            "[[82031  3105]\n",
            " [17439 67722]]\n",
            "start train xgb method\n",
            "~~~~START TRAIN XGBOOST~~~~\n",
            "Time taken to fit the model: 2.230433225631714 seconds\n",
            "predict xgb\n",
            "Time taken to predict the model: 0.029921770095825195 seconds\n",
            "Accuracy 0.9525476080024897\n",
            "              precision    recall  f1-score   support\n",
            "\n",
            "           0       0.94      0.97      0.95     85136\n",
            "           1       0.97      0.94      0.95     85161\n",
            "\n",
            "    accuracy                           0.95    170297\n",
            "   macro avg       0.95      0.95      0.95    170297\n",
            "weighted avg       0.95      0.95      0.95    170297\n",
            "\n",
            "Confusion Matrix:\n",
            "[[82271  2865]\n",
            " [ 5216 79945]]\n",
            "start train knn method\n",
            "~~~~START TRAIN KNN~~~~\n",
            "Time taken to fit the model: 3.3281707763671875 seconds\n",
            "predict knn\n",
            "Time taken to predict the model: 141.3538146018982 seconds\n",
            "Accuracy 0.9772749960363365\n",
            "              precision    recall  f1-score   support\n",
            "\n",
            "           0       1.00      0.96      0.98     85136\n",
            "           1       0.96      1.00      0.98     85161\n",
            "\n",
            "    accuracy                           0.98    170297\n",
            "   macro avg       0.98      0.98      0.98    170297\n",
            "weighted avg       0.98      0.98      0.98    170297\n",
            "\n",
            "Confusion Matrix:\n",
            "[[81511  3625]\n",
            " [  245 84916]]\n"
          ]
        }
      ],
      "source": [
        "training_methods(data_test_2017_original_resample, methods, True, True)"
      ]
    },
    {
      "cell_type": "code",
      "source": [
        "data_test_2017_original.head()"
      ],
      "metadata": {
        "colab": {
          "base_uri": "https://localhost:8080/",
          "height": 322
        },
        "id": "7WY6Ym0e8_ur",
        "outputId": "0835ae4b-359e-43cd-8e8d-dd1ee53cbcc0"
      },
      "execution_count": null,
      "outputs": [
        {
          "output_type": "execute_result",
          "data": {
            "text/plain": [
              "         Packet Length Std  Bwd Packet Length Std  Packet Length Variance  \\\n",
              "1435999          12.500000               0.000000                 156.250   \n",
              "2435282           3.000000               0.000000                   9.000   \n",
              "854964           19.869575               0.000000                 394.800   \n",
              "2035034        1564.377904            1894.680443             2447278.225   \n",
              "1292198           2.190890               0.000000                   4.800   \n",
              "\n",
              "         Bwd Packet Length Mean  Average Packet Size  Bwd Packet Length Max  \\\n",
              "1435999                   0.000            16.333333                      0   \n",
              "2435282                   0.000             2.000000                      0   \n",
              "854964                    6.000            20.500000                      6   \n",
              "2035034                1449.375           921.769231                   4344   \n",
              "1292198                   6.000             4.500000                      6   \n",
              "\n",
              "         Avg Bwd Segment Size  Packet Length Mean  Max Packet Length  \\\n",
              "1435999                 0.000           12.250000                 31   \n",
              "2435282                 0.000            1.500000                  6   \n",
              "854964                  6.000           16.400000                 38   \n",
              "2035034              1449.375          855.928571               4344   \n",
              "1292198                 6.000            3.600000                  6   \n",
              "\n",
              "         Subflow Bwd Bytes  label_encoded  ypreds_rf  ypreds_xgb  ypreds_knn  \n",
              "1435999                  0              0          0           0           0  \n",
              "2435282                  0              0          0           0           0  \n",
              "854964                   6              0          0           0           0  \n",
              "2035034              11595              1          1           1           1  \n",
              "1292198                 12              0          0           0           0  "
            ],
            "text/html": [
              "\n",
              "\n",
              "  <div id=\"df-411f5126-814a-4e1d-a19d-230a092d08fe\">\n",
              "    <div class=\"colab-df-container\">\n",
              "      <div>\n",
              "<style scoped>\n",
              "    .dataframe tbody tr th:only-of-type {\n",
              "        vertical-align: middle;\n",
              "    }\n",
              "\n",
              "    .dataframe tbody tr th {\n",
              "        vertical-align: top;\n",
              "    }\n",
              "\n",
              "    .dataframe thead th {\n",
              "        text-align: right;\n",
              "    }\n",
              "</style>\n",
              "<table border=\"1\" class=\"dataframe\">\n",
              "  <thead>\n",
              "    <tr style=\"text-align: right;\">\n",
              "      <th></th>\n",
              "      <th>Packet Length Std</th>\n",
              "      <th>Bwd Packet Length Std</th>\n",
              "      <th>Packet Length Variance</th>\n",
              "      <th>Bwd Packet Length Mean</th>\n",
              "      <th>Average Packet Size</th>\n",
              "      <th>Bwd Packet Length Max</th>\n",
              "      <th>Avg Bwd Segment Size</th>\n",
              "      <th>Packet Length Mean</th>\n",
              "      <th>Max Packet Length</th>\n",
              "      <th>Subflow Bwd Bytes</th>\n",
              "      <th>label_encoded</th>\n",
              "      <th>ypreds_rf</th>\n",
              "      <th>ypreds_xgb</th>\n",
              "      <th>ypreds_knn</th>\n",
              "    </tr>\n",
              "  </thead>\n",
              "  <tbody>\n",
              "    <tr>\n",
              "      <th>1435999</th>\n",
              "      <td>12.500000</td>\n",
              "      <td>0.000000</td>\n",
              "      <td>156.250</td>\n",
              "      <td>0.000</td>\n",
              "      <td>16.333333</td>\n",
              "      <td>0</td>\n",
              "      <td>0.000</td>\n",
              "      <td>12.250000</td>\n",
              "      <td>31</td>\n",
              "      <td>0</td>\n",
              "      <td>0</td>\n",
              "      <td>0</td>\n",
              "      <td>0</td>\n",
              "      <td>0</td>\n",
              "    </tr>\n",
              "    <tr>\n",
              "      <th>2435282</th>\n",
              "      <td>3.000000</td>\n",
              "      <td>0.000000</td>\n",
              "      <td>9.000</td>\n",
              "      <td>0.000</td>\n",
              "      <td>2.000000</td>\n",
              "      <td>0</td>\n",
              "      <td>0.000</td>\n",
              "      <td>1.500000</td>\n",
              "      <td>6</td>\n",
              "      <td>0</td>\n",
              "      <td>0</td>\n",
              "      <td>0</td>\n",
              "      <td>0</td>\n",
              "      <td>0</td>\n",
              "    </tr>\n",
              "    <tr>\n",
              "      <th>854964</th>\n",
              "      <td>19.869575</td>\n",
              "      <td>0.000000</td>\n",
              "      <td>394.800</td>\n",
              "      <td>6.000</td>\n",
              "      <td>20.500000</td>\n",
              "      <td>6</td>\n",
              "      <td>6.000</td>\n",
              "      <td>16.400000</td>\n",
              "      <td>38</td>\n",
              "      <td>6</td>\n",
              "      <td>0</td>\n",
              "      <td>0</td>\n",
              "      <td>0</td>\n",
              "      <td>0</td>\n",
              "    </tr>\n",
              "    <tr>\n",
              "      <th>2035034</th>\n",
              "      <td>1564.377904</td>\n",
              "      <td>1894.680443</td>\n",
              "      <td>2447278.225</td>\n",
              "      <td>1449.375</td>\n",
              "      <td>921.769231</td>\n",
              "      <td>4344</td>\n",
              "      <td>1449.375</td>\n",
              "      <td>855.928571</td>\n",
              "      <td>4344</td>\n",
              "      <td>11595</td>\n",
              "      <td>1</td>\n",
              "      <td>1</td>\n",
              "      <td>1</td>\n",
              "      <td>1</td>\n",
              "    </tr>\n",
              "    <tr>\n",
              "      <th>1292198</th>\n",
              "      <td>2.190890</td>\n",
              "      <td>0.000000</td>\n",
              "      <td>4.800</td>\n",
              "      <td>6.000</td>\n",
              "      <td>4.500000</td>\n",
              "      <td>6</td>\n",
              "      <td>6.000</td>\n",
              "      <td>3.600000</td>\n",
              "      <td>6</td>\n",
              "      <td>12</td>\n",
              "      <td>0</td>\n",
              "      <td>0</td>\n",
              "      <td>0</td>\n",
              "      <td>0</td>\n",
              "    </tr>\n",
              "  </tbody>\n",
              "</table>\n",
              "</div>\n",
              "      <button class=\"colab-df-convert\" onclick=\"convertToInteractive('df-411f5126-814a-4e1d-a19d-230a092d08fe')\"\n",
              "              title=\"Convert this dataframe to an interactive table.\"\n",
              "              style=\"display:none;\">\n",
              "\n",
              "  <svg xmlns=\"http://www.w3.org/2000/svg\" height=\"24px\"viewBox=\"0 0 24 24\"\n",
              "       width=\"24px\">\n",
              "    <path d=\"M0 0h24v24H0V0z\" fill=\"none\"/>\n",
              "    <path d=\"M18.56 5.44l.94 2.06.94-2.06 2.06-.94-2.06-.94-.94-2.06-.94 2.06-2.06.94zm-11 1L8.5 8.5l.94-2.06 2.06-.94-2.06-.94L8.5 2.5l-.94 2.06-2.06.94zm10 10l.94 2.06.94-2.06 2.06-.94-2.06-.94-.94-2.06-.94 2.06-2.06.94z\"/><path d=\"M17.41 7.96l-1.37-1.37c-.4-.4-.92-.59-1.43-.59-.52 0-1.04.2-1.43.59L10.3 9.45l-7.72 7.72c-.78.78-.78 2.05 0 2.83L4 21.41c.39.39.9.59 1.41.59.51 0 1.02-.2 1.41-.59l7.78-7.78 2.81-2.81c.8-.78.8-2.07 0-2.86zM5.41 20L4 18.59l7.72-7.72 1.47 1.35L5.41 20z\"/>\n",
              "  </svg>\n",
              "      </button>\n",
              "\n",
              "\n",
              "\n",
              "    <div id=\"df-ffe27345-bb06-474b-8f6f-4d1d21645d0d\">\n",
              "      <button class=\"colab-df-quickchart\" onclick=\"quickchart('df-ffe27345-bb06-474b-8f6f-4d1d21645d0d')\"\n",
              "              title=\"Suggest charts.\"\n",
              "              style=\"display:none;\">\n",
              "\n",
              "<svg xmlns=\"http://www.w3.org/2000/svg\" height=\"24px\"viewBox=\"0 0 24 24\"\n",
              "     width=\"24px\">\n",
              "    <g>\n",
              "        <path d=\"M19 3H5c-1.1 0-2 .9-2 2v14c0 1.1.9 2 2 2h14c1.1 0 2-.9 2-2V5c0-1.1-.9-2-2-2zM9 17H7v-7h2v7zm4 0h-2V7h2v10zm4 0h-2v-4h2v4z\"/>\n",
              "    </g>\n",
              "</svg>\n",
              "      </button>\n",
              "    </div>\n",
              "\n",
              "<style>\n",
              "  .colab-df-quickchart {\n",
              "    background-color: #E8F0FE;\n",
              "    border: none;\n",
              "    border-radius: 50%;\n",
              "    cursor: pointer;\n",
              "    display: none;\n",
              "    fill: #1967D2;\n",
              "    height: 32px;\n",
              "    padding: 0 0 0 0;\n",
              "    width: 32px;\n",
              "  }\n",
              "\n",
              "  .colab-df-quickchart:hover {\n",
              "    background-color: #E2EBFA;\n",
              "    box-shadow: 0px 1px 2px rgba(60, 64, 67, 0.3), 0px 1px 3px 1px rgba(60, 64, 67, 0.15);\n",
              "    fill: #174EA6;\n",
              "  }\n",
              "\n",
              "  [theme=dark] .colab-df-quickchart {\n",
              "    background-color: #3B4455;\n",
              "    fill: #D2E3FC;\n",
              "  }\n",
              "\n",
              "  [theme=dark] .colab-df-quickchart:hover {\n",
              "    background-color: #434B5C;\n",
              "    box-shadow: 0px 1px 3px 1px rgba(0, 0, 0, 0.15);\n",
              "    filter: drop-shadow(0px 1px 2px rgba(0, 0, 0, 0.3));\n",
              "    fill: #FFFFFF;\n",
              "  }\n",
              "</style>\n",
              "\n",
              "    <script>\n",
              "      async function quickchart(key) {\n",
              "        const containerElement = document.querySelector('#' + key);\n",
              "        const charts = await google.colab.kernel.invokeFunction(\n",
              "            'suggestCharts', [key], {});\n",
              "      }\n",
              "    </script>\n",
              "\n",
              "      <script>\n",
              "\n",
              "function displayQuickchartButton(domScope) {\n",
              "  let quickchartButtonEl =\n",
              "    domScope.querySelector('#df-ffe27345-bb06-474b-8f6f-4d1d21645d0d button.colab-df-quickchart');\n",
              "  quickchartButtonEl.style.display =\n",
              "    google.colab.kernel.accessAllowed ? 'block' : 'none';\n",
              "}\n",
              "\n",
              "        displayQuickchartButton(document);\n",
              "      </script>\n",
              "      <style>\n",
              "    .colab-df-container {\n",
              "      display:flex;\n",
              "      flex-wrap:wrap;\n",
              "      gap: 12px;\n",
              "    }\n",
              "\n",
              "    .colab-df-convert {\n",
              "      background-color: #E8F0FE;\n",
              "      border: none;\n",
              "      border-radius: 50%;\n",
              "      cursor: pointer;\n",
              "      display: none;\n",
              "      fill: #1967D2;\n",
              "      height: 32px;\n",
              "      padding: 0 0 0 0;\n",
              "      width: 32px;\n",
              "    }\n",
              "\n",
              "    .colab-df-convert:hover {\n",
              "      background-color: #E2EBFA;\n",
              "      box-shadow: 0px 1px 2px rgba(60, 64, 67, 0.3), 0px 1px 3px 1px rgba(60, 64, 67, 0.15);\n",
              "      fill: #174EA6;\n",
              "    }\n",
              "\n",
              "    [theme=dark] .colab-df-convert {\n",
              "      background-color: #3B4455;\n",
              "      fill: #D2E3FC;\n",
              "    }\n",
              "\n",
              "    [theme=dark] .colab-df-convert:hover {\n",
              "      background-color: #434B5C;\n",
              "      box-shadow: 0px 1px 3px 1px rgba(0, 0, 0, 0.15);\n",
              "      filter: drop-shadow(0px 1px 2px rgba(0, 0, 0, 0.3));\n",
              "      fill: #FFFFFF;\n",
              "    }\n",
              "  </style>\n",
              "\n",
              "      <script>\n",
              "        const buttonEl =\n",
              "          document.querySelector('#df-411f5126-814a-4e1d-a19d-230a092d08fe button.colab-df-convert');\n",
              "        buttonEl.style.display =\n",
              "          google.colab.kernel.accessAllowed ? 'block' : 'none';\n",
              "\n",
              "        async function convertToInteractive(key) {\n",
              "          const element = document.querySelector('#df-411f5126-814a-4e1d-a19d-230a092d08fe');\n",
              "          const dataTable =\n",
              "            await google.colab.kernel.invokeFunction('convertToInteractive',\n",
              "                                                     [key], {});\n",
              "          if (!dataTable) return;\n",
              "\n",
              "          const docLinkHtml = 'Like what you see? Visit the ' +\n",
              "            '<a target=\"_blank\" href=https://colab.research.google.com/notebooks/data_table.ipynb>data table notebook</a>'\n",
              "            + ' to learn more about interactive tables.';\n",
              "          element.innerHTML = '';\n",
              "          dataTable['output_type'] = 'display_data';\n",
              "          await google.colab.output.renderOutput(dataTable, element);\n",
              "          const docLink = document.createElement('div');\n",
              "          docLink.innerHTML = docLinkHtml;\n",
              "          element.appendChild(docLink);\n",
              "        }\n",
              "      </script>\n",
              "    </div>\n",
              "  </div>\n"
            ]
          },
          "metadata": {},
          "execution_count": 81
        }
      ]
    },
    {
      "cell_type": "code",
      "source": [
        "data_test_2017_original_resample.head()"
      ],
      "metadata": {
        "colab": {
          "base_uri": "https://localhost:8080/",
          "height": 322
        },
        "id": "43A0jgC5AznH",
        "outputId": "53611c94-02d5-4544-c49b-a77c1cf8f716"
      },
      "execution_count": null,
      "outputs": [
        {
          "output_type": "execute_result",
          "data": {
            "text/plain": [
              "        Average Packet Size  Packet Length Variance  Bwd Packet Length Std  \\\n",
              "519642          1454.125000            7.025604e+06            3327.769794   \n",
              "528801           777.933333            1.958000e+06            1762.272815   \n",
              "288154            67.750000            6.912000e+02               0.000000   \n",
              "435861          1454.125000            1.120000e+07            4413.201989   \n",
              "728431           851.000000            2.630728e+06            2181.008184   \n",
              "\n",
              "        Packet Length Std  Bwd Packet Length Max  Packet Length Mean  \\\n",
              "519642        2650.585648                   7215         1292.555556   \n",
              "528801        1399.285566                   4380          729.312500   \n",
              "288154          26.290683                     83           54.200000   \n",
              "435861        3350.634907                  10135         1292.555556   \n",
              "728431        1621.951843                   5792          794.266667   \n",
              "\n",
              "        Bwd Packet Length Mean  Max Packet Length  Avg Bwd Segment Size  \\\n",
              "519642             2321.400000               7215           2321.400000   \n",
              "528801             1658.142857               4380           1658.142857   \n",
              "288154               83.000000                 83             83.000000   \n",
              "435861             2321.400000              10135           2321.400000   \n",
              "728431             1932.500000               5792           1932.500000   \n",
              "\n",
              "        Avg Fwd Segment Size  Init_Win_bytes_backward  label_encoded  \\\n",
              "519642              8.666667                      229              1   \n",
              "528801              7.000000                      229              1   \n",
              "288154             35.000000                       -1              0   \n",
              "435861              8.666667                      229              1   \n",
              "728431             39.875000                      235              1   \n",
              "\n",
              "        ypreds_rf  ypreds_xgb  ypreds_knn  \n",
              "519642          1           1           1  \n",
              "528801          1           1           1  \n",
              "288154          0           0           0  \n",
              "435861          1           1           1  \n",
              "728431          1           1           1  "
            ],
            "text/html": [
              "\n",
              "\n",
              "  <div id=\"df-c8bbaf9f-f33c-4cbe-9cb3-d03c4e3ac90c\">\n",
              "    <div class=\"colab-df-container\">\n",
              "      <div>\n",
              "<style scoped>\n",
              "    .dataframe tbody tr th:only-of-type {\n",
              "        vertical-align: middle;\n",
              "    }\n",
              "\n",
              "    .dataframe tbody tr th {\n",
              "        vertical-align: top;\n",
              "    }\n",
              "\n",
              "    .dataframe thead th {\n",
              "        text-align: right;\n",
              "    }\n",
              "</style>\n",
              "<table border=\"1\" class=\"dataframe\">\n",
              "  <thead>\n",
              "    <tr style=\"text-align: right;\">\n",
              "      <th></th>\n",
              "      <th>Average Packet Size</th>\n",
              "      <th>Packet Length Variance</th>\n",
              "      <th>Bwd Packet Length Std</th>\n",
              "      <th>Packet Length Std</th>\n",
              "      <th>Bwd Packet Length Max</th>\n",
              "      <th>Packet Length Mean</th>\n",
              "      <th>Bwd Packet Length Mean</th>\n",
              "      <th>Max Packet Length</th>\n",
              "      <th>Avg Bwd Segment Size</th>\n",
              "      <th>Avg Fwd Segment Size</th>\n",
              "      <th>Init_Win_bytes_backward</th>\n",
              "      <th>label_encoded</th>\n",
              "      <th>ypreds_rf</th>\n",
              "      <th>ypreds_xgb</th>\n",
              "      <th>ypreds_knn</th>\n",
              "    </tr>\n",
              "  </thead>\n",
              "  <tbody>\n",
              "    <tr>\n",
              "      <th>519642</th>\n",
              "      <td>1454.125000</td>\n",
              "      <td>7.025604e+06</td>\n",
              "      <td>3327.769794</td>\n",
              "      <td>2650.585648</td>\n",
              "      <td>7215</td>\n",
              "      <td>1292.555556</td>\n",
              "      <td>2321.400000</td>\n",
              "      <td>7215</td>\n",
              "      <td>2321.400000</td>\n",
              "      <td>8.666667</td>\n",
              "      <td>229</td>\n",
              "      <td>1</td>\n",
              "      <td>1</td>\n",
              "      <td>1</td>\n",
              "      <td>1</td>\n",
              "    </tr>\n",
              "    <tr>\n",
              "      <th>528801</th>\n",
              "      <td>777.933333</td>\n",
              "      <td>1.958000e+06</td>\n",
              "      <td>1762.272815</td>\n",
              "      <td>1399.285566</td>\n",
              "      <td>4380</td>\n",
              "      <td>729.312500</td>\n",
              "      <td>1658.142857</td>\n",
              "      <td>4380</td>\n",
              "      <td>1658.142857</td>\n",
              "      <td>7.000000</td>\n",
              "      <td>229</td>\n",
              "      <td>1</td>\n",
              "      <td>1</td>\n",
              "      <td>1</td>\n",
              "      <td>1</td>\n",
              "    </tr>\n",
              "    <tr>\n",
              "      <th>288154</th>\n",
              "      <td>67.750000</td>\n",
              "      <td>6.912000e+02</td>\n",
              "      <td>0.000000</td>\n",
              "      <td>26.290683</td>\n",
              "      <td>83</td>\n",
              "      <td>54.200000</td>\n",
              "      <td>83.000000</td>\n",
              "      <td>83</td>\n",
              "      <td>83.000000</td>\n",
              "      <td>35.000000</td>\n",
              "      <td>-1</td>\n",
              "      <td>0</td>\n",
              "      <td>0</td>\n",
              "      <td>0</td>\n",
              "      <td>0</td>\n",
              "    </tr>\n",
              "    <tr>\n",
              "      <th>435861</th>\n",
              "      <td>1454.125000</td>\n",
              "      <td>1.120000e+07</td>\n",
              "      <td>4413.201989</td>\n",
              "      <td>3350.634907</td>\n",
              "      <td>10135</td>\n",
              "      <td>1292.555556</td>\n",
              "      <td>2321.400000</td>\n",
              "      <td>10135</td>\n",
              "      <td>2321.400000</td>\n",
              "      <td>8.666667</td>\n",
              "      <td>229</td>\n",
              "      <td>1</td>\n",
              "      <td>1</td>\n",
              "      <td>1</td>\n",
              "      <td>1</td>\n",
              "    </tr>\n",
              "    <tr>\n",
              "      <th>728431</th>\n",
              "      <td>851.000000</td>\n",
              "      <td>2.630728e+06</td>\n",
              "      <td>2181.008184</td>\n",
              "      <td>1621.951843</td>\n",
              "      <td>5792</td>\n",
              "      <td>794.266667</td>\n",
              "      <td>1932.500000</td>\n",
              "      <td>5792</td>\n",
              "      <td>1932.500000</td>\n",
              "      <td>39.875000</td>\n",
              "      <td>235</td>\n",
              "      <td>1</td>\n",
              "      <td>1</td>\n",
              "      <td>1</td>\n",
              "      <td>1</td>\n",
              "    </tr>\n",
              "  </tbody>\n",
              "</table>\n",
              "</div>\n",
              "      <button class=\"colab-df-convert\" onclick=\"convertToInteractive('df-c8bbaf9f-f33c-4cbe-9cb3-d03c4e3ac90c')\"\n",
              "              title=\"Convert this dataframe to an interactive table.\"\n",
              "              style=\"display:none;\">\n",
              "\n",
              "  <svg xmlns=\"http://www.w3.org/2000/svg\" height=\"24px\"viewBox=\"0 0 24 24\"\n",
              "       width=\"24px\">\n",
              "    <path d=\"M0 0h24v24H0V0z\" fill=\"none\"/>\n",
              "    <path d=\"M18.56 5.44l.94 2.06.94-2.06 2.06-.94-2.06-.94-.94-2.06-.94 2.06-2.06.94zm-11 1L8.5 8.5l.94-2.06 2.06-.94-2.06-.94L8.5 2.5l-.94 2.06-2.06.94zm10 10l.94 2.06.94-2.06 2.06-.94-2.06-.94-.94-2.06-.94 2.06-2.06.94z\"/><path d=\"M17.41 7.96l-1.37-1.37c-.4-.4-.92-.59-1.43-.59-.52 0-1.04.2-1.43.59L10.3 9.45l-7.72 7.72c-.78.78-.78 2.05 0 2.83L4 21.41c.39.39.9.59 1.41.59.51 0 1.02-.2 1.41-.59l7.78-7.78 2.81-2.81c.8-.78.8-2.07 0-2.86zM5.41 20L4 18.59l7.72-7.72 1.47 1.35L5.41 20z\"/>\n",
              "  </svg>\n",
              "      </button>\n",
              "\n",
              "\n",
              "\n",
              "    <div id=\"df-35cff0b4-c715-4d97-af78-89d6fdffe310\">\n",
              "      <button class=\"colab-df-quickchart\" onclick=\"quickchart('df-35cff0b4-c715-4d97-af78-89d6fdffe310')\"\n",
              "              title=\"Suggest charts.\"\n",
              "              style=\"display:none;\">\n",
              "\n",
              "<svg xmlns=\"http://www.w3.org/2000/svg\" height=\"24px\"viewBox=\"0 0 24 24\"\n",
              "     width=\"24px\">\n",
              "    <g>\n",
              "        <path d=\"M19 3H5c-1.1 0-2 .9-2 2v14c0 1.1.9 2 2 2h14c1.1 0 2-.9 2-2V5c0-1.1-.9-2-2-2zM9 17H7v-7h2v7zm4 0h-2V7h2v10zm4 0h-2v-4h2v4z\"/>\n",
              "    </g>\n",
              "</svg>\n",
              "      </button>\n",
              "    </div>\n",
              "\n",
              "<style>\n",
              "  .colab-df-quickchart {\n",
              "    background-color: #E8F0FE;\n",
              "    border: none;\n",
              "    border-radius: 50%;\n",
              "    cursor: pointer;\n",
              "    display: none;\n",
              "    fill: #1967D2;\n",
              "    height: 32px;\n",
              "    padding: 0 0 0 0;\n",
              "    width: 32px;\n",
              "  }\n",
              "\n",
              "  .colab-df-quickchart:hover {\n",
              "    background-color: #E2EBFA;\n",
              "    box-shadow: 0px 1px 2px rgba(60, 64, 67, 0.3), 0px 1px 3px 1px rgba(60, 64, 67, 0.15);\n",
              "    fill: #174EA6;\n",
              "  }\n",
              "\n",
              "  [theme=dark] .colab-df-quickchart {\n",
              "    background-color: #3B4455;\n",
              "    fill: #D2E3FC;\n",
              "  }\n",
              "\n",
              "  [theme=dark] .colab-df-quickchart:hover {\n",
              "    background-color: #434B5C;\n",
              "    box-shadow: 0px 1px 3px 1px rgba(0, 0, 0, 0.15);\n",
              "    filter: drop-shadow(0px 1px 2px rgba(0, 0, 0, 0.3));\n",
              "    fill: #FFFFFF;\n",
              "  }\n",
              "</style>\n",
              "\n",
              "    <script>\n",
              "      async function quickchart(key) {\n",
              "        const containerElement = document.querySelector('#' + key);\n",
              "        const charts = await google.colab.kernel.invokeFunction(\n",
              "            'suggestCharts', [key], {});\n",
              "      }\n",
              "    </script>\n",
              "\n",
              "      <script>\n",
              "\n",
              "function displayQuickchartButton(domScope) {\n",
              "  let quickchartButtonEl =\n",
              "    domScope.querySelector('#df-35cff0b4-c715-4d97-af78-89d6fdffe310 button.colab-df-quickchart');\n",
              "  quickchartButtonEl.style.display =\n",
              "    google.colab.kernel.accessAllowed ? 'block' : 'none';\n",
              "}\n",
              "\n",
              "        displayQuickchartButton(document);\n",
              "      </script>\n",
              "      <style>\n",
              "    .colab-df-container {\n",
              "      display:flex;\n",
              "      flex-wrap:wrap;\n",
              "      gap: 12px;\n",
              "    }\n",
              "\n",
              "    .colab-df-convert {\n",
              "      background-color: #E8F0FE;\n",
              "      border: none;\n",
              "      border-radius: 50%;\n",
              "      cursor: pointer;\n",
              "      display: none;\n",
              "      fill: #1967D2;\n",
              "      height: 32px;\n",
              "      padding: 0 0 0 0;\n",
              "      width: 32px;\n",
              "    }\n",
              "\n",
              "    .colab-df-convert:hover {\n",
              "      background-color: #E2EBFA;\n",
              "      box-shadow: 0px 1px 2px rgba(60, 64, 67, 0.3), 0px 1px 3px 1px rgba(60, 64, 67, 0.15);\n",
              "      fill: #174EA6;\n",
              "    }\n",
              "\n",
              "    [theme=dark] .colab-df-convert {\n",
              "      background-color: #3B4455;\n",
              "      fill: #D2E3FC;\n",
              "    }\n",
              "\n",
              "    [theme=dark] .colab-df-convert:hover {\n",
              "      background-color: #434B5C;\n",
              "      box-shadow: 0px 1px 3px 1px rgba(0, 0, 0, 0.15);\n",
              "      filter: drop-shadow(0px 1px 2px rgba(0, 0, 0, 0.3));\n",
              "      fill: #FFFFFF;\n",
              "    }\n",
              "  </style>\n",
              "\n",
              "      <script>\n",
              "        const buttonEl =\n",
              "          document.querySelector('#df-c8bbaf9f-f33c-4cbe-9cb3-d03c4e3ac90c button.colab-df-convert');\n",
              "        buttonEl.style.display =\n",
              "          google.colab.kernel.accessAllowed ? 'block' : 'none';\n",
              "\n",
              "        async function convertToInteractive(key) {\n",
              "          const element = document.querySelector('#df-c8bbaf9f-f33c-4cbe-9cb3-d03c4e3ac90c');\n",
              "          const dataTable =\n",
              "            await google.colab.kernel.invokeFunction('convertToInteractive',\n",
              "                                                     [key], {});\n",
              "          if (!dataTable) return;\n",
              "\n",
              "          const docLinkHtml = 'Like what you see? Visit the ' +\n",
              "            '<a target=\"_blank\" href=https://colab.research.google.com/notebooks/data_table.ipynb>data table notebook</a>'\n",
              "            + ' to learn more about interactive tables.';\n",
              "          element.innerHTML = '';\n",
              "          dataTable['output_type'] = 'display_data';\n",
              "          await google.colab.output.renderOutput(dataTable, element);\n",
              "          const docLink = document.createElement('div');\n",
              "          docLink.innerHTML = docLinkHtml;\n",
              "          element.appendChild(docLink);\n",
              "        }\n",
              "      </script>\n",
              "    </div>\n",
              "  </div>\n"
            ]
          },
          "metadata": {},
          "execution_count": 82
        }
      ]
    },
    {
      "cell_type": "code",
      "execution_count": null,
      "metadata": {
        "id": "iQc1sOh047sT"
      },
      "outputs": [],
      "source": [
        "data_test_2017_original.to_parquet('/content/onedrive/test_result/data_test_2017_original.parquet', index=False, compression=None, engine='fastparquet')\n",
        "data_test_2017_original_resample.to_parquet('/content/onedrive/test_result/data_test_2017_original_resample.parquet', index=False, compression=None, engine='fastparquet')"
      ]
    },
    {
      "cell_type": "code",
      "source": [
        "pd.read_parquet('/content/onedrive/test_result/data_test_2017_original.parquet')"
      ],
      "metadata": {
        "colab": {
          "base_uri": "https://localhost:8080/",
          "height": 540
        },
        "id": "74QX5YJBXFjP",
        "outputId": "0454890b-88e7-4e12-9188-c839ba80520b"
      },
      "execution_count": null,
      "outputs": [
        {
          "output_type": "execute_result",
          "data": {
            "text/plain": [
              "        Packet Length Std  Bwd Packet Length Std  Packet Length Variance  \\\n",
              "0               12.500000               0.000000            1.562500e+02   \n",
              "1                3.000000               0.000000            9.000000e+00   \n",
              "2               19.869575               0.000000            3.948000e+02   \n",
              "3             1564.377904            1894.680443            2.447278e+06   \n",
              "4                2.190890               0.000000            4.800000e+00   \n",
              "...                   ...                    ...                     ...   \n",
              "504155           0.000000               0.000000            0.000000e+00   \n",
              "504156           0.000000               0.000000            0.000000e+00   \n",
              "504157         209.996180             279.926997            4.409840e+04   \n",
              "504158           0.000000               0.000000            0.000000e+00   \n",
              "504159           0.000000               0.000000            0.000000e+00   \n",
              "\n",
              "        Bwd Packet Length Mean  Average Packet Size  Bwd Packet Length Max  \\\n",
              "0                     0.000000            16.333333                      0   \n",
              "1                     0.000000             2.000000                      0   \n",
              "2                     6.000000            20.500000                      6   \n",
              "3                  1449.375000           921.769231                   4344   \n",
              "4                     6.000000             4.500000                      6   \n",
              "...                        ...                  ...                    ...   \n",
              "504155                0.000000            40.083333                      0   \n",
              "504156                0.000000             0.000000                      0   \n",
              "504157              106.533333            77.575758                    796   \n",
              "504158                0.000000             9.000000                      0   \n",
              "504159                0.000000             9.000000                      0   \n",
              "\n",
              "        Avg Bwd Segment Size  Packet Length Mean  Max Packet Length  \\\n",
              "0                   0.000000           12.250000                 31   \n",
              "1                   0.000000            1.500000                  6   \n",
              "2                   6.000000           16.400000                 38   \n",
              "3                1449.375000          855.928571               4344   \n",
              "4                   6.000000            3.600000                  6   \n",
              "...                      ...                 ...                ...   \n",
              "504155              0.000000           37.000000                 37   \n",
              "504156              0.000000            0.000000                  0   \n",
              "504157            106.533333           75.294118                796   \n",
              "504158              0.000000            6.000000                  6   \n",
              "504159              0.000000            6.000000                  6   \n",
              "\n",
              "        Subflow Bwd Bytes  label_encoded  ypreds_rf  ypreds_xgb  ypreds_knn  \n",
              "0                       0              0          0           0           0  \n",
              "1                       0              0          0           0           0  \n",
              "2                       6              0          0           0           0  \n",
              "3                   11595              1          1           1           1  \n",
              "4                      12              0          0           0           0  \n",
              "...                   ...            ...        ...         ...         ...  \n",
              "504155                  0              0          0           0           0  \n",
              "504156                  0              0          0           0           0  \n",
              "504157               1598              0          0           0           0  \n",
              "504158                  0              0          0           0           0  \n",
              "504159                  0              0          0           0           0  \n",
              "\n",
              "[504160 rows x 14 columns]"
            ],
            "text/html": [
              "\n",
              "\n",
              "  <div id=\"df-2427e152-55e2-4c61-a5e6-24de2a494173\">\n",
              "    <div class=\"colab-df-container\">\n",
              "      <div>\n",
              "<style scoped>\n",
              "    .dataframe tbody tr th:only-of-type {\n",
              "        vertical-align: middle;\n",
              "    }\n",
              "\n",
              "    .dataframe tbody tr th {\n",
              "        vertical-align: top;\n",
              "    }\n",
              "\n",
              "    .dataframe thead th {\n",
              "        text-align: right;\n",
              "    }\n",
              "</style>\n",
              "<table border=\"1\" class=\"dataframe\">\n",
              "  <thead>\n",
              "    <tr style=\"text-align: right;\">\n",
              "      <th></th>\n",
              "      <th>Packet Length Std</th>\n",
              "      <th>Bwd Packet Length Std</th>\n",
              "      <th>Packet Length Variance</th>\n",
              "      <th>Bwd Packet Length Mean</th>\n",
              "      <th>Average Packet Size</th>\n",
              "      <th>Bwd Packet Length Max</th>\n",
              "      <th>Avg Bwd Segment Size</th>\n",
              "      <th>Packet Length Mean</th>\n",
              "      <th>Max Packet Length</th>\n",
              "      <th>Subflow Bwd Bytes</th>\n",
              "      <th>label_encoded</th>\n",
              "      <th>ypreds_rf</th>\n",
              "      <th>ypreds_xgb</th>\n",
              "      <th>ypreds_knn</th>\n",
              "    </tr>\n",
              "  </thead>\n",
              "  <tbody>\n",
              "    <tr>\n",
              "      <th>0</th>\n",
              "      <td>12.500000</td>\n",
              "      <td>0.000000</td>\n",
              "      <td>1.562500e+02</td>\n",
              "      <td>0.000000</td>\n",
              "      <td>16.333333</td>\n",
              "      <td>0</td>\n",
              "      <td>0.000000</td>\n",
              "      <td>12.250000</td>\n",
              "      <td>31</td>\n",
              "      <td>0</td>\n",
              "      <td>0</td>\n",
              "      <td>0</td>\n",
              "      <td>0</td>\n",
              "      <td>0</td>\n",
              "    </tr>\n",
              "    <tr>\n",
              "      <th>1</th>\n",
              "      <td>3.000000</td>\n",
              "      <td>0.000000</td>\n",
              "      <td>9.000000e+00</td>\n",
              "      <td>0.000000</td>\n",
              "      <td>2.000000</td>\n",
              "      <td>0</td>\n",
              "      <td>0.000000</td>\n",
              "      <td>1.500000</td>\n",
              "      <td>6</td>\n",
              "      <td>0</td>\n",
              "      <td>0</td>\n",
              "      <td>0</td>\n",
              "      <td>0</td>\n",
              "      <td>0</td>\n",
              "    </tr>\n",
              "    <tr>\n",
              "      <th>2</th>\n",
              "      <td>19.869575</td>\n",
              "      <td>0.000000</td>\n",
              "      <td>3.948000e+02</td>\n",
              "      <td>6.000000</td>\n",
              "      <td>20.500000</td>\n",
              "      <td>6</td>\n",
              "      <td>6.000000</td>\n",
              "      <td>16.400000</td>\n",
              "      <td>38</td>\n",
              "      <td>6</td>\n",
              "      <td>0</td>\n",
              "      <td>0</td>\n",
              "      <td>0</td>\n",
              "      <td>0</td>\n",
              "    </tr>\n",
              "    <tr>\n",
              "      <th>3</th>\n",
              "      <td>1564.377904</td>\n",
              "      <td>1894.680443</td>\n",
              "      <td>2.447278e+06</td>\n",
              "      <td>1449.375000</td>\n",
              "      <td>921.769231</td>\n",
              "      <td>4344</td>\n",
              "      <td>1449.375000</td>\n",
              "      <td>855.928571</td>\n",
              "      <td>4344</td>\n",
              "      <td>11595</td>\n",
              "      <td>1</td>\n",
              "      <td>1</td>\n",
              "      <td>1</td>\n",
              "      <td>1</td>\n",
              "    </tr>\n",
              "    <tr>\n",
              "      <th>4</th>\n",
              "      <td>2.190890</td>\n",
              "      <td>0.000000</td>\n",
              "      <td>4.800000e+00</td>\n",
              "      <td>6.000000</td>\n",
              "      <td>4.500000</td>\n",
              "      <td>6</td>\n",
              "      <td>6.000000</td>\n",
              "      <td>3.600000</td>\n",
              "      <td>6</td>\n",
              "      <td>12</td>\n",
              "      <td>0</td>\n",
              "      <td>0</td>\n",
              "      <td>0</td>\n",
              "      <td>0</td>\n",
              "    </tr>\n",
              "    <tr>\n",
              "      <th>...</th>\n",
              "      <td>...</td>\n",
              "      <td>...</td>\n",
              "      <td>...</td>\n",
              "      <td>...</td>\n",
              "      <td>...</td>\n",
              "      <td>...</td>\n",
              "      <td>...</td>\n",
              "      <td>...</td>\n",
              "      <td>...</td>\n",
              "      <td>...</td>\n",
              "      <td>...</td>\n",
              "      <td>...</td>\n",
              "      <td>...</td>\n",
              "      <td>...</td>\n",
              "    </tr>\n",
              "    <tr>\n",
              "      <th>504155</th>\n",
              "      <td>0.000000</td>\n",
              "      <td>0.000000</td>\n",
              "      <td>0.000000e+00</td>\n",
              "      <td>0.000000</td>\n",
              "      <td>40.083333</td>\n",
              "      <td>0</td>\n",
              "      <td>0.000000</td>\n",
              "      <td>37.000000</td>\n",
              "      <td>37</td>\n",
              "      <td>0</td>\n",
              "      <td>0</td>\n",
              "      <td>0</td>\n",
              "      <td>0</td>\n",
              "      <td>0</td>\n",
              "    </tr>\n",
              "    <tr>\n",
              "      <th>504156</th>\n",
              "      <td>0.000000</td>\n",
              "      <td>0.000000</td>\n",
              "      <td>0.000000e+00</td>\n",
              "      <td>0.000000</td>\n",
              "      <td>0.000000</td>\n",
              "      <td>0</td>\n",
              "      <td>0.000000</td>\n",
              "      <td>0.000000</td>\n",
              "      <td>0</td>\n",
              "      <td>0</td>\n",
              "      <td>0</td>\n",
              "      <td>0</td>\n",
              "      <td>0</td>\n",
              "      <td>0</td>\n",
              "    </tr>\n",
              "    <tr>\n",
              "      <th>504157</th>\n",
              "      <td>209.996180</td>\n",
              "      <td>279.926997</td>\n",
              "      <td>4.409840e+04</td>\n",
              "      <td>106.533333</td>\n",
              "      <td>77.575758</td>\n",
              "      <td>796</td>\n",
              "      <td>106.533333</td>\n",
              "      <td>75.294118</td>\n",
              "      <td>796</td>\n",
              "      <td>1598</td>\n",
              "      <td>0</td>\n",
              "      <td>0</td>\n",
              "      <td>0</td>\n",
              "      <td>0</td>\n",
              "    </tr>\n",
              "    <tr>\n",
              "      <th>504158</th>\n",
              "      <td>0.000000</td>\n",
              "      <td>0.000000</td>\n",
              "      <td>0.000000e+00</td>\n",
              "      <td>0.000000</td>\n",
              "      <td>9.000000</td>\n",
              "      <td>0</td>\n",
              "      <td>0.000000</td>\n",
              "      <td>6.000000</td>\n",
              "      <td>6</td>\n",
              "      <td>0</td>\n",
              "      <td>0</td>\n",
              "      <td>0</td>\n",
              "      <td>0</td>\n",
              "      <td>0</td>\n",
              "    </tr>\n",
              "    <tr>\n",
              "      <th>504159</th>\n",
              "      <td>0.000000</td>\n",
              "      <td>0.000000</td>\n",
              "      <td>0.000000e+00</td>\n",
              "      <td>0.000000</td>\n",
              "      <td>9.000000</td>\n",
              "      <td>0</td>\n",
              "      <td>0.000000</td>\n",
              "      <td>6.000000</td>\n",
              "      <td>6</td>\n",
              "      <td>0</td>\n",
              "      <td>0</td>\n",
              "      <td>0</td>\n",
              "      <td>0</td>\n",
              "      <td>0</td>\n",
              "    </tr>\n",
              "  </tbody>\n",
              "</table>\n",
              "<p>504160 rows × 14 columns</p>\n",
              "</div>\n",
              "      <button class=\"colab-df-convert\" onclick=\"convertToInteractive('df-2427e152-55e2-4c61-a5e6-24de2a494173')\"\n",
              "              title=\"Convert this dataframe to an interactive table.\"\n",
              "              style=\"display:none;\">\n",
              "\n",
              "  <svg xmlns=\"http://www.w3.org/2000/svg\" height=\"24px\"viewBox=\"0 0 24 24\"\n",
              "       width=\"24px\">\n",
              "    <path d=\"M0 0h24v24H0V0z\" fill=\"none\"/>\n",
              "    <path d=\"M18.56 5.44l.94 2.06.94-2.06 2.06-.94-2.06-.94-.94-2.06-.94 2.06-2.06.94zm-11 1L8.5 8.5l.94-2.06 2.06-.94-2.06-.94L8.5 2.5l-.94 2.06-2.06.94zm10 10l.94 2.06.94-2.06 2.06-.94-2.06-.94-.94-2.06-.94 2.06-2.06.94z\"/><path d=\"M17.41 7.96l-1.37-1.37c-.4-.4-.92-.59-1.43-.59-.52 0-1.04.2-1.43.59L10.3 9.45l-7.72 7.72c-.78.78-.78 2.05 0 2.83L4 21.41c.39.39.9.59 1.41.59.51 0 1.02-.2 1.41-.59l7.78-7.78 2.81-2.81c.8-.78.8-2.07 0-2.86zM5.41 20L4 18.59l7.72-7.72 1.47 1.35L5.41 20z\"/>\n",
              "  </svg>\n",
              "      </button>\n",
              "\n",
              "\n",
              "\n",
              "    <div id=\"df-6dcf16f2-d8a8-4c92-9e44-c5fdec671cd5\">\n",
              "      <button class=\"colab-df-quickchart\" onclick=\"quickchart('df-6dcf16f2-d8a8-4c92-9e44-c5fdec671cd5')\"\n",
              "              title=\"Suggest charts.\"\n",
              "              style=\"display:none;\">\n",
              "\n",
              "<svg xmlns=\"http://www.w3.org/2000/svg\" height=\"24px\"viewBox=\"0 0 24 24\"\n",
              "     width=\"24px\">\n",
              "    <g>\n",
              "        <path d=\"M19 3H5c-1.1 0-2 .9-2 2v14c0 1.1.9 2 2 2h14c1.1 0 2-.9 2-2V5c0-1.1-.9-2-2-2zM9 17H7v-7h2v7zm4 0h-2V7h2v10zm4 0h-2v-4h2v4z\"/>\n",
              "    </g>\n",
              "</svg>\n",
              "      </button>\n",
              "    </div>\n",
              "\n",
              "<style>\n",
              "  .colab-df-quickchart {\n",
              "    background-color: #E8F0FE;\n",
              "    border: none;\n",
              "    border-radius: 50%;\n",
              "    cursor: pointer;\n",
              "    display: none;\n",
              "    fill: #1967D2;\n",
              "    height: 32px;\n",
              "    padding: 0 0 0 0;\n",
              "    width: 32px;\n",
              "  }\n",
              "\n",
              "  .colab-df-quickchart:hover {\n",
              "    background-color: #E2EBFA;\n",
              "    box-shadow: 0px 1px 2px rgba(60, 64, 67, 0.3), 0px 1px 3px 1px rgba(60, 64, 67, 0.15);\n",
              "    fill: #174EA6;\n",
              "  }\n",
              "\n",
              "  [theme=dark] .colab-df-quickchart {\n",
              "    background-color: #3B4455;\n",
              "    fill: #D2E3FC;\n",
              "  }\n",
              "\n",
              "  [theme=dark] .colab-df-quickchart:hover {\n",
              "    background-color: #434B5C;\n",
              "    box-shadow: 0px 1px 3px 1px rgba(0, 0, 0, 0.15);\n",
              "    filter: drop-shadow(0px 1px 2px rgba(0, 0, 0, 0.3));\n",
              "    fill: #FFFFFF;\n",
              "  }\n",
              "</style>\n",
              "\n",
              "    <script>\n",
              "      async function quickchart(key) {\n",
              "        const containerElement = document.querySelector('#' + key);\n",
              "        const charts = await google.colab.kernel.invokeFunction(\n",
              "            'suggestCharts', [key], {});\n",
              "      }\n",
              "    </script>\n",
              "\n",
              "      <script>\n",
              "\n",
              "function displayQuickchartButton(domScope) {\n",
              "  let quickchartButtonEl =\n",
              "    domScope.querySelector('#df-6dcf16f2-d8a8-4c92-9e44-c5fdec671cd5 button.colab-df-quickchart');\n",
              "  quickchartButtonEl.style.display =\n",
              "    google.colab.kernel.accessAllowed ? 'block' : 'none';\n",
              "}\n",
              "\n",
              "        displayQuickchartButton(document);\n",
              "      </script>\n",
              "      <style>\n",
              "    .colab-df-container {\n",
              "      display:flex;\n",
              "      flex-wrap:wrap;\n",
              "      gap: 12px;\n",
              "    }\n",
              "\n",
              "    .colab-df-convert {\n",
              "      background-color: #E8F0FE;\n",
              "      border: none;\n",
              "      border-radius: 50%;\n",
              "      cursor: pointer;\n",
              "      display: none;\n",
              "      fill: #1967D2;\n",
              "      height: 32px;\n",
              "      padding: 0 0 0 0;\n",
              "      width: 32px;\n",
              "    }\n",
              "\n",
              "    .colab-df-convert:hover {\n",
              "      background-color: #E2EBFA;\n",
              "      box-shadow: 0px 1px 2px rgba(60, 64, 67, 0.3), 0px 1px 3px 1px rgba(60, 64, 67, 0.15);\n",
              "      fill: #174EA6;\n",
              "    }\n",
              "\n",
              "    [theme=dark] .colab-df-convert {\n",
              "      background-color: #3B4455;\n",
              "      fill: #D2E3FC;\n",
              "    }\n",
              "\n",
              "    [theme=dark] .colab-df-convert:hover {\n",
              "      background-color: #434B5C;\n",
              "      box-shadow: 0px 1px 3px 1px rgba(0, 0, 0, 0.15);\n",
              "      filter: drop-shadow(0px 1px 2px rgba(0, 0, 0, 0.3));\n",
              "      fill: #FFFFFF;\n",
              "    }\n",
              "  </style>\n",
              "\n",
              "      <script>\n",
              "        const buttonEl =\n",
              "          document.querySelector('#df-2427e152-55e2-4c61-a5e6-24de2a494173 button.colab-df-convert');\n",
              "        buttonEl.style.display =\n",
              "          google.colab.kernel.accessAllowed ? 'block' : 'none';\n",
              "\n",
              "        async function convertToInteractive(key) {\n",
              "          const element = document.querySelector('#df-2427e152-55e2-4c61-a5e6-24de2a494173');\n",
              "          const dataTable =\n",
              "            await google.colab.kernel.invokeFunction('convertToInteractive',\n",
              "                                                     [key], {});\n",
              "          if (!dataTable) return;\n",
              "\n",
              "          const docLinkHtml = 'Like what you see? Visit the ' +\n",
              "            '<a target=\"_blank\" href=https://colab.research.google.com/notebooks/data_table.ipynb>data table notebook</a>'\n",
              "            + ' to learn more about interactive tables.';\n",
              "          element.innerHTML = '';\n",
              "          dataTable['output_type'] = 'display_data';\n",
              "          await google.colab.output.renderOutput(dataTable, element);\n",
              "          const docLink = document.createElement('div');\n",
              "          docLink.innerHTML = docLinkHtml;\n",
              "          element.appendChild(docLink);\n",
              "        }\n",
              "      </script>\n",
              "    </div>\n",
              "  </div>\n"
            ]
          },
          "metadata": {},
          "execution_count": 84
        }
      ]
    },
    {
      "cell_type": "markdown",
      "metadata": {
        "id": "P6Ed_YEQ47sU"
      },
      "source": [
        "### Train for 2017 corrected dataset"
      ]
    },
    {
      "cell_type": "code",
      "execution_count": null,
      "metadata": {
        "colab": {
          "base_uri": "https://localhost:8080/"
        },
        "id": "pFeIKtsI47sU",
        "outputId": "a16805b1-abc6-4683-a432-bab2577e7698"
      },
      "outputs": [
        {
          "output_type": "stream",
          "name": "stdout",
          "text": [
            "Number of rows of train data: 1679976\n",
            "Number of columns of train data: 10\n",
            "Number of rows of test data: 419995\n",
            "Number of columns of test data: 10\n",
            "------------------------------------------\n",
            "train - benign: 1275371; attack: 404605\n",
            "test - benign: 319169; attack: 100826\n"
          ]
        }
      ],
      "source": [
        "X_train, X_test, y_train, y_test = split_data(data2017_corrected)\n",
        "\n",
        "data_test_2017_corrected = pd.concat([X_test, y_test], axis=1)\n",
        "X_train, X_test = normalise_data(X_train, X_test)"
      ]
    },
    {
      "cell_type": "code",
      "execution_count": null,
      "metadata": {
        "colab": {
          "base_uri": "https://localhost:8080/"
        },
        "id": "cy2iM7lG47sU",
        "outputId": "c57d84a1-2239-42c7-823a-9104a9d43c48"
      },
      "outputs": [
        {
          "output_type": "stream",
          "name": "stdout",
          "text": [
            "Number of rows of train data: 808689\n",
            "Number of columns of train data: 11\n",
            "Number of rows of test data: 202173\n",
            "Number of columns of test data: 11\n",
            "------------------------------------------\n",
            "train - benign: 404134; attack: 404555\n",
            "test - benign: 101297; attack: 100876\n"
          ]
        }
      ],
      "source": [
        "X_train_r, X_test_r, y_train_r, y_test_r = split_data(data2017_corrected_resampling)\n",
        "\n",
        "data_test_2017_corrected_resample = pd.concat([X_test_r, y_test_r], axis=1)\n",
        "X_train_r, X_test_r = normalise_data(X_train_r, X_test_r)"
      ]
    },
    {
      "cell_type": "code",
      "execution_count": null,
      "metadata": {
        "colab": {
          "base_uri": "https://localhost:8080/"
        },
        "id": "sAVzJ24U47sU",
        "outputId": "b0b560a6-709c-4d3d-a9b4-220ca81175ad"
      },
      "outputs": [
        {
          "output_type": "stream",
          "name": "stdout",
          "text": [
            "start train rf method\n",
            "~~~~START TRAIN RANDOM FOREST~~~~\n",
            "Time taken to fit the model: 3.2543704509735107 seconds\n",
            "predict rf\n",
            "Time taken to predict the model: 0.0861811637878418 seconds\n",
            "Accuracy 0.9522803842902892\n",
            "              precision    recall  f1-score   support\n",
            "\n",
            "           0       0.99      0.95      0.97    319169\n",
            "           1       0.85      0.97      0.91    100826\n",
            "\n",
            "    accuracy                           0.95    419995\n",
            "   macro avg       0.92      0.96      0.94    419995\n",
            "weighted avg       0.96      0.95      0.95    419995\n",
            "\n",
            "Confusion Matrix:\n",
            "[[301783  17386]\n",
            " [  2656  98170]]\n",
            "start train xgb method\n",
            "~~~~START TRAIN XGBOOST~~~~\n",
            "Time taken to fit the model: 7.057721376419067 seconds\n",
            "predict xgb\n",
            "Time taken to predict the model: 0.1411726474761963 seconds\n",
            "Accuracy 0.9597971404421481\n",
            "              precision    recall  f1-score   support\n",
            "\n",
            "           0       0.99      0.95      0.97    319169\n",
            "           1       0.87      0.98      0.92    100826\n",
            "\n",
            "    accuracy                           0.96    419995\n",
            "   macro avg       0.93      0.97      0.95    419995\n",
            "weighted avg       0.96      0.96      0.96    419995\n",
            "\n",
            "Confusion Matrix:\n",
            "[[304573  14596]\n",
            " [  2289  98537]]\n",
            "start train knn method\n",
            "~~~~START TRAIN KNN~~~~\n",
            "Time taken to fit the model: 7.795767068862915 seconds\n",
            "predict knn\n",
            "Time taken to predict the model: 1317.1644957065582 seconds\n",
            "Accuracy 0.8903225038393314\n",
            "              precision    recall  f1-score   support\n",
            "\n",
            "           0       0.87      1.00      0.93    319169\n",
            "           1       1.00      0.54      0.70    100826\n",
            "\n",
            "    accuracy                           0.89    419995\n",
            "   macro avg       0.94      0.77      0.82    419995\n",
            "weighted avg       0.90      0.89      0.88    419995\n",
            "\n",
            "Confusion Matrix:\n",
            "[[319084     85]\n",
            " [ 45979  54847]]\n"
          ]
        }
      ],
      "source": [
        "training_methods(data_test_2017_corrected, methods, False, False)"
      ]
    },
    {
      "cell_type": "code",
      "execution_count": null,
      "metadata": {
        "colab": {
          "base_uri": "https://localhost:8080/"
        },
        "id": "6-YP2jCk47sU",
        "outputId": "3b2930f9-973b-4dab-db19-95f7b71145df"
      },
      "outputs": [
        {
          "output_type": "stream",
          "name": "stdout",
          "text": [
            "start train rf method\n",
            "~~~~START TRAIN RANDOM FOREST~~~~\n",
            "Time taken to fit the model: 0.99556565284729 seconds\n",
            "predict rf\n",
            "Time taken to predict the model: 0.0453031063079834 seconds\n",
            "Accuracy 0.9580606708116316\n",
            "              precision    recall  f1-score   support\n",
            "\n",
            "           0       0.98      0.93      0.96    101297\n",
            "           1       0.93      0.99      0.96    100876\n",
            "\n",
            "    accuracy                           0.96    202173\n",
            "   macro avg       0.96      0.96      0.96    202173\n",
            "weighted avg       0.96      0.96      0.96    202173\n",
            "\n",
            "Confusion Matrix:\n",
            "[[94302  6995]\n",
            " [ 1484 99392]]\n",
            "start train xgb method\n",
            "~~~~START TRAIN XGBOOST~~~~\n",
            "Time taken to fit the model: 2.323343515396118 seconds\n",
            "predict xgb\n",
            "Time taken to predict the model: 0.03288698196411133 seconds\n",
            "Accuracy 0.9860812274636079\n",
            "              precision    recall  f1-score   support\n",
            "\n",
            "           0       0.99      0.99      0.99    101297\n",
            "           1       0.99      0.99      0.99    100876\n",
            "\n",
            "    accuracy                           0.99    202173\n",
            "   macro avg       0.99      0.99      0.99    202173\n",
            "weighted avg       0.99      0.99      0.99    202173\n",
            "\n",
            "Confusion Matrix:\n",
            "[[99939  1358]\n",
            " [ 1456 99420]]\n",
            "start train knn method\n",
            "~~~~START TRAIN KNN~~~~\n",
            "Time taken to fit the model: 4.839588403701782 seconds\n",
            "predict knn\n",
            "Time taken to predict the model: 705.2424936294556 seconds\n",
            "Accuracy 0.9925756653954781\n",
            "              precision    recall  f1-score   support\n",
            "\n",
            "           0       1.00      0.99      0.99    101297\n",
            "           1       0.99      1.00      0.99    100876\n",
            "\n",
            "    accuracy                           0.99    202173\n",
            "   macro avg       0.99      0.99      0.99    202173\n",
            "weighted avg       0.99      0.99      0.99    202173\n",
            "\n",
            "Confusion Matrix:\n",
            "[[ 99863   1434]\n",
            " [    67 100809]]\n"
          ]
        }
      ],
      "source": [
        "training_methods(data_test_2017_corrected_resample, methods, True, False)"
      ]
    },
    {
      "cell_type": "code",
      "execution_count": null,
      "metadata": {
        "id": "SBRLFo1H47sU"
      },
      "outputs": [],
      "source": [
        "data_test_2017_corrected.to_parquet('/content/onedrive/test_result/data_test_2017_corrected.parquet', index = False, compression=None, engine='fastparquet')\n",
        "data_test_2017_corrected_resample.to_parquet('/content/onedrive/test_result/data_test_2017_corrected_resample.parquet', index = False, compression=None, engine='fastparquet')"
      ]
    },
    {
      "cell_type": "markdown",
      "metadata": {
        "id": "vuluQ2DR47sU"
      },
      "source": [
        "### Train for 2018 original dataset"
      ]
    },
    {
      "cell_type": "code",
      "execution_count": null,
      "metadata": {
        "colab": {
          "base_uri": "https://localhost:8080/"
        },
        "id": "HHLwDCDn47sX",
        "outputId": "8de6bffd-8bd5-4787-95f6-95add984a082"
      },
      "outputs": [
        {
          "output_type": "stream",
          "name": "stdout",
          "text": [
            "Number of rows of train data: 8655235\n",
            "Number of columns of train data: 10\n",
            "Number of rows of test data: 2163809\n",
            "Number of columns of test data: 10\n",
            "------------------------------------------\n",
            "train - benign: 7594777; attack: 1060458\n",
            "test - benign: 1898422; attack: 265387\n"
          ]
        }
      ],
      "source": [
        "X_train, X_test, y_train, y_test = split_data(data2018_original)\n",
        "\n",
        "data_test_2018_original = pd.concat([X_test, y_test], axis=1)\n",
        "X_train, X_test = normalise_data(X_train, X_test)"
      ]
    },
    {
      "cell_type": "code",
      "execution_count": null,
      "metadata": {
        "colab": {
          "base_uri": "https://localhost:8080/"
        },
        "id": "83Ovy9Fcw26K",
        "outputId": "c2acb7ea-9446-4c2d-d6ab-54bf8d12881f"
      },
      "outputs": [
        {
          "output_type": "execute_result",
          "data": {
            "text/plain": [
              "20"
            ]
          },
          "metadata": {},
          "execution_count": 15
        }
      ],
      "source": [
        "del data2018_original\n",
        "import gc\n",
        "gc.collect()"
      ]
    },
    {
      "cell_type": "code",
      "execution_count": null,
      "metadata": {
        "colab": {
          "base_uri": "https://localhost:8080/"
        },
        "id": "LPeA3_MV47sX",
        "outputId": "02fd48a3-615f-416c-9851-80aad410359e"
      },
      "outputs": [
        {
          "output_type": "stream",
          "name": "stdout",
          "text": [
            "Number of rows of train data: 2121352\n",
            "Number of columns of train data: 76\n",
            "Number of rows of test data: 530338\n",
            "Number of columns of test data: 76\n",
            "------------------------------------------\n",
            "train - benign: 1060746; attack: 1060606\n",
            "test - benign: 265099; attack: 265239\n"
          ]
        }
      ],
      "source": [
        "X_train_r, X_test_r, y_train_r, y_test_r = split_data(data2018_original_resampling)\n",
        "\n",
        "data_test_2018_original_resample = pd.concat([X_test_r, y_test_r], axis=1)\n",
        "X_train_r, X_test_r = normalise_data(X_train_r, X_test_r)"
      ]
    },
    {
      "cell_type": "code",
      "source": [
        "del data2018_original_resampling\n",
        "import gc\n",
        "gc.collect()"
      ],
      "metadata": {
        "colab": {
          "base_uri": "https://localhost:8080/"
        },
        "id": "XylGW5j6Kutv",
        "outputId": "ba27fc50-1222-4416-e63c-ef11742a96a3"
      },
      "execution_count": null,
      "outputs": [
        {
          "output_type": "execute_result",
          "data": {
            "text/plain": [
              "0"
            ]
          },
          "metadata": {},
          "execution_count": 19
        }
      ]
    },
    {
      "cell_type": "code",
      "execution_count": null,
      "metadata": {
        "colab": {
          "base_uri": "https://localhost:8080/"
        },
        "id": "a_dCoe5y47sY",
        "outputId": "6562d58a-ccec-4bc3-a69b-29ec5ffe5703"
      },
      "outputs": [
        {
          "output_type": "stream",
          "name": "stdout",
          "text": [
            "start train rf method\n",
            "~~~~START TRAIN RANDOM FOREST~~~~\n",
            "Time taken to fit the model: 19.5816068649292 seconds\n",
            "predict rf\n",
            "Time taken to predict the model: 0.6868796348571777 seconds\n",
            "Accuracy 0.9214131191801125\n",
            "              precision    recall  f1-score   support\n",
            "\n",
            "           0       0.92      1.00      0.96   1898422\n",
            "           1       0.99      0.36      0.53    265387\n",
            "\n",
            "    accuracy                           0.92   2163809\n",
            "   macro avg       0.95      0.68      0.74   2163809\n",
            "weighted avg       0.93      0.92      0.90   2163809\n",
            "\n",
            "Confusion Matrix:\n",
            "[[1897108    1314]\n",
            " [ 168733   96654]]\n",
            "start train xgb method\n",
            "~~~~START TRAIN XGBOOST~~~~\n",
            "Time taken to fit the model: 28.865503787994385 seconds\n",
            "predict xgb\n",
            "Time taken to predict the model: 0.32005834579467773 seconds\n",
            "Accuracy 0.9450963555470931\n",
            "              precision    recall  f1-score   support\n",
            "\n",
            "           0       0.94      1.00      0.97   1898422\n",
            "           1       1.00      0.55      0.71    265387\n",
            "\n",
            "    accuracy                           0.95   2163809\n",
            "   macro avg       0.97      0.78      0.84   2163809\n",
            "weighted avg       0.95      0.95      0.94   2163809\n",
            "\n",
            "Confusion Matrix:\n",
            "[[1898244     178]\n",
            " [ 118623  146764]]\n",
            "start train knn method\n",
            "~~~~START TRAIN KNN~~~~\n",
            "Time taken to fit the model: 68.40610718727112 seconds\n",
            "predict knn\n",
            "Time taken to predict the model: 61652.48297548294 seconds\n",
            "Accuracy 0.9464481384447518\n",
            "              precision    recall  f1-score   support\n",
            "\n",
            "           0       0.94      1.00      0.97   1898422\n",
            "           1       0.98      0.57      0.72    265387\n",
            "\n",
            "    accuracy                           0.95   2163809\n",
            "   macro avg       0.96      0.79      0.85   2163809\n",
            "weighted avg       0.95      0.95      0.94   2163809\n",
            "\n",
            "Confusion Matrix:\n",
            "[[1895521    2901]\n",
            " [ 112975  152412]]\n"
          ]
        }
      ],
      "source": [
        "training_methods(data_test_2018_original, methods, False, False)"
      ]
    },
    {
      "cell_type": "code",
      "execution_count": null,
      "metadata": {
        "colab": {
          "base_uri": "https://localhost:8080/"
        },
        "id": "uAgk9-yW47sY",
        "outputId": "60045f02-7f09-45c8-ad6c-7b7ffa248a65"
      },
      "outputs": [
        {
          "output_type": "stream",
          "name": "stdout",
          "text": [
            "start train rf method\n",
            "~~~~START TRAIN RANDOM FOREST~~~~\n",
            "Time taken to fit the model: 9.952571868896484 seconds\n",
            "predict rf\n",
            "Time taken to predict the model: 0.2428600788116455 seconds\n",
            "Accuracy 0.8414671398240368\n",
            "              precision    recall  f1-score   support\n",
            "\n",
            "           0       0.83      0.86      0.84    265099\n",
            "           1       0.86      0.82      0.84    265239\n",
            "\n",
            "    accuracy                           0.84    530338\n",
            "   macro avg       0.84      0.84      0.84    530338\n",
            "weighted avg       0.84      0.84      0.84    530338\n",
            "\n",
            "Confusion Matrix:\n",
            "[[228931  36168]\n",
            " [ 47908 217331]]\n",
            "start train xgb method\n",
            "~~~~START TRAIN XGBOOST~~~~\n",
            "Time taken to fit the model: 55.24783277511597 seconds\n",
            "predict xgb\n",
            "Time taken to predict the model: 0.6386368274688721 seconds\n",
            "Accuracy 0.9440960293246948\n",
            "              precision    recall  f1-score   support\n",
            "\n",
            "           0       0.92      0.98      0.95    265099\n",
            "           1       0.98      0.91      0.94    265239\n",
            "\n",
            "    accuracy                           0.94    530338\n",
            "   macro avg       0.95      0.94      0.94    530338\n",
            "weighted avg       0.95      0.94      0.94    530338\n",
            "\n",
            "Confusion Matrix:\n",
            "[[258920   6179]\n",
            " [ 23469 241770]]\n",
            "start train knn method\n",
            "~~~~START TRAIN KNN~~~~\n",
            "Time taken to fit the model: 1.4277496337890625 seconds\n",
            "predict knn\n",
            "Time taken to predict the model: 10985.610000371933 seconds\n",
            "Accuracy 0.9562957962657777\n",
            "              precision    recall  f1-score   support\n",
            "\n",
            "           0       0.94      0.98      0.96    265099\n",
            "           1       0.98      0.93      0.96    265239\n",
            "\n",
            "    accuracy                           0.96    530338\n",
            "   macro avg       0.96      0.96      0.96    530338\n",
            "weighted avg       0.96      0.96      0.96    530338\n",
            "\n",
            "Confusion Matrix:\n",
            "[[259388   5711]\n",
            " [ 17467 247772]]\n"
          ]
        }
      ],
      "source": [
        "training_methods(data_test_2018_original_resample, methods, True, False)"
      ]
    },
    {
      "cell_type": "code",
      "execution_count": null,
      "metadata": {
        "id": "wTkQxFm847sY"
      },
      "outputs": [],
      "source": [
        "# data_test_2018_original.to_parquet('/content/onedrive/test_result/data_test_2018_original.parquet', index = False, compression=None, engine='fastparquet')\n",
        "data_test_2018_original_resample.to_parquet('/content/onedrive/test_result/data_test_2018_original_resample.parquet', index = False, compression=None, engine='fastparquet')"
      ]
    },
    {
      "cell_type": "markdown",
      "metadata": {
        "id": "mrWnnhQ347sY"
      },
      "source": [
        "### Train for 2018 corrected dataset"
      ]
    },
    {
      "cell_type": "code",
      "source": [
        "X_train, X_test, y_train, y_test = split_data(data2018_corrected)\n",
        "\n",
        "data_test_2018_corrected = pd.concat([X_test, y_test], axis=1)\n",
        "X_train, X_test = normalise_data(X_train, X_test)"
      ],
      "metadata": {
        "colab": {
          "base_uri": "https://localhost:8080/"
        },
        "id": "tK0kwCbprrvw",
        "outputId": "e5fdbaa8-24e5-4eaa-f987-b343560b7dfd"
      },
      "execution_count": null,
      "outputs": [
        {
          "output_type": "stream",
          "name": "stdout",
          "text": [
            "Number of rows of train data: 7821600\n",
            "Number of columns of train data: 10\n",
            "Number of rows of test data: 1955400\n",
            "Number of columns of test data: 10\n",
            "------------------------------------------\n",
            "train - benign: 4748687; attack: 3072913\n",
            "test - benign: 1186654; attack: 768746\n"
          ]
        }
      ]
    },
    {
      "cell_type": "code",
      "source": [
        "del data2018_corrected\n",
        "import gc\n",
        "gc.collect()"
      ],
      "metadata": {
        "colab": {
          "base_uri": "https://localhost:8080/"
        },
        "id": "JEFDcCAu_FnC",
        "outputId": "7a532db3-0825-4efe-c5e1-d33b53f31815"
      },
      "execution_count": null,
      "outputs": [
        {
          "output_type": "execute_result",
          "data": {
            "text/plain": [
              "0"
            ]
          },
          "metadata": {},
          "execution_count": 23
        }
      ]
    },
    {
      "cell_type": "code",
      "execution_count": null,
      "metadata": {
        "id": "M3HvvwMS47sZ",
        "colab": {
          "base_uri": "https://localhost:8080/"
        },
        "outputId": "f5c4813e-791b-4f28-9fe1-6835e87f364e"
      },
      "outputs": [
        {
          "output_type": "stream",
          "name": "stdout",
          "text": [
            "Number of rows of train data: 6146650\n",
            "Number of columns of train data: 11\n",
            "Number of rows of test data: 1536663\n",
            "Number of columns of test data: 11\n",
            "------------------------------------------\n",
            "train - benign: 3072997; attack: 3073653\n",
            "test - benign: 768657; attack: 768006\n"
          ]
        }
      ],
      "source": [
        "X_train_r, X_test_r, y_train_r, y_test_r = split_data(data2018_corrected_resampling)\n",
        "\n",
        "data_test_2018_corrected_resample = pd.concat([X_test_r, y_test_r], axis=1)\n",
        "X_train_r, X_test_r = normalise_data(X_train_r, X_test_r)"
      ]
    },
    {
      "cell_type": "code",
      "source": [
        "del data2018_corrected_resampling\n",
        "import gc\n",
        "gc.collect()"
      ],
      "metadata": {
        "colab": {
          "base_uri": "https://localhost:8080/"
        },
        "id": "0dqlFKaj_O4O",
        "outputId": "1fe2bb1e-24f7-4641-f218-299f726ff46d"
      },
      "execution_count": null,
      "outputs": [
        {
          "output_type": "execute_result",
          "data": {
            "text/plain": [
              "0"
            ]
          },
          "metadata": {},
          "execution_count": 27
        }
      ]
    },
    {
      "cell_type": "code",
      "source": [
        "training_methods(data_test_2018_corrected, methods, False, False)\n"
      ],
      "metadata": {
        "colab": {
          "base_uri": "https://localhost:8080/"
        },
        "id": "Uht_IgVP_SGE",
        "outputId": "6df89f69-ac9f-409d-9f10-bdac55619c2a"
      },
      "execution_count": null,
      "outputs": [
        {
          "output_type": "stream",
          "name": "stdout",
          "text": [
            "start train rf method\n",
            "~~~~START TRAIN RANDOM FOREST~~~~\n",
            "Time taken to fit the model: 14.641716718673706 seconds\n",
            "predict rf\n",
            "Time taken to predict the model: 0.4487435817718506 seconds\n",
            "Accuracy 0.9323335378950598\n",
            "              precision    recall  f1-score   support\n",
            "\n",
            "           0       0.90      1.00      0.95   1186654\n",
            "           1       1.00      0.83      0.91    768746\n",
            "\n",
            "    accuracy                           0.93   1955400\n",
            "   macro avg       0.95      0.91      0.93   1955400\n",
            "weighted avg       0.94      0.93      0.93   1955400\n",
            "\n",
            "Confusion Matrix:\n",
            "[[1185925     729]\n",
            " [ 131586  637160]]\n",
            "start train xgb method\n",
            "~~~~START TRAIN XGBOOST~~~~\n",
            "Time taken to fit the model: 5.990084171295166 seconds\n",
            "predict xgb\n",
            "Time taken to predict the model: 0.06963133811950684 seconds\n",
            "Accuracy 0.9596660529814872\n",
            "              precision    recall  f1-score   support\n",
            "\n",
            "           0       1.00      0.94      0.97   1186654\n",
            "           1       0.91      0.99      0.95    768746\n",
            "\n",
            "    accuracy                           0.96   1955400\n",
            "   macro avg       0.95      0.97      0.96   1955400\n",
            "weighted avg       0.96      0.96      0.96   1955400\n",
            "\n",
            "Confusion Matrix:\n",
            "[[1112791   73863]\n",
            " [   5006  763740]]\n",
            "start train knn method\n",
            "~~~~START TRAIN KNN~~~~\n",
            "Time taken to fit the model: 47.95352554321289 seconds\n",
            "predict knn\n",
            "Time taken to predict the model: 12569.43472623825 seconds\n",
            "Accuracy 0.9605364631277488\n",
            "              precision    recall  f1-score   support\n",
            "\n",
            "           0       0.94      1.00      0.97   1186654\n",
            "           1       1.00      0.90      0.95    768746\n",
            "\n",
            "    accuracy                           0.96   1955400\n",
            "   macro avg       0.97      0.95      0.96   1955400\n",
            "weighted avg       0.96      0.96      0.96   1955400\n",
            "\n",
            "Confusion Matrix:\n",
            "[[1186575      79]\n",
            " [  77088  691658]]\n"
          ]
        }
      ]
    },
    {
      "cell_type": "code",
      "source": [
        "training_methods(data_test_2018_corrected_resample, methods, True, False)\n"
      ],
      "metadata": {
        "colab": {
          "base_uri": "https://localhost:8080/"
        },
        "id": "hOSvhhnF_UP7",
        "outputId": "a7d2abbd-f14e-4bed-edad-7302f91ac61f"
      },
      "execution_count": null,
      "outputs": [
        {
          "output_type": "stream",
          "name": "stdout",
          "text": [
            "start train rf method\n",
            "~~~~START TRAIN RANDOM FOREST~~~~\n",
            "Time taken to fit the model: 16.643484354019165 seconds\n",
            "predict rf\n",
            "Time taken to predict the model: 0.5202701091766357 seconds\n",
            "Accuracy 0.94421158054824\n",
            "              precision    recall  f1-score   support\n",
            "\n",
            "           0       0.90      1.00      0.95    768657\n",
            "           1       1.00      0.89      0.94    768006\n",
            "\n",
            "    accuracy                           0.94   1536663\n",
            "   macro avg       0.95      0.94      0.94   1536663\n",
            "weighted avg       0.95      0.94      0.94   1536663\n",
            "\n",
            "Confusion Matrix:\n",
            "[[768030    627]\n",
            " [ 85101 682905]]\n",
            "start train xgb method\n",
            "~~~~START TRAIN XGBOOST~~~~\n",
            "Time taken to fit the model: 28.249504327774048 seconds\n",
            "predict xgb\n",
            "Time taken to predict the model: 0.481398344039917 seconds\n",
            "Accuracy 0.972394077296063\n",
            "              precision    recall  f1-score   support\n",
            "\n",
            "           0       1.00      0.95      0.97    768657\n",
            "           1       0.95      1.00      0.97    768006\n",
            "\n",
            "    accuracy                           0.97   1536663\n",
            "   macro avg       0.97      0.97      0.97   1536663\n",
            "weighted avg       0.97      0.97      0.97   1536663\n",
            "\n",
            "Confusion Matrix:\n",
            "[[729873  38784]\n",
            " [  3637 764369]]\n",
            "start train knn method\n",
            "~~~~START TRAIN KNN~~~~\n",
            "Time taken to fit the model: 46.534523487091064 seconds\n",
            "predict knn\n",
            "Time taken to predict the model: 11147.591931343079 seconds\n",
            "Accuracy 0.9749027600716618\n",
            "              precision    recall  f1-score   support\n",
            "\n",
            "           0       1.00      0.95      0.97    768657\n",
            "           1       0.95      1.00      0.98    768006\n",
            "\n",
            "    accuracy                           0.97   1536663\n",
            "   macro avg       0.98      0.97      0.97   1536663\n",
            "weighted avg       0.98      0.97      0.97   1536663\n",
            "\n",
            "Confusion Matrix:\n",
            "[[730334  38323]\n",
            " [   243 767763]]\n"
          ]
        }
      ]
    },
    {
      "cell_type": "code",
      "source": [
        "data_test_2018_corrected.to_parquet('/content/onedrive/test_result/data_test_2018_corrected.parquet', index = False, compression=None, engine='fastparquet')\n",
        "data_test_2018_corrected_resample.to_parquet('/content/onedrive/test_result/data_test_2018_corrected_resample.parquet', index = False, compression=None, engine='fastparquet')"
      ],
      "metadata": {
        "id": "k-dYiQdv_ZMt"
      },
      "execution_count": null,
      "outputs": []
    },
    {
      "cell_type": "code",
      "source": [
        "data_test_2018_corrected_resample.to_parquet('/content/onedrive/test_result/data_test_2018_corrected_resample.parquet', index = False, compression=None, engine='fastparquet')"
      ],
      "metadata": {
        "id": "mTQYqMoYN2q8"
      },
      "execution_count": null,
      "outputs": []
    },
    {
      "cell_type": "code",
      "source": [],
      "metadata": {
        "id": "zwur0H7NZsFj"
      },
      "execution_count": null,
      "outputs": []
    },
    {
      "cell_type": "code",
      "source": [],
      "metadata": {
        "id": "y5lRSfq0lrtO"
      },
      "execution_count": null,
      "outputs": []
    },
    {
      "cell_type": "code",
      "source": [],
      "metadata": {
        "id": "CPjrzakJlrv6"
      },
      "execution_count": null,
      "outputs": []
    },
    {
      "cell_type": "code",
      "source": [],
      "metadata": {
        "id": "i3r2yLfWlryl"
      },
      "execution_count": null,
      "outputs": []
    },
    {
      "cell_type": "markdown",
      "source": [
        "### Experiment"
      ],
      "metadata": {
        "id": "8Y_KcZfYlsAs"
      }
    },
    {
      "cell_type": "code",
      "source": [
        "common_feature_item = ['Bwd Packet Length Mean',\n",
        "                       'Bwd Packet Length Max',\n",
        "                       'Avg Bwd Segment Size',\n",
        "                       'Max Packet Length',\n",
        "                       'Total Length of Fwd Packets',\n",
        "                       'Total Length of Bwd Packets',\n",
        "                       'Total Backward Packets',\n",
        "                       'label_encoded']"
      ],
      "metadata": {
        "id": "ky2r880jl8y9"
      },
      "execution_count": 27,
      "outputs": []
    },
    {
      "cell_type": "code",
      "source": [
        "data2017_original = data2017_original[common_feature_item]"
      ],
      "metadata": {
        "id": "yY6aZqXxl2MR"
      },
      "execution_count": 29,
      "outputs": []
    },
    {
      "cell_type": "code",
      "source": [
        "X_train, X_test, y_train, y_test = split_data(data2017_original)\n",
        "\n",
        "X_train, X_test = normalise_data(X_train, X_test)"
      ],
      "metadata": {
        "id": "dbqJvvT2ltZt",
        "colab": {
          "base_uri": "https://localhost:8080/"
        },
        "outputId": "69ddab8e-4855-413d-8711-5ae0f077af14"
      },
      "execution_count": 30,
      "outputs": [
        {
          "output_type": "stream",
          "name": "stdout",
          "text": [
            "Number of rows of train data: 2016638\n",
            "Number of columns of train data: 7\n",
            "Number of rows of test data: 504160\n",
            "Number of columns of test data: 7\n",
            "------------------------------------------\n",
            "train - benign: 1676159; attack: 340479\n",
            "test - benign: 418898; attack: 85262\n"
          ]
        }
      ]
    },
    {
      "cell_type": "code",
      "source": [
        "data_test_2017_original = pd.DataFrame()"
      ],
      "metadata": {
        "id": "mm-D_-FhDOrX"
      },
      "execution_count": 31,
      "outputs": []
    },
    {
      "cell_type": "code",
      "source": [
        "training_methods(data_test_2017_original, methods, False, True)"
      ],
      "metadata": {
        "id": "KzJPuVzynw3k",
        "colab": {
          "base_uri": "https://localhost:8080/"
        },
        "outputId": "054d690f-b888-4aae-cb8a-863bdb361c13"
      },
      "execution_count": 32,
      "outputs": [
        {
          "output_type": "stream",
          "name": "stdout",
          "text": [
            "start train rf method\n",
            "~~~~START TRAIN RANDOM FOREST~~~~\n",
            "Time taken to fit the model: 2.052912473678589 seconds\n",
            "predict rf\n",
            "Time taken to predict the model: 0.11736464500427246 seconds\n",
            "Accuracy 0.939364487464297\n",
            "              precision    recall  f1-score   support\n",
            "\n",
            "           0       0.94      0.99      0.96    418898\n",
            "           1       0.96      0.67      0.79     85262\n",
            "\n",
            "    accuracy                           0.94    504160\n",
            "   macro avg       0.95      0.83      0.88    504160\n",
            "weighted avg       0.94      0.94      0.93    504160\n",
            "\n",
            "Confusion Matrix:\n",
            "[[416544   2354]\n",
            " [ 28216  57046]]\n",
            "start train xgb method\n",
            "~~~~START TRAIN XGBOOST~~~~\n",
            "Time taken to fit the model: 0.9819540977478027 seconds\n",
            "predict xgb\n",
            "Time taken to predict the model: 0.014876365661621094 seconds\n",
            "Accuracy 0.9789927800698192\n",
            "              precision    recall  f1-score   support\n",
            "\n",
            "           0       0.98      0.99      0.99    418898\n",
            "           1       0.97      0.90      0.94     85262\n",
            "\n",
            "    accuracy                           0.98    504160\n",
            "   macro avg       0.98      0.95      0.96    504160\n",
            "weighted avg       0.98      0.98      0.98    504160\n",
            "\n",
            "Confusion Matrix:\n",
            "[[416555   2343]\n",
            " [  8248  77014]]\n",
            "start train knn method\n",
            "~~~~START TRAIN KNN~~~~\n",
            "Time taken to fit the model: 5.39167594909668 seconds\n",
            "predict knn\n",
            "Time taken to predict the model: 525.7553000450134 seconds\n",
            "Accuracy 0.9880216597905427\n",
            "              precision    recall  f1-score   support\n",
            "\n",
            "           0       0.99      1.00      0.99    418898\n",
            "           1       0.99      0.94      0.96     85262\n",
            "\n",
            "    accuracy                           0.99    504160\n",
            "   macro avg       0.99      0.97      0.98    504160\n",
            "weighted avg       0.99      0.99      0.99    504160\n",
            "\n",
            "Confusion Matrix:\n",
            "[[417988    910]\n",
            " [  5129  80133]]\n"
          ]
        }
      ]
    },
    {
      "cell_type": "code",
      "source": [
        "feature_extract_item.append('Total Length of Fwd Packets')\n",
        "feature_extract_item.append('Total Length of Bwd Packets')\n",
        "feature_extract_item.append('Total Backward Packets')"
      ],
      "metadata": {
        "id": "pITXSLjwDWOR"
      },
      "execution_count": 31,
      "outputs": []
    },
    {
      "cell_type": "code",
      "source": [
        "feature_extract_item"
      ],
      "metadata": {
        "colab": {
          "base_uri": "https://localhost:8080/"
        },
        "id": "GkOZ96BM2mu-",
        "outputId": "7c81f831-d509-4938-eb41-933adc263582"
      },
      "execution_count": 32,
      "outputs": [
        {
          "output_type": "execute_result",
          "data": {
            "text/plain": [
              "['Packet Length Std',\n",
              " 'Bwd Packet Length Std',\n",
              " 'Packet Length Variance',\n",
              " 'Bwd Packet Length Mean',\n",
              " 'Average Packet Size',\n",
              " 'Bwd Packet Length Max',\n",
              " 'Avg Bwd Segment Size',\n",
              " 'Packet Length Mean',\n",
              " 'Max Packet Length',\n",
              " 'Subflow Bwd Bytes',\n",
              " 'label_encoded',\n",
              " 'Total Length of Fwd Packets',\n",
              " 'Total Length of Bwd Packets',\n",
              " 'Total Backward Packets']"
            ]
          },
          "metadata": {},
          "execution_count": 32
        }
      ]
    },
    {
      "cell_type": "code",
      "source": [
        "data2017_original = data2017_original[feature_extract_item]\n",
        "X_train, X_test, y_train, y_test = split_data(data2017_original)\n",
        "\n",
        "X_train, X_test = normalise_data(X_train, X_test)\n",
        "\n",
        "data_test_2017_original = pd.DataFrame()\n",
        "\n",
        "training_methods(data_test_2017_original, methods, False, True)\n",
        "\n"
      ],
      "metadata": {
        "colab": {
          "base_uri": "https://localhost:8080/"
        },
        "id": "RCwXV_Fc102Y",
        "outputId": "9a909825-3599-4dc8-e508-c742a34c3b77"
      },
      "execution_count": 33,
      "outputs": [
        {
          "output_type": "stream",
          "name": "stdout",
          "text": [
            "Number of rows of train data: 2016638\n",
            "Number of columns of train data: 13\n",
            "Number of rows of test data: 504160\n",
            "Number of columns of test data: 13\n",
            "------------------------------------------\n",
            "train - benign: 1676159; attack: 340479\n",
            "test - benign: 418898; attack: 85262\n",
            "start train rf method\n",
            "~~~~START TRAIN RANDOM FOREST~~~~\n",
            "Time taken to fit the model: 2.0241663455963135 seconds\n",
            "predict rf\n",
            "Time taken to predict the model: 0.11269807815551758 seconds\n",
            "Accuracy 0.9575115042843542\n",
            "              precision    recall  f1-score   support\n",
            "\n",
            "           0       0.95      1.00      0.98    418898\n",
            "           1       0.99      0.76      0.86     85262\n",
            "\n",
            "    accuracy                           0.96    504160\n",
            "   macro avg       0.97      0.88      0.92    504160\n",
            "weighted avg       0.96      0.96      0.96    504160\n",
            "\n",
            "Confusion Matrix:\n",
            "[[417960    938]\n",
            " [ 20483  64779]]\n",
            "start train xgb method\n",
            "~~~~START TRAIN XGBOOST~~~~\n",
            "Time taken to fit the model: 4.557537794113159 seconds\n",
            "predict xgb\n",
            "Time taken to predict the model: 0.04049968719482422 seconds\n",
            "Accuracy 0.9721140114249445\n",
            "              precision    recall  f1-score   support\n",
            "\n",
            "           0       0.98      0.98      0.98    418898\n",
            "           1       0.92      0.91      0.92     85262\n",
            "\n",
            "    accuracy                           0.97    504160\n",
            "   macro avg       0.95      0.95      0.95    504160\n",
            "weighted avg       0.97      0.97      0.97    504160\n",
            "\n",
            "Confusion Matrix:\n",
            "[[412103   6795]\n",
            " [  7264  77998]]\n",
            "start train knn method\n",
            "~~~~START TRAIN KNN~~~~\n",
            "Time taken to fit the model: 7.971537828445435 seconds\n",
            "predict knn\n",
            "Time taken to predict the model: 688.0227007865906 seconds\n",
            "Accuracy 0.9897592034274834\n",
            "              precision    recall  f1-score   support\n",
            "\n",
            "           0       0.99      1.00      0.99    418898\n",
            "           1       0.99      0.95      0.97     85262\n",
            "\n",
            "    accuracy                           0.99    504160\n",
            "   macro avg       0.99      0.97      0.98    504160\n",
            "weighted avg       0.99      0.99      0.99    504160\n",
            "\n",
            "Confusion Matrix:\n",
            "[[418368    530]\n",
            " [  4633  80629]]\n"
          ]
        }
      ]
    },
    {
      "cell_type": "code",
      "source": [],
      "metadata": {
        "id": "C16fOs5z1-bq"
      },
      "execution_count": null,
      "outputs": []
    }
  ],
  "metadata": {
    "colab": {
      "provenance": [],
      "machine_shape": "hm",
      "collapsed_sections": [
        "qK-vfIqa7H0I",
        "nQUwnWRJ47sC",
        "XbJ7OqFI47sH",
        "EuK4WF1Fr41g",
        "7EdmS9rm47sL",
        "8R-wUgaTwFh7",
        "D6gjoraLtAhz",
        "7hjXXEWR36Zx",
        "P6Ed_YEQ47sU",
        "vuluQ2DR47sU"
      ],
      "gpuType": "T4"
    },
    "kernelspec": {
      "display_name": "Python 3",
      "name": "python3"
    },
    "language_info": {
      "name": "python"
    },
    "accelerator": "GPU"
  },
  "nbformat": 4,
  "nbformat_minor": 0
}